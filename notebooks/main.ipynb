{
 "cells": [
  {
   "cell_type": "code",
   "execution_count": 382,
   "metadata": {},
   "outputs": [],
   "source": [
    "import pandas as pd\n",
    "import numpy as np\n",
    "from sqlalchemy import create_engine\n",
    "from dotenv import load_dotenv\n",
    "import os\n",
    "load_dotenv()\n",
    "\n",
    "import plotly.express as px\n",
    "import seaborn as sns\n",
    "import matplotlib.pyplot as plt\n",
    "\n",
    "from sklearn.decomposition import PCA\n"
   ]
  },
  {
   "cell_type": "markdown",
   "metadata": {},
   "source": [
    "# MySQL table import"
   ]
  },
  {
   "cell_type": "code",
   "execution_count": 383,
   "metadata": {},
   "outputs": [],
   "source": [
    "# Importa del archivo .env los datos de conexión a MySQl de forma segura\n",
    "host = os.getenv('host')\n",
    "database = os.getenv('database')\n",
    "user = os.getenv('user')\n",
    "port = os.getenv('port')\n",
    "password = os.getenv('password')"
   ]
  },
  {
   "cell_type": "code",
   "execution_count": 384,
   "metadata": {},
   "outputs": [],
   "source": [
    "# Crea la conexión a la base de datos MySQL utilizando la bublioteca SQLAlchemy\n",
    "engine = create_engine(f'mysql+mysqlconnector://{user}:{password}@{host}:{port}/{database}')"
   ]
  },
  {
   "cell_type": "code",
   "execution_count": 385,
   "metadata": {},
   "outputs": [],
   "source": [
    "# Fuerza que se muestren todas las columnas de los dataframes\n",
    "pd.set_option('display.max_columns', None)\n",
    "\n",
    "# Importa la tabla limpia de MySQL accident\n",
    "accident = pd.read_sql('SELECT * from final_project.accident', con=engine,dtype='object')\n",
    "\n",
    "# Importa la tabla limpia de MySQL distract\n",
    "distract = pd.read_sql('SELECT * from final_project.distract', con=engine,dtype='object')\n",
    "\n",
    "# Importa la tabla limpia de MySQL drugs\n",
    "drugs = pd.read_sql('SELECT * from final_project.drugs', con=engine,dtype='object')\n",
    "\n",
    "# Importa la tabla limpia de MySQL maneuver\n",
    "maneuver = pd.read_sql('SELECT * from final_project.maneuver', con=engine,dtype='object')\n",
    "\n",
    "# Importa la tabla limpia de MySQL person\n",
    "person = pd.read_sql('SELECT * from final_project.person', con=engine,dtype='object')\n",
    "\n",
    "# Importa la tabla limpia de MySQL vehicle\n",
    "vehicle = pd.read_sql('SELECT * from final_project.vehicle', con=engine,dtype='object')\n",
    "\n",
    "# Importa la tabla limpia de MySQL weather\n",
    "weather = pd.read_sql('SELECT * from final_project.weather', con=engine,dtype='object')"
   ]
  },
  {
   "cell_type": "markdown",
   "metadata": {},
   "source": [
    "# ABT & final dataframe creation"
   ]
  },
  {
   "cell_type": "markdown",
   "metadata": {},
   "source": [
    "### 'person' edition"
   ]
  },
  {
   "cell_type": "code",
   "execution_count": 386,
   "metadata": {},
   "outputs": [],
   "source": [
    "# Elimina las columnas innecesarias de 'person'\n",
    "columns_to_drop = ['ID', 'PER_NO', 'VEH_NO', 'TYPE_OF_PERSON', 'INJ_SEV', 'SEAT_POS', 'REST_MIS', 'HELM_MIS', 'DRINKING']\n",
    "person = person.drop(columns=columns_to_drop)"
   ]
  },
  {
   "cell_type": "code",
   "execution_count": 387,
   "metadata": {},
   "outputs": [],
   "source": [
    "# Convierte la columna categórica SEX en booleana\n",
    "person = pd.get_dummies(person, columns = ['SEX', 'TYPE_OF_PERSONNAME', 'INJ_SEVNAME', 'SEAT_POSNAME', 'REST_MISNAME', 'HELM_MISNAME', 'DRINKINGNAME'])"
   ]
  },
  {
   "cell_type": "code",
   "execution_count": 388,
   "metadata": {},
   "outputs": [],
   "source": [
    "# Crea una función que suma los 'True' de los valores booleanos\n",
    "def true_sum(series):\n",
    "    return series.sum()"
   ]
  },
  {
   "cell_type": "code",
   "execution_count": 389,
   "metadata": {},
   "outputs": [],
   "source": [
    "# Agrupa la tabla 'person' creando medias según la edad de todos los pasajeros en cada accidente y completa con 0 o 1 el resto de valores categóricos\n",
    "person = person.groupby('ST_CASE').agg({'AGE':'mean', 'SEX_Female':true_sum, 'SEX_Male':true_sum, 'SEX_Unknown':true_sum, 'TYPE_OF_PERSONNAME_Bicyclist':true_sum,\\\n",
    "    'TYPE_OF_PERSONNAME_Bicyclist or similar':true_sum, 'TYPE_OF_PERSONNAME_Driver':true_sum, 'TYPE_OF_PERSONNAME_Occupant parked vehicle':true_sum, 'TYPE_OF_PERSONNAME_Passenger':true_sum,\\\n",
    "        'TYPE_OF_PERSONNAME_Pedestrian':true_sum, 'TYPE_OF_PERSONNAME_Person in a building':true_sum, 'TYPE_OF_PERSONNAME_Unknown':true_sum, 'INJ_SEVNAME_Died Prior to Crash':true_sum,\\\n",
    "            'INJ_SEVNAME_Fatal Injury':true_sum, 'INJ_SEVNAME_Injured, Severity Unknown':true_sum, 'INJ_SEVNAME_No Apparent Injury':true_sum, 'INJ_SEVNAME_Possible Injury':true_sum,\\\n",
    "                'INJ_SEVNAME_Suspected Minor Injury':true_sum, 'INJ_SEVNAME_Suspected Serious Injury':true_sum, 'INJ_SEVNAME_Unknown/Not Reported':true_sum, 'SEAT_POSNAME_Back':true_sum,\\\n",
    "                    'SEAT_POSNAME_Back left':true_sum, 'SEAT_POSNAME_Back middle':true_sum, 'SEAT_POSNAME_Back right':true_sum, 'SEAT_POSNAME_Front':true_sum, 'SEAT_POSNAME_Front left':true_sum,\\\n",
    "                        'SEAT_POSNAME_Front middle':true_sum, 'SEAT_POSNAME_Front right':true_sum, 'SEAT_POSNAME_Not regular vehicle':true_sum, 'SEAT_POSNAME_Unknown':true_sum, 'REST_MISNAME_No Indication of Misuse':true_sum,\\\n",
    "                            'REST_MISNAME_None Used/Not Applicable':true_sum, 'REST_MISNAME_Not a Motor Vehicle Occupant':true_sum, 'REST_MISNAME_Yes, Indication of Misuse':true_sum,\\\n",
    "                                'HELM_MISNAME_No Indication of Misuse':true_sum, 'HELM_MISNAME_None Used/Not Applicable':true_sum, 'HELM_MISNAME_Not a Motor Vehicle Occupant':true_sum,\\\n",
    "                                    'HELM_MISNAME_Yes, Indication of Misuse':true_sum, 'DRINKINGNAME_No (Alcohol Not Involved)':true_sum,'DRINKINGNAME_Not Reported':true_sum, 'DRINKINGNAME_Reported as Unknown':true_sum,\\\n",
    "                                        'DRINKINGNAME_Yes (Alcohol Involved)':true_sum}).reset_index()"
   ]
  },
  {
   "cell_type": "code",
   "execution_count": 390,
   "metadata": {},
   "outputs": [],
   "source": [
    "# Elimina las columnas innecesarias de 'person'\n",
    "columns_to_drop = ['SEX_Unknown', 'TYPE_OF_PERSONNAME_Unknown', 'INJ_SEVNAME_Unknown/Not Reported', 'SEAT_POSNAME_Unknown', 'REST_MISNAME_No Indication of Misuse', 'REST_MISNAME_None Used/Not Applicable',\\\n",
    "    'REST_MISNAME_Not a Motor Vehicle Occupant', 'HELM_MISNAME_No Indication of Misuse', 'HELM_MISNAME_None Used/Not Applicable', 'HELM_MISNAME_Not a Motor Vehicle Occupant', 'DRINKINGNAME_No (Alcohol Not Involved)',\\\n",
    "        'DRINKINGNAME_Not Reported', 'DRINKINGNAME_Reported as Unknown']\n",
    "person = person.drop(columns=columns_to_drop)"
   ]
  },
  {
   "cell_type": "code",
   "execution_count": 391,
   "metadata": {},
   "outputs": [
    {
     "name": "stderr",
     "output_type": "stream",
     "text": [
      "<>:4: SyntaxWarning: invalid escape sequence '\\S'\n",
      "<>:4: SyntaxWarning: invalid escape sequence '\\S'\n",
      "C:\\Users\\perez\\AppData\\Local\\Temp\\ipykernel_23928\\2662490717.py:4: SyntaxWarning: invalid escape sequence '\\S'\n",
      "  'INJ_SEVNAME_Injured, Severity Unknown': 'Injured_Severity_Unknown', 'INJ_SEVNAME_Injured,\\Severity Unknown':'Injured_Severity_Unknown', 'INJ_SEVNAME_No Apparent Injury':'No_Apparent_Injury',\\\n"
     ]
    }
   ],
   "source": [
    "person = person.rename(columns={'AGE':'Age', 'SEX_Female':'Female', 'SEX_Male':'Male', 'TYPE_OF_PERSONNAME_Bicyclist':'Bicyclist', 'TYPE_OF_PERSONNAME_Bicyclist or similar':'Similar_To_Bicyclist',\\\n",
    "    'TYPE_OF_PERSONNAME_Driver':'Driver', 'TYPE_OF_PERSONNAME_Occupant parked vehicle':'Occupant_Parked_Vehicle', 'TYPE_OF_PERSONNAME_Passenger':'Passenger', 'TYPE_OF_PERSONNAME_Pedestrian':'Pedestrian',\\\n",
    "        'TYPE_OF_PERSONNAME_Person in a building':'Person_In_A_Building', 'INJ_SEVNAME_Died Prior to Crash':'Died_Prior_To_Crash', 'INJ_SEVNAME_Fatal Injury':'Fatal_Injury',\\\n",
    "            'INJ_SEVNAME_Injured, Severity Unknown': 'Injured_Severity_Unknown', 'INJ_SEVNAME_Injured,\\Severity Unknown':'Injured_Severity_Unknown', 'INJ_SEVNAME_No Apparent Injury':'No_Apparent_Injury',\\\n",
    "                'INJ_SEVNAME_Possible Injury':'Possible_Injury', 'INJ_SEVNAME_Suspected Minor Injury':'Suspected_Minor_Injury', 'INJ_SEVNAME_Suspected Serious Injury':'Suspected_Serious_Injury', 'SEAT_POSNAME_Back':'Seat_Back',\\\n",
    "                    'SEAT_POSNAME_Back left':'Seat_Back_Left', 'SEAT_POSNAME_Back middle':'Seat_Back_Middle', 'SEAT_POSNAME_Back right':'Seat_Back_Right', 'SEAT_POSNAME_Front':'Seat_Front',\\\n",
    "                        'SEAT_POSNAME_Front left':'Seat_Front_Left', 'SEAT_POSNAME_Front middle':'Seat_Front_Middle', 'SEAT_POSNAME_Front right':'Seat_Front_Right', 'SEAT_POSNAME_Not regular vehicle':'Seat_Not_Regular_Vehicle',\\\n",
    "                            'REST_MISNAME_Yes, Indication of Misuse':'Restraint_Misuse', 'HELM_MISNAME_Yes, Indication of Misuse':'Helm_Misuse', 'DRINKINGNAME_Yes (Alcohol Involved)':'Drinking_Involved'})"
   ]
  },
  {
   "cell_type": "markdown",
   "metadata": {},
   "source": [
    "### 'vehicle' edition"
   ]
  },
  {
   "cell_type": "code",
   "execution_count": 392,
   "metadata": {},
   "outputs": [],
   "source": [
    "# Elimina las columnas innecesarias de 'vehicle'\n",
    "columns_to_drop = ['ID', 'VEH_NO', 'VEHICLE_TYPE', 'VEHICLE_MANUFACTURER',  'VEHICLE_MANUFACTURERNAME', 'VEHICLE_MODEL', 'VEHICLE_MODELNAME', 'VEHICLE_CLASS', 'VEHICLE_CLASSNAME', 'VEHICLE_WEIGHT', 'BUS_USE', 'BUS_USENAME',\\\n",
    "    'SPEC_USE', 'SPEC_USENAME', 'EMER_USE', 'EMER_USENAME', 'NUMOCCS', 'ROLLOVER', 'ROLLOVERNAME', 'ROLINLOC', 'ROLINLOCNAME', 'IMPACT1', 'TOWED', 'TOWEDNAME', 'ROAD_CONDITION', 'ACC_TYPE', 'DRIVERS_PRESENCE',\\\n",
    "        'DRIVERS_PRESENCENAME', 'LICENSE_COMPLIANCE', 'LICENSE_RESTRICTION', 'SPEEDREL', 'HIT_RUN']\n",
    "vehicle = vehicle.drop(columns=columns_to_drop)"
   ]
  },
  {
   "cell_type": "code",
   "execution_count": 393,
   "metadata": {},
   "outputs": [],
   "source": [
    "# Convierte las columnas categóricas en booleanas\n",
    "vehicle = pd.get_dummies(vehicle, columns = ['VEHICLE_TYPENAME', 'VEHICLE_WEIGHTNAME', 'IMPACT1NAME', 'ROAD_CONDITIONNAME', 'ACC_TYPENAME', 'LICENSE_COMPLIANCENAME', 'LICENSE_RESTRICTIONNAME', 'SPEEDRELNAME', 'HIT_RUNNAME'])"
   ]
  },
  {
   "cell_type": "code",
   "execution_count": 394,
   "metadata": {},
   "outputs": [],
   "source": [
    "# Filtra los valores de 'PREVIOUS_ACCIDENT' de 'vehicle' para eliminar los outliers que son posiblemente errores\n",
    "vehicle = vehicle[(vehicle['PREVIOUS_ACCIDENT'] < 50)]"
   ]
  },
  {
   "cell_type": "code",
   "execution_count": 395,
   "metadata": {},
   "outputs": [],
   "source": [
    "# Filtra los valores de MOD_YEAR entre 1900 y 2022\n",
    "vehicle = vehicle[(vehicle['MOD_YEAR'] >= 1900) & (vehicle['MOD_YEAR'] <= 2022)]"
   ]
  },
  {
   "cell_type": "code",
   "execution_count": 396,
   "metadata": {},
   "outputs": [],
   "source": [
    "# Elimina las columnas innecesarias de 'vehicle'\n",
    "columns_to_drop = ['VEHICLE_TYPENAME_Not Reported', 'VEHICLE_WEIGHTNAME_Unknown', 'IMPACT1NAME_Unknown', 'ROAD_CONDITIONNAME_Unknown', 'ACC_TYPENAME_Specifics Unknown', 'ACC_TYPENAME_Unknown', 'LICENSE_COMPLIANCENAME_Unknown',\\\n",
    "    'LICENSE_COMPLIANCENAME_Valid license for this class vehicle', 'LICENSE_RESTRICTIONNAME_Restrictions Complied With', 'LICENSE_RESTRICTIONNAME_Restrictions, Compliance Unknown', 'LICENSE_RESTRICTIONNAME_Unknown',\\\n",
    "        'SPEEDRELNAME_Unknown']\n",
    "vehicle = vehicle.drop(columns=columns_to_drop)"
   ]
  },
  {
   "cell_type": "code",
   "execution_count": 397,
   "metadata": {},
   "outputs": [],
   "source": [
    "# Agrupa la tabla 'vehicle' creando medias de todos los valores numéricos y completa con 0 o 1 los valores categóricos\n",
    "vehicle = vehicle.groupby('ST_CASE').agg({'MOD_YEAR':'mean', 'PREVIOUS_ACCIDENT':'mean', 'PREVIOUS_SUSPENSION':'mean', 'PREVIOUS_DRIVING_WHILE_INTOXIDATED':'mean', 'PREVIOUS_SPEED_CONVICT':'mean',\\\n",
    "    'VEHICLE_TYPENAME_2-door sedan':true_sum, 'VEHICLE_TYPENAME_All-Terrain Cycle':true_sum, 'VEHICLE_TYPENAME_Body type':true_sum, 'VEHICLE_TYPENAME_Bus':true_sum, 'VEHICLE_TYPENAME_Cab Chassis Based':true_sum,\\\n",
    "        'VEHICLE_TYPENAME_Compact Utility':true_sum, 'VEHICLE_TYPENAME_Convertible':true_sum, 'VEHICLE_TYPENAME_Coupe':true_sum, 'VEHICLE_TYPENAME_Golf Cart':true_sum, 'VEHICLE_TYPENAME_Large utility':true_sum,\\\n",
    "            'VEHICLE_TYPENAME_Low Speed Vehicle':true_sum, 'VEHICLE_TYPENAME_Minivan':true_sum, 'VEHICLE_TYPENAME_Moped':true_sum, 'VEHICLE_TYPENAME_Motor Scooter':true_sum, 'VEHICLE_TYPENAME_Motor home':true_sum,\\\n",
    "                'VEHICLE_TYPENAME_Motorcycle':true_sum, 'VEHICLE_TYPENAME_Motored cycle type':true_sum, 'VEHICLE_TYPENAME_Pickup':true_sum, 'VEHICLE_TYPENAME_Recreational Off-Highway Vehicle':true_sum,\\\n",
    "                    'VEHICLE_TYPENAME_School Bus':true_sum, 'VEHICLE_TYPENAME_Sedan':true_sum, 'VEHICLE_TYPENAME_Snowmobile':true_sum, 'VEHICLE_TYPENAME_Solar electric':true_sum, 'VEHICLE_TYPENAME_Station Wagon':true_sum,\\\n",
    "                        'VEHICLE_TYPENAME_Truck':true_sum, 'VEHICLE_TYPENAME_Truck-tractor':true_sum, 'VEHICLE_TYPENAME_Utility vehicle':true_sum, 'VEHICLE_TYPENAME_Van':true_sum, 'VEHICLE_TYPENAME_Van-Based Bus GVWR':true_sum,\\\n",
    "                            'VEHICLE_WEIGHTNAME_11,794 - 14,969 kg':true_sum, 'VEHICLE_WEIGHTNAME_14,969 kg and above':true_sum, 'VEHICLE_WEIGHTNAME_2,722 - 4,536 kg':true_sum, 'VEHICLE_WEIGHTNAME_2,722 kg or less':true_sum,\\\n",
    "                                'VEHICLE_WEIGHTNAME_4,536 - 6,350 kg':true_sum, 'VEHICLE_WEIGHTNAME_6,350 - 7,258 kg':true_sum, 'VEHICLE_WEIGHTNAME_7,258 - 8,845 kg':true_sum, 'VEHICLE_WEIGHTNAME_8,845 - 11,794 kg':true_sum,\\\n",
    "                                    'IMPACT1NAME_Back':true_sum, 'IMPACT1NAME_Front':true_sum, 'IMPACT1NAME_Left':true_sum, 'IMPACT1NAME_Left-Back':true_sum, 'IMPACT1NAME_Left-Front':true_sum,\\\n",
    "                                        'IMPACT1NAME_Non-Collision':true_sum, 'IMPACT1NAME_Right':true_sum, 'IMPACT1NAME_Right-Back':true_sum, 'IMPACT1NAME_Right-Front':true_sum, 'IMPACT1NAME_Top':true_sum,\\\n",
    "                                            'IMPACT1NAME_Undercarriage':true_sum, 'IMPACT1NAME_Vehicle, Objects or Person Set-in-motion':true_sum, 'ROAD_CONDITIONNAME_Dry':true_sum, 'ROAD_CONDITIONNAME_Ice':true_sum,\\\n",
    "                                                'ROAD_CONDITIONNAME_Mud, Dirt or Gravel':true_sum, 'ROAD_CONDITIONNAME_Non-Trafficway':true_sum, 'ROAD_CONDITIONNAME_Oil':true_sum, 'ROAD_CONDITIONNAME_Snow':true_sum,\\\n",
    "                                                    'ROAD_CONDITIONNAME_Water':true_sum, 'ROAD_CONDITIONNAME_Wet':true_sum, 'ACC_TYPENAME_Avoid Collision With Object':true_sum,\\\n",
    "                                                        'ACC_TYPENAME_Avoid Collision With Veh., Ped., Anim.':true_sum, 'ACC_TYPENAME_Avoid Collision With Vehicle':true_sum,\\\n",
    "                                                            'ACC_TYPENAME_Avoid Collision with Vehicle':true_sum, 'ACC_TYPENAME_Backing Veh.':true_sum, 'ACC_TYPENAME_Changing Lanes to the Left':true_sum,\\\n",
    "                                                                'ACC_TYPENAME_Changing Lanes to the Right':true_sum, 'ACC_TYPENAME_Control/Traction Loss':true_sum, 'ACC_TYPENAME_Decelerating (Slowing)':true_sum,\\\n",
    "                                                                    'ACC_TYPENAME_Decelerating (Slowing), Going Left':true_sum, 'ACC_TYPENAME_Decelerating (Slowing), Going Right':true_sum,\\\n",
    "                                                                        'ACC_TYPENAME_Decelerating (Slowing), Going Straight':true_sum, 'ACC_TYPENAME_Drive Off Road':true_sum, 'ACC_TYPENAME_End Departure':true_sum,\\\n",
    "                                                                            'ACC_TYPENAME_Initial Opposite Directions (Going Straight)':true_sum, 'ACC_TYPENAME_Initial Opposite Directions (Left/Right)':true_sum,\\\n",
    "                                                                                'ACC_TYPENAME_Initial Same Directions (Going Straight)':true_sum, 'ACC_TYPENAME_Initial Same Directions (Turning Left)':true_sum,\\\n",
    "                                                                                    'ACC_TYPENAME_Initial Same Directions (Turning Right)':true_sum, 'ACC_TYPENAME_Lateral Move (Going Straight)':true_sum,\\\n",
    "                                                                                        'ACC_TYPENAME_Lateral Move (Left/Right)':true_sum, 'ACC_TYPENAME_No Impact':true_sum, 'ACC_TYPENAME_Other Crash Type':true_sum,\\\n",
    "                                                                                            'ACC_TYPENAME_Other Vehicle':true_sum, 'ACC_TYPENAME_Parked Veh.':true_sum, 'ACC_TYPENAME_Pedestrian/ Animal':true_sum,\\\n",
    "                                                                                                'ACC_TYPENAME_Slower':true_sum, 'ACC_TYPENAME_Slower, Going Left':true_sum, 'ACC_TYPENAME_Slower, Going Right':true_sum,\\\n",
    "                                                                                                    'ACC_TYPENAME_Slower, Going Straight':true_sum, 'ACC_TYPENAME_Specifics Other':true_sum, 'ACC_TYPENAME_Sta. Object':true_sum,\\\n",
    "                                                                                                        'ACC_TYPENAME_Stopped':true_sum, 'ACC_TYPENAME_Straight Ahead on Left':true_sum,\\\n",
    "                                                                                                            'ACC_TYPENAME_Straight Ahead on Left/Right':true_sum, 'ACC_TYPENAME_Striking from the Left':true_sum,\\\n",
    "                                                                                                                'ACC_TYPENAME_Striking from the Right':true_sum, 'ACC_TYPENAME_Struck on the Right':true_sum,\\\n",
    "                                                                                                                    'ACC_TYPENAME_Struck on the left':true_sum,\\\n",
    "                                                                                                                        'ACC_TYPENAME_Turn Into Opposite Directions (Going Straight)':true_sum,\\\n",
    "                                                                                                                            'ACC_TYPENAME_Turn Into Opposite Directions (Turning Left)':true_sum,\\\n",
    "                                                                                                                                'ACC_TYPENAME_Turn Into Opposite Directions (Turning Right)':true_sum,\\\n",
    "                                                                                                                                    'ACC_TYPENAME_Turn Into Same Direction (Going Straight)':true_sum,\\\n",
    "                                                                                                                                        'ACC_TYPENAME_Turn Into Same Direction (Turning Left)':true_sum,\\\n",
    "                                                                                                                                            'ACC_TYPENAME_Turn Into Same Direction (Turning Right)':true_sum,\\\n",
    "                                                                                                                                                'LICENSE_COMPLIANCENAME_No Driver Present/Unknown if Driver Present':true_sum,\\\n",
    "                                                                                                                                                    'LICENSE_COMPLIANCENAME_No license required for this class vehicle':true_sum,\\\n",
    "                                                                                                                                                        'LICENSE_COMPLIANCENAME_No valid license for this class vehicle':true_sum,\\\n",
    "                                                                                                                                                            'LICENSE_COMPLIANCENAME_Not licensed':true_sum,\\\n",
    "                                                                                                                                                                'LICENSE_RESTRICTIONNAME_No Driver Present/Unknown if Driver Present':true_sum,\\\n",
    "                                                                                                                                                                    'LICENSE_RESTRICTIONNAME_No Restrictions or Not Applicable':true_sum,\\\n",
    "                                                                                                                                                                        'LICENSE_RESTRICTIONNAME_Restrictions Not Complied With':true_sum,\\\n",
    "                                                                                                                                                                            'SPEEDRELNAME_No':true_sum, 'SPEEDRELNAME_Yes':true_sum,\\\n",
    "                                                                                                                                                                                'HIT_RUNNAME_No':true_sum, 'HIT_RUNNAME_Yes':true_sum})\\\n",
    "                                                                                                                                                                                    .reset_index()"
   ]
  },
  {
   "cell_type": "code",
   "execution_count": 398,
   "metadata": {},
   "outputs": [],
   "source": [
    "vehicle = vehicle.rename(columns={'MOD_YEAR':'Model_Year', 'PREVIOUS_ACCIDENT':'Previous_Accident', 'PREVIOUS_SUSPENSION':'Previous_Suspension', 'PREVIOUS_DRIVING_WHILE_INTOXIDATED':'Previous_Driving_Intoxidated',\\\n",
    "    'PREVIOUS_SPEED_CONVICT':'Previous_Speed_Convict', 'VEHICLE_TYPENAME_2-door sedan':'Veh_Sedan', 'VEHICLE_TYPENAME_All-Terrain Cycle':'Veh_All_Terrain_Cycle', 'VEHICLE_TYPENAME_Body type':'Veh_Utility',\\\n",
    "        'VEHICLE_TYPENAME_Bus':'Veh_Bus', 'VEHICLE_TYPENAME_Cab Chassis Based':'Veh_Cab_Chassis_Based', 'VEHICLE_TYPENAME_Compact Utility':'Veh_Compact_Utility', 'VEHICLE_TYPENAME_Convertible':'Veh_Convertible',\\\n",
    "            'VEHICLE_TYPENAME_Coupe':'Veh_Coupe', 'VEHICLE_TYPENAME_Golf Cart':'Veh_Golf_cart', 'VEHICLE_TYPENAME_Large utility':'Veh_Large_Utility', 'VEHICLE_TYPENAME_Low Speed Vehicle':'Veh_Low_Speed',\\\n",
    "                'VEHICLE_TYPENAME_Minivan':'Veh_Minivan', 'VEHICLE_TYPENAME_Moped':'Veh_Moped', 'VEHICLE_TYPENAME_Motor Scooter':'Veh_Motor_Scooter', 'VEHICLE_TYPENAME_Motor home':'Veh_Motor_Home',\\\n",
    "                    'VEHICLE_TYPENAME_Motorcycle':'Veh_Motorcycle', 'VEHICLE_TYPENAME_Motored cycle type':'Veh_Motorcycle', 'VEHICLE_TYPENAME_Pickup':'Veh_Pickup',\\\n",
    "                        'VEHICLE_TYPENAME_Recreational Off-Highway Vehicle':'Veh_Recreational_OffHighWay', 'VEHICLE_TYPENAME_School Bus':'Veh_SchoolBus', 'VEHICLE_TYPENAME_Sedan':'Veh_Sedan',\\\n",
    "                            'VEHICLE_TYPENAME_Snowmobile':'Veh_Snowmobile', 'VEHICLE_TYPENAME_Solar electric':'Veh_Solar_Electric', 'VEHICLE_TYPENAME_Station Wagon':'Veh_Station_Wagon', 'VEHICLE_TYPENAME_Truck':'Veh_Truck',\\\n",
    "                                'VEHICLE_TYPENAME_Truck-tractor':'Veh_TruckTractor', 'VEHICLE_TYPENAME_Utility vehicle':'Veh_Utility', 'VEHICLE_TYPENAME_Van':'Veh_Van', 'VEHICLE_TYPENAME_Van-Based Bus GVWR':'Veh_VanBus',\\\n",
    "                                    'VEHICLE_WEIGHTNAME_11,794 - 14,969 kg':'11,794-14,969 kg', 'VEHICLE_WEIGHTNAME_14,969 kg and above':'14,969 kg and above', 'VEHICLE_WEIGHTNAME_2,722 - 4,536 kg':'2,722-4,536 kg',\\\n",
    "                                        'VEHICLE_WEIGHTNAME_2,722 kg or less':'2,722 kg or less', 'VEHICLE_WEIGHTNAME_4,536 - 6,350 kg':'4,536-6,350 kg', 'VEHICLE_WEIGHTNAME_6,350 - 7,258 kg':'6,350-7,258 kg',\\\n",
    "                                            'VEHICLE_WEIGHTNAME_7,258 - 8,845 kg':'7,258-8,845 kg', 'VEHICLE_WEIGHTNAME_8,845 - 11,794 kg':'8,845-11,794 kg', 'IMPACT1NAME_Back':'Impact_Back', 'IMPACT1NAME_Front':'Impact_Front',\\\n",
    "                                                'IMPACT1NAME_Left':'Impact_Left', 'IMPACT1NAME_Left-Back':'Impact_Left_Back', 'IMPACT1NAME_Left-Front':'Impact_Left_Back_Front', 'IMPACT1NAME_Non-Collision':'Impact_Non_Collision',\\\n",
    "                                                    'IMPACT1NAME_Right':'Impact_Right', 'IMPACT1NAME_Right-Back':'Impact_Right_Back', 'IMPACT1NAME_Right-Front':'Impact_Right_Front', 'IMPACT1NAME_Top':'Impact_Top',\\\n",
    "                                                        'IMPACT1NAME_Undercarriage':'Impact_Undercarriage', 'IMPACT1NAME_Vehicle, Objects or Person Set-in-motion':'Impact_Obj_or_Person_In_Motion',\\\n",
    "                                                            'ROAD_CONDITIONNAME_Dry':'Road_Dry', 'ROAD_CONDITIONNAME_Ice':'Road_Ice', 'ROAD_CONDITIONNAME_Mud, Dirt or Gravel':'Road_Mud_Dirt_or_Gravel',\\\n",
    "                                                                'ROAD_CONDITIONNAME_Non-Trafficway':'Road_NonTrafficway', 'ROAD_CONDITIONNAME_Oil':'Road_Oil', 'ROAD_CONDITIONNAME_Snow':'Road_Snow',\\\n",
    "                                                                    'ROAD_CONDITIONNAME_Water':'Road_Water', 'ROAD_CONDITIONNAME_Wet':'Road_Wet', 'ACC_TYPENAME_Avoid Collision With Object':'Acc_Avoid_Collision_Obj',\\\n",
    "                                                                        'ACC_TYPENAME_Avoid Collision With Veh., Ped., Anim.':'Acc_Avoid_Collision_Ped_or_Anim', 'ACC_TYPENAME_Avoid Collision With Vehicle':'Acc_Avoid_Collision_Veh',\\\n",
    "                                                                            'ACC_TYPENAME_Avoid Collision with Vehicle':'Acc_Avoid_Collision_Veh', 'ACC_TYPENAME_Backing Veh.':'Acc_Backing_Veh',\\\n",
    "                                                                                'ACC_TYPENAME_Changing Lanes to the Left':'Acc_Changing_Lanes_to_Left', 'ACC_TYPENAME_Changing Lanes to the Right':'Acc_Changing_Lanes_to_Right',\\\n",
    "                                                                                    'ACC_TYPENAME_Control/Traction Loss':'Acc_Control_Loss', 'ACC_TYPENAME_Decelerating (Slowing)':'Acc_Decelerating',\\\n",
    "                                                                                        'ACC_TYPENAME_Decelerating (Slowing), Going Left':'Acc_Decelerating_to_Left',\\\n",
    "                                                                                            'ACC_TYPENAME_Decelerating (Slowing), Going Right':'Acc_Decelerating_to_Right',\\\n",
    "                                                                                                'ACC_TYPENAME_Decelerating (Slowing), Going Straight':'Acc_Decelerating_to_Straight',\\\n",
    "                                                                                                    'ACC_TYPENAME_Drive Off Road':'Acc_Drive_Off_Road', 'ACC_TYPENAME_End Departure':'Acc_End_Departure',\\\n",
    "                                                                                                        'ACC_TYPENAME_Initial Opposite Directions (Going Straight)':'Acc_Opposite_Dir_to_Straight',\\\n",
    "                                                                                                            'ACC_TYPENAME_Initial Opposite Directions (Left/Right)':'Acc_Opposite_Dir_to_Left_or_Right',\\\n",
    "                                                                                                                'ACC_TYPENAME_Initial Same Directions (Going Straight)':'Acc_Same_Dir_to_Straight',\\\n",
    "                                                                                                                    'ACC_TYPENAME_Initial Same Directions (Turning Left)':'Acc_Same_Dir_to_Left',\\\n",
    "                                                                                                                        'ACC_TYPENAME_Initial Same Directions (Turning Right)':'Acc_Same_Dir_to_Right',\\\n",
    "                                                                                                                            'ACC_TYPENAME_Lateral Move (Going Straight)':'Acc_Lateral_Move_to_Straight',\\\n",
    "                                                                                                                                'ACC_TYPENAME_Lateral Move (Left/Right)':'Acc_Lateral_Move_to_Left_or_Right',\\\n",
    "                                                                                                                                    'ACC_TYPENAME_No Impact':'Acc_No_Impact', 'ACC_TYPENAME_Other Crash Type':'Acc_Other_Crash',\\\n",
    "                                                                                                                                        'ACC_TYPENAME_Other Vehicle':'Acc_Other_Veh', 'ACC_TYPENAME_Parked Veh.':'Acc_Parked_Veh',\\\n",
    "                                                                                                                                            'ACC_TYPENAME_Pedestrian/ Animal':'Acc_Ped_or_Animal',\\\n",
    "                                                                                                                                                'ACC_TYPENAME_Slower':'Acc_Slower',\\\n",
    "                                                                                                                                                    'ACC_TYPENAME_Slower, Going Left':'Acc_Slower_to_Left',\\\n",
    "                                                                                                                                                        'ACC_TYPENAME_Slower, Going Right':'Acc_Slower_to_Right',\\\n",
    "                                                                                                                                                            'ACC_TYPENAME_Slower, Going Straight':'Acc_Slower_to_Straight',\\\n",
    "                                                                                                                                                                'ACC_TYPENAME_Specifics Other':'Acc_Specifics_Other',\\\n",
    "                                                                                                                                                                    'ACC_TYPENAME_Sta. Object':'Acc_StaObj',\\\n",
    "                                                                                                                                                                        'ACC_TYPENAME_Stopped':'Acc_Stopped',\\\n",
    "                                                                                                                                                                            'ACC_TYPENAME_Stopped, Left':'Acc_Stopped_Left',\\\n",
    "                                                                                                                                                                                'ACC_TYPENAME_Stopped, Right':'Acc_Stopped_Right',\\\n",
    "                                                                                                                                                                                    'ACC_TYPENAME_Stopped, Straight':'Acc_Stopped_Straight',\\\n",
    "                                                                                                                                                                                        'ACC_TYPENAME_Straight Ahead on Left':'Acc_Stopped_Ahead_Left',\\\n",
    "                                                                                                                                                                                            'ACC_TYPENAME_Straight Ahead on Left/Right':'Acc_Stopped_Ahead_Right',\\\n",
    "                                                                                                                                                                                                'ACC_TYPENAME_Striking from the Left':'Acc_Striking_from_Left',\\\n",
    "                                                                                                                                                                                                    'ACC_TYPENAME_Striking from the Right':'Acc_Striking_from_Right',\\\n",
    "                                                                                                                                                                                                        'ACC_TYPENAME_Struck on the Right':'Acc_Struck_on_Right',\\\n",
    "                                                                                                                                                                                                            'ACC_TYPENAME_Struck on the left':'Acc_Struck_on_Left',\\\n",
    "                                                                                                                                                                                                                'ACC_TYPENAME_Turn Into Opposite Directions (Going Straight)':'Acc_Turn_to_Opposite_Dir_to_Straight',\\\n",
    "                                                                                                                                                                                                                    'ACC_TYPENAME_Turn Into Opposite Directions (Turning Left)':'Acc_Turn_to_Opposite_Dir_to_Left',\\\n",
    "                                                                                                                                                                                                                        'ACC_TYPENAME_Turn Into Opposite Directions (Turning Right)':'Acc_Turn_to_Opposite_Dir_to_Right',\\\n",
    "                                                                                                                                                                                                                            'ACC_TYPENAME_Turn Into Same Direction (Going Straight)':'Acc_Turn_to_Same_Dir_to_Straight',\\\n",
    "                                                                                                                                                                                                                                'ACC_TYPENAME_Turn Into Same Direction (Turning Left)':'Acc_Turn_to_Same_Dir_to_Left',\\\n",
    "                                                                                                                                                                                                                                    'ACC_TYPENAME_Turn Into Same Direction (Turning Right)':'Acc_Turn_to_Same_Dir_to_Right',\\\n",
    "                                                                                                                                                                                                                                        'LICENSE_COMPLIANCENAME_No Driver Present/Unknown if Driver Present':'License_Compl_Unknown',\\\n",
    "                                                                                                                                                                                                                                            'LICENSE_COMPLIANCENAME_No license required for this class vehicle':'License_Compl_No_Required',\\\n",
    "                                                                                                                                                                                                                                                'LICENSE_COMPLIANCENAME_No valid license for this class vehicle':'License_Compl_No_Valid',\\\n",
    "                                                                                                                                                                                                                                                    'LICENSE_COMPLIANCENAME_Not licensed':'License_Compl_No',\\\n",
    "                                                                                                                                                                                                                                                        'LICENSE_RESTRICTIONNAME_No Driver Present/Unknown if Driver Present':'License_Restriction_Unknown',\\\n",
    "                                                                                                                                                                                                                                                            'LICENSE_RESTRICTIONNAME_No Restrictions or Not Applicable':'License_Restriction_Not_Applicable',\\\n",
    "                                                                                                                                                                                                                                                                'LICENSE_RESTRICTIONNAME_Restrictions Not Complied With':'License_Restriction_Not_Complied',\\\n",
    "                                                                                                                                                                                                                                                                    'SPEEDRELNAME_No':'High_Speed_No', 'SPEEDRELNAME_Yes':'High_Speed_Yes',\\\n",
    "                                                                                                                                                                                                                                                                        'HIT_RUNNAME_No':'Hit_Run_No', 'HIT_RUNNAME_Yes':'Hit_Run_Yes'})"
   ]
  },
  {
   "cell_type": "markdown",
   "metadata": {},
   "source": [
    "### 'distract' edition"
   ]
  },
  {
   "cell_type": "code",
   "execution_count": 399,
   "metadata": {},
   "outputs": [],
   "source": [
    "# Elimina las columnas innecesarias de 'distract'\n",
    "columns_to_drop = ['ID', 'VEH_NO', 'DRDISTRACT']\n",
    "distract = distract.drop(columns=columns_to_drop)"
   ]
  },
  {
   "cell_type": "code",
   "execution_count": 400,
   "metadata": {},
   "outputs": [],
   "source": [
    "# Convierte las columnas categóricas en booleanas\n",
    "distract = pd.get_dummies(distract, columns = ['DRDISTRACTNAME'])"
   ]
  },
  {
   "cell_type": "code",
   "execution_count": 401,
   "metadata": {},
   "outputs": [],
   "source": [
    "# Agrupa la tabla 'ditract' completando con 0 o 1 los valores categóricos\n",
    "distract = distract.groupby('ST_CASE').agg({'DRDISTRACTNAME_Distraction':true_sum, 'DRDISTRACTNAME_Eating/Drinking':true_sum, 'DRDISTRACTNAME_Mobile':true_sum, 'DRDISTRACTNAME_Not Distracted':true_sum,\\\n",
    "    'DRDISTRACTNAME_Smoking':true_sum, 'DRDISTRACTNAME_Unknown':true_sum}).reset_index()"
   ]
  },
  {
   "cell_type": "code",
   "execution_count": 402,
   "metadata": {},
   "outputs": [],
   "source": [
    "# Elimina las columnas innecesarias de 'distract'\n",
    "columns_to_drop = ['DRDISTRACTNAME_Unknown', 'DRDISTRACTNAME_Not Distracted', 'DRDISTRACTNAME_Distraction']\n",
    "distract = distract.drop(columns=columns_to_drop)"
   ]
  },
  {
   "cell_type": "code",
   "execution_count": 403,
   "metadata": {},
   "outputs": [],
   "source": [
    "# Cambia los nombres de las columnas\n",
    "distract = distract.rename(columns={'DRDISTRACTNAME_Eating/Drinking':'Distraction_Eating_Drinking', 'DRDISTRACTNAME_Mobile':'Distraction_Mobile', 'DRDISTRACTNAME_Smoking':'Distraction_Smoking'})"
   ]
  },
  {
   "cell_type": "markdown",
   "metadata": {},
   "source": [
    "### 'drugs' edition"
   ]
  },
  {
   "cell_type": "code",
   "execution_count": 404,
   "metadata": {},
   "outputs": [],
   "source": [
    "# Elimina las columnas innecesarias de 'drugs'\n",
    "columns_to_drop = ['ID', 'VEH_NO', 'PER_NO', 'DRUGRES']\n",
    "drugs = drugs.drop(columns=columns_to_drop)"
   ]
  },
  {
   "cell_type": "code",
   "execution_count": 405,
   "metadata": {},
   "outputs": [],
   "source": [
    "# Convierte las columnas categóricas en booleanas\n",
    "drugs = pd.get_dummies(drugs, columns = ['DRUGRESNAME'])"
   ]
  },
  {
   "cell_type": "code",
   "execution_count": 406,
   "metadata": {},
   "outputs": [],
   "source": [
    "# Elimina las columnas innecesarias de 'drugs'\n",
    "columns_to_drop = ['DRUGRESNAME_Unknown', 'DRUGRESNAME_Negative']\n",
    "drugs = drugs.drop(columns=columns_to_drop)"
   ]
  },
  {
   "cell_type": "code",
   "execution_count": 407,
   "metadata": {},
   "outputs": [],
   "source": [
    "# Agrupa la tabla 'drugs' completando con 0 o 1 los valores categóricos\n",
    "drugs = drugs.groupby('ST_CASE').agg({'DRUGRESNAME_Anesthetic':true_sum, 'DRUGRESNAME_Antidepressant':true_sum, 'DRUGRESNAME_Antipsychotic':true_sum, 'DRUGRESNAME_Barbiturate':true_sum,\\\n",
    "    'DRUGRESNAME_Depressant':true_sum, 'DRUGRESNAME_OTC Analgesic':true_sum, 'DRUGRESNAME_Opioid':true_sum, 'DRUGRESNAME_Other':true_sum, 'DRUGRESNAME_Stimulant':true_sum,\\\n",
    "        'DRUGRESNAME_Synthetic Cannabinoid':true_sum})"
   ]
  },
  {
   "cell_type": "code",
   "execution_count": 408,
   "metadata": {},
   "outputs": [],
   "source": [
    "# Cambia el nombre de las columnas\n",
    "drugs = drugs.rename(columns={'DRUGRESNAME_Anesthetic':'Drug_Anesthetic', 'DRUGRESNAME_Antidepressant':'Drugs_Antidepressant', 'DRUGRESNAME_Antipsychotic':'Drugs_Antipsychotic', 'DRUGRESNAME_Barbiturate':'Drugs_Barbiturate',\\\n",
    "    'DRUGRESNAME_Depressant':'Drugs_Depressant', 'DRUGRESNAME_OTC Analgesic':'Drugs_OTC_Analgesic', 'DRUGRESNAME_Opioid':'Drugs_Opioid', 'DRUGRESNAME_Other':'Drugs_Other', 'DRUGRESNAME_Stimulant':'Drugs_Stimulant',\\\n",
    "        'DRUGRESNAME_Synthetic Cannabinoid':'Drugs_Synthetic_Cannabinoid'}).reset_index()"
   ]
  },
  {
   "cell_type": "markdown",
   "metadata": {},
   "source": [
    "### 'maneuver' edition"
   ]
  },
  {
   "cell_type": "code",
   "execution_count": 409,
   "metadata": {},
   "outputs": [],
   "source": [
    "# Elimina las columnas innecesarias de 'maneuver'\n",
    "columns_to_drop = ['ID', 'VEH_NO', 'MANEUVER']\n",
    "maneuver = maneuver.drop(columns=columns_to_drop)"
   ]
  },
  {
   "cell_type": "code",
   "execution_count": 410,
   "metadata": {},
   "outputs": [],
   "source": [
    "# Convierte las columnas categóricas en booleanas\n",
    "maneuver = pd.get_dummies(maneuver, columns = ['MANEUVERNAME'])"
   ]
  },
  {
   "cell_type": "code",
   "execution_count": 411,
   "metadata": {},
   "outputs": [],
   "source": [
    "# Elimina las columnas innecesarias de 'maneuver'\n",
    "columns_to_drop = ['MANEUVERNAME_Unknown', 'MANEUVERNAME_No Maneuver']\n",
    "maneuver = maneuver.drop(columns=columns_to_drop)"
   ]
  },
  {
   "cell_type": "code",
   "execution_count": 412,
   "metadata": {},
   "outputs": [],
   "source": [
    "# Agrupa la tabla 'maneuver' completando con 0 o 1 los valores categóricos\n",
    "maneuver = maneuver.groupby('ST_CASE').agg({'MANEUVERNAME_Avoid Obstacle':true_sum, 'MANEUVERNAME_Contact Vehicle':true_sum, 'MANEUVERNAME_Road Condition':true_sum})"
   ]
  },
  {
   "cell_type": "code",
   "execution_count": 413,
   "metadata": {},
   "outputs": [],
   "source": [
    "# Cambia el nombre de las columnas\n",
    "maneuver = maneuver.rename(columns={'MANEUVERNAME_Avoid Obstacle':'Maneuver_Avoid_Obstacle', 'MANEUVERNAME_Contact Vehicle':'Maneuver_Contact_Vehicle', 'MANEUVERNAME_Road Condition':'Maneuver_Road_Condition'}).reset_index()"
   ]
  },
  {
   "cell_type": "markdown",
   "metadata": {},
   "source": [
    "### 'weather' edition"
   ]
  },
  {
   "cell_type": "code",
   "execution_count": 414,
   "metadata": {},
   "outputs": [],
   "source": [
    "# Elimina las columnas innecesarias de 'weather'\n",
    "columns_to_drop = ['ID', 'WEATHER']\n",
    "weather = weather.drop(columns=columns_to_drop)"
   ]
  },
  {
   "cell_type": "code",
   "execution_count": 415,
   "metadata": {},
   "outputs": [],
   "source": [
    "# Convierte las columnas categóricas en booleanas\n",
    "weather = pd.get_dummies(weather, columns = ['WEATHERNAME'])"
   ]
  },
  {
   "cell_type": "code",
   "execution_count": 416,
   "metadata": {},
   "outputs": [],
   "source": [
    "# Elimina las columnas innecesarias de 'weather'\n",
    "columns_to_drop = ['WEATHERNAME_Unknown', 'WEATHERNAME_Other']\n",
    "weather = weather.drop(columns=columns_to_drop)"
   ]
  },
  {
   "cell_type": "code",
   "execution_count": 417,
   "metadata": {},
   "outputs": [],
   "source": [
    "# Agrupa la tabla 'vehicle' completando con 0 o 1 los valores categóricos\n",
    "weather = weather.groupby('ST_CASE').agg({'WEATHERNAME_Clear':true_sum, 'WEATHERNAME_Cloudy':true_sum, 'WEATHERNAME_Freezing':true_sum, 'WEATHERNAME_Rain':true_sum, 'WEATHERNAME_Snow':true_sum, 'WEATHERNAME_Windy':true_sum}).reset_index()"
   ]
  },
  {
   "cell_type": "code",
   "execution_count": 418,
   "metadata": {},
   "outputs": [],
   "source": [
    "# Cambia el nombre de las columnas\n",
    "weather = weather.rename(columns={'WEATHERNAME_Clear':'Weather_Clear', 'WEATHERNAME_Cloudy':'Weather_Cloudy', 'WEATHERNAME_Freezing':'Weather_Freezing', 'WEATHERNAME_Rain':'Weather_Rain', 'WEATHERNAME_Snow':'Weather_Snow',\\\n",
    "    'WEATHERNAME_Windy':'Weather_Windy'})"
   ]
  },
  {
   "cell_type": "markdown",
   "metadata": {},
   "source": [
    "### 'accident' edition"
   ]
  },
  {
   "cell_type": "code",
   "execution_count": 419,
   "metadata": {},
   "outputs": [],
   "source": [
    "# Elimina las columnas innecesarias de 'accident'\n",
    "columns_to_drop = ['ID', 'STATE', 'COUNTY', 'CITY', 'RUR_URB', 'RD_OWNER', 'HARMFUL_EVENT', 'COUNTYNAME', 'CITYNAME', 'LATITUDE', 'LONGITUD']\n",
    "accident = accident.drop(columns=columns_to_drop)"
   ]
  },
  {
   "cell_type": "code",
   "execution_count": 420,
   "metadata": {},
   "outputs": [],
   "source": [
    "# Convierte las columnas categóricas en booleanas\n",
    "accident = pd.get_dummies(accident, columns = ['RUR_URBNAME', 'RD_OWNERNAME', 'HARMFUL_EVENT_NAME'])"
   ]
  },
  {
   "cell_type": "code",
   "execution_count": 421,
   "metadata": {},
   "outputs": [],
   "source": [
    "# Elimina las columnas innecesarias de 'accident'\n",
    "columns_to_drop = ['RUR_URBNAME_Not Reported', 'RUR_URBNAME_Trafficway Not in State Inventory', 'RUR_URBNAME_Unknown', 'RD_OWNERNAME_Not Reported', 'RD_OWNERNAME_Unknown', 'HARMFUL_EVENT_NAME_Unknown']\n",
    "accident = accident.drop(columns=columns_to_drop)"
   ]
  },
  {
   "cell_type": "code",
   "execution_count": 422,
   "metadata": {},
   "outputs": [],
   "source": [
    "# Cambia el nombre de las columnas del dataframe principal 'accident'\n",
    "accident = accident.rename(columns={'YEAR':'Year', 'MONTH':'Month', 'DAY':'Day', 'DAY_WEEK':'Day_Week', 'STATENAME':'State', 'HOUR':'Hour', 'MINUTE':'Minute', 'PERSONS':'Persons', 'PERSONS_IN_VEHICLES':'Persons_in_Veh',\\\n",
    "    'PERSONS_NOT_IN_VEHICLES':'Persons_Not_in_Veh', 'TOTAL_VEHICLES':'Total_Veh', 'PARKED_VEHICLES':'Parked_Veh', 'FATALS':'Fatals', 'NOT_HOUR':'Not_Hour', 'NOT_MIN':'Not_Min', 'ARR_HOUR':'Arr_Hour',\\\n",
    "        'ARR_MIN':'Arr_Min', 'HOSP_HR':'Hosp_Hour', 'HOSP_MN':'Hosp_Min', 'RUR_URBNAME_Rural':'Rural', 'RUR_URBNAME_Urban':'Urban', 'RD_OWNERNAME_Bureau of Indian Affairs':'Road_Bureau_of_Indian_Affairs',\\\n",
    "            'RD_OWNERNAME_Bureau of Land Management':'Road_Bureau_of_Land_Management', 'RD_OWNERNAME_Bureau of Reclamation':'Road_Bureau_of_Reclamation',\\\n",
    "                'RD_OWNERNAME_City or Municipal Highway Agency':'Road_City_or_Municipal_Highway_Agency', 'RD_OWNERNAME_County Highway Agency':'Road_County_Highway_Agency',\\\n",
    "                    'RD_OWNERNAME_Indian Tribe Nation':'Road_Indian_Tribe_Nation', 'RD_OWNERNAME_Local Park, Forest or Reservation Agency':'Road_Local_Park_Forest_or_Reservation_Agency',\\\n",
    "                        'RD_OWNERNAME_Local Toll Authority':'Road_Local_Toll_Auth', 'RD_OWNERNAME_National Park Service':'Road_National_Park_Serv',\\\n",
    "                            'RD_OWNERNAME_Other Federal Agency':'Road_Other_Fed_Agency', 'RD_OWNERNAME_Other Local Agency':'Road_Other_Local_Agency',\\\n",
    "                                'RD_OWNERNAME_Other Public Instrumentality (i.e., Airport)':'Road_Other_Public_Instrumentality',\\\n",
    "                                    'RD_OWNERNAME_Other State Agency':'Road_Other_State_Agency', 'RD_OWNERNAME_Private (other than Railroad)':'Road_Private',\\\n",
    "                                        'RD_OWNERNAME_Railroad':'Road_Railroad', 'RD_OWNERNAME_State Highway Agency':'Road_State_Highway_Agency',\\\n",
    "                                            'RD_OWNERNAME_State Park, Forest, or Reservation Agency':'Road_State_Park_Forest_or_Reservation_Agency',\\\n",
    "                                                'RD_OWNERNAME_State Toll Road':'Road_State_Toll', 'RD_OWNERNAME_Town or Township Highway Agency':'Road_Town_Highway_Agency',\\\n",
    "                                                    'RD_OWNERNAME_Trafficway Not in State Inventory':'Road_Not_in_State_Inventory',\\\n",
    "                                                        'RD_OWNERNAME_U.S. Forest Service':'Road_USA_Forest_Service', 'HARMFUL_EVENT_NAME_Animal':'Harmful_Event_Animal',\\\n",
    "                                                            'HARMFUL_EVENT_NAME_Fire':'Harmful_Event_Fire',\\\n",
    "                                                                'HARMFUL_EVENT_NAME_Impact Attenuator':'Harmful_Event_Impact_Attenuator',\\\n",
    "                                                                    'HARMFUL_EVENT_NAME_Maneuver':'Harmful_Event_Maneuver',\\\n",
    "                                                                        'HARMFUL_EVENT_NAME_Nature barriers':'Harmful_Event_Nature_Barriers',\\\n",
    "                                                                            'HARMFUL_EVENT_NAME_Non-collision':'Harmful_Event_Non_Collision',\\\n",
    "                                                                                'HARMFUL_EVENT_NAME_Object':'Harmful_Event_Obj',\\\n",
    "                                                                                    'HARMFUL_EVENT_NAME_Parked vehicle':'Harmful_Event_Parked_Veh',\\\n",
    "                                                                                        'HARMFUL_EVENT_NAME_Pavement irregularity':'Harmful_Event_Pav_Irregular',\\\n",
    "                                                                                            'HARMFUL_EVENT_NAME_Pedalcyclist':'Harmful_Event_Pedalcyclist',\\\n",
    "                                                                                                'HARMFUL_EVENT_NAME_Pedestrian':'Harmful_Event_Pedestrian',\\\n",
    "                                                                                                    'HARMFUL_EVENT_NAME_Urban or traffic elements':'Harmful_Event_Urban_or_Traffic_El',\\\n",
    "                                                                                                        'HARMFUL_EVENT_NAME_Vehicle':'Harmful_Event_Veh'})"
   ]
  },
  {
   "cell_type": "markdown",
   "metadata": {},
   "source": [
    "### table join in 'accident' and var correlation"
   ]
  },
  {
   "cell_type": "code",
   "execution_count": 423,
   "metadata": {},
   "outputs": [],
   "source": [
    "# Convierte a tipo numérico (float) las columnas de 'accident' salvo ST_CASE y State\n",
    "accident[['Year', 'Month', 'Day', 'Day_Week', 'Hour', 'Minute', 'Persons', 'Persons_in_Veh', 'Persons_Not_in_Veh', 'Total_Veh', 'Parked_Veh', 'Fatals', 'Not_Hour', 'Not_Min', 'Arr_Hour', 'Arr_Min', 'Hosp_Hour', 'Hosp_Min']] =\\\n",
    "    accident[['Year', 'Month', 'Day', 'Day_Week', 'Hour', 'Minute', 'Persons', 'Persons_in_Veh', 'Persons_Not_in_Veh', 'Total_Veh', 'Parked_Veh', 'Fatals', 'Not_Hour', 'Not_Min', 'Arr_Hour', 'Arr_Min', 'Hosp_Hour', 'Hosp_Min']]\\\n",
    "    .astype(float)"
   ]
  },
  {
   "cell_type": "code",
   "execution_count": 424,
   "metadata": {},
   "outputs": [],
   "source": [
    "# Convierte a tipo numérico (float) la columna 'Age' del dataframe 'person'\n",
    "person[['Age']] = person[['Age']].astype(float)"
   ]
  },
  {
   "cell_type": "code",
   "execution_count": 425,
   "metadata": {},
   "outputs": [],
   "source": [
    "# Une la tabla 'accident' y 'person' a través de la columna común 'ST_CASE'\n",
    "accident_df = accident.merge(person, on='ST_CASE', how='left')"
   ]
  },
  {
   "cell_type": "code",
   "execution_count": 426,
   "metadata": {},
   "outputs": [],
   "source": [
    "# Une la tabla 'accident_df' y 'maneuver' a través de la columna común 'ST_CASE'\n",
    "accident_df = accident_df.merge(maneuver, on='ST_CASE', how='left')"
   ]
  },
  {
   "cell_type": "code",
   "execution_count": 427,
   "metadata": {},
   "outputs": [],
   "source": [
    "# Une la tabla 'accident_df' y 'distract' a través de la columna común 'ST_CASE'\n",
    "accident_df = accident_df.merge(distract, on='ST_CASE', how='left')"
   ]
  },
  {
   "cell_type": "code",
   "execution_count": 428,
   "metadata": {},
   "outputs": [],
   "source": [
    "# Une la tabla 'accident_df' y 'drugs' a través de la columna común 'ST_CASE'\n",
    "accident_df = accident_df.merge(drugs, on='ST_CASE', how='left')"
   ]
  },
  {
   "cell_type": "code",
   "execution_count": 429,
   "metadata": {},
   "outputs": [],
   "source": [
    "# Convierte a tipo numérico (float) las columnas del dataframe 'vehicle' que están como tipo objeto\n",
    "vehicle[['Model_Year', 'Previous_Accident', 'Previous_Suspension', 'Previous_Driving_Intoxidated', 'Previous_Speed_Convict']] = vehicle[['Model_Year', 'Previous_Accident', 'Previous_Suspension',\\\n",
    "    'Previous_Driving_Intoxidated', 'Previous_Speed_Convict']].astype(float)"
   ]
  },
  {
   "cell_type": "code",
   "execution_count": 430,
   "metadata": {},
   "outputs": [],
   "source": [
    "# Une la tabla 'accident_df' y 'vehicle' a través de la columna común 'ST_CASE'\n",
    "accident_df = accident_df.merge(vehicle, on='ST_CASE', how='left')"
   ]
  },
  {
   "cell_type": "code",
   "execution_count": 431,
   "metadata": {},
   "outputs": [],
   "source": [
    "# Une la tabla 'accident_df' y 'weather' a través de la columna común 'ST_CASE'\n",
    "accident_df = accident_df.merge(weather, on='ST_CASE', how='left')"
   ]
  },
  {
   "cell_type": "code",
   "execution_count": 432,
   "metadata": {},
   "outputs": [],
   "source": [
    "# Crea una columna nueva 'Date' combinando las columnas de 'Year', 'Month' y 'Day' del dataframe 'accident_df'\n",
    "accident_df['Date'] = pd.to_datetime(accident_df[['Year', 'Month', 'Day']])"
   ]
  },
  {
   "cell_type": "code",
   "execution_count": 433,
   "metadata": {},
   "outputs": [],
   "source": [
    "# Ordena los valores del dataframe 'accident_df' por las columnas 'Date' y 'State'\n",
    "accident_df = accident_df.sort_values(by=['Date', 'State'])"
   ]
  },
  {
   "cell_type": "code",
   "execution_count": 434,
   "metadata": {},
   "outputs": [],
   "source": [
    "# Convierte las fechas a semanales para hacer la predicción de series de tiempo\n",
    "#accident_df['Year_Week'] = accident_df['Date'].dt.isocalendar().year.astype(str) + '_' + accident_df['Date'].dt.isocalendar().week.astype(str) "
   ]
  },
  {
   "cell_type": "code",
   "execution_count": 435,
   "metadata": {},
   "outputs": [],
   "source": [
    "accident_df['Year_Week'] = accident_df['Date'].dt.isocalendar().year.astype(str) + '_' + accident_df['Date'].dt.isocalendar().week.astype(str).str.zfill(2)"
   ]
  },
  {
   "cell_type": "code",
   "execution_count": 436,
   "metadata": {},
   "outputs": [],
   "source": [
    "# Agrupa el dataframe 'accident_df' con la media de 'Year_Week' y 'State' y lo guarda en la variable 'accident_df_avg'\n",
    "accident_df_avg = accident_df.groupby(by=['Year_Week', 'State']).mean()"
   ]
  },
  {
   "cell_type": "code",
   "execution_count": 437,
   "metadata": {},
   "outputs": [],
   "source": [
    "# Añade una columna con la suma de muertes 'Fatals' agrupando por 'Year_Week' y 'State' en el dataframe 'accident_df' y lo guarda en una nueva variable 'accident_df_sum'\n",
    "accident_df_sum = accident_df[['Fatals', 'Year_Week', 'State']].groupby(by=['Year_Week', 'State']).sum()"
   ]
  },
  {
   "cell_type": "code",
   "execution_count": 466,
   "metadata": {},
   "outputs": [],
   "source": [
    "# Agrupa las variables 'accident_df_avg' y 'accident_df_sum'\n",
    "# Elimina la columa de Fatals original, ahora 'Fatals_x' y 'ST_CASE', ya que ya no las necesitamos, ya que vamos a predecir las muertes, no los accidentes, renombra la nueva columna de 'Fatals'\n",
    "# Guarda el nuevo dataframe en la variable 'abt'\n",
    "abt = accident_df_avg.merge(accident_df_sum, how='left', left_index=True, right_index=True).drop(columns=['Fatals_x', 'ST_CASE']).rename(columns={'Fatals_y': 'Fatals'}).reset_index()"
   ]
  },
  {
   "cell_type": "code",
   "execution_count": 467,
   "metadata": {},
   "outputs": [],
   "source": [
    "# Elimina los valores nulos creados al unir la tabla accident y vehicle\n",
    "abt = abt.dropna()"
   ]
  },
  {
   "cell_type": "code",
   "execution_count": 468,
   "metadata": {},
   "outputs": [],
   "source": [
    "# Resetea el índice\n",
    "abt = abt.reset_index(drop=True)"
   ]
  },
  {
   "cell_type": "code",
   "execution_count": 469,
   "metadata": {},
   "outputs": [],
   "source": [
    "# Calcula el índice de correlación entre todas las variables numéricas para ver la correlación existente entre las diferentes variables\n",
    "corr = abt.select_dtypes(include=[np.number]).corr()"
   ]
  },
  {
   "cell_type": "code",
   "execution_count": 470,
   "metadata": {},
   "outputs": [
    {
     "data": {
      "text/plain": [
       "\"plt.figure(figsize=(250, 250))\\nsns.heatmap(corr, annot=True, cmap='coolwarm')\\nplt.title('Correlation Heatmap')\\nplt.show()\""
      ]
     },
     "execution_count": 470,
     "metadata": {},
     "output_type": "execute_result"
    }
   ],
   "source": [
    "# Crea un mapa de calor con todas las variables numéricas para detectar qué variables están correlacionadas entre sí\n",
    "\"\"\"plt.figure(figsize=(250, 250))\n",
    "sns.heatmap(corr, annot=True, cmap='coolwarm')\n",
    "plt.title('Correlation Heatmap')\n",
    "plt.show()\"\"\""
   ]
  },
  {
   "cell_type": "markdown",
   "metadata": {},
   "source": [
    "## PCA"
   ]
  },
  {
   "cell_type": "code",
   "execution_count": 471,
   "metadata": {},
   "outputs": [
    {
     "data": {
      "text/plain": [
       "['Year_Week',\n",
       " 'State',\n",
       " 'Year',\n",
       " 'Month',\n",
       " 'Day',\n",
       " 'Day_Week',\n",
       " 'Hour',\n",
       " 'Minute',\n",
       " 'Persons',\n",
       " 'Persons_in_Veh',\n",
       " 'Persons_Not_in_Veh',\n",
       " 'Total_Veh',\n",
       " 'Parked_Veh',\n",
       " 'Not_Hour',\n",
       " 'Not_Min',\n",
       " 'Arr_Hour',\n",
       " 'Arr_Min',\n",
       " 'Hosp_Hour',\n",
       " 'Hosp_Min',\n",
       " 'Rural',\n",
       " 'Urban',\n",
       " 'Road_Bureau_of_Indian_Affairs',\n",
       " 'Road_Bureau_of_Land_Management',\n",
       " 'Road_Bureau_of_Reclamation',\n",
       " 'Road_City_or_Municipal_Highway_Agency',\n",
       " 'Road_County_Highway_Agency',\n",
       " 'Road_Indian_Tribe_Nation',\n",
       " 'Road_Local_Park_Forest_or_Reservation_Agency',\n",
       " 'Road_Local_Toll_Auth',\n",
       " 'Road_National_Park_Serv',\n",
       " 'Road_Other_Fed_Agency',\n",
       " 'Road_Other_Local_Agency',\n",
       " 'Road_Other_Public_Instrumentality',\n",
       " 'Road_Other_State_Agency',\n",
       " 'Road_Private',\n",
       " 'Road_Railroad',\n",
       " 'Road_State_Highway_Agency',\n",
       " 'Road_State_Park_Forest_or_Reservation_Agency',\n",
       " 'Road_State_Toll',\n",
       " 'Road_Town_Highway_Agency',\n",
       " 'Road_Not_in_State_Inventory',\n",
       " 'Road_USA_Forest_Service',\n",
       " 'Harmful_Event_Animal',\n",
       " 'Harmful_Event_Fire',\n",
       " 'Harmful_Event_Impact_Attenuator',\n",
       " 'Harmful_Event_Maneuver',\n",
       " 'Harmful_Event_Nature_Barriers',\n",
       " 'Harmful_Event_Non_Collision',\n",
       " 'Harmful_Event_Obj',\n",
       " 'Harmful_Event_Parked_Veh',\n",
       " 'Harmful_Event_Pav_Irregular',\n",
       " 'Harmful_Event_Pedalcyclist',\n",
       " 'Harmful_Event_Pedestrian',\n",
       " 'Harmful_Event_Urban_or_Traffic_El',\n",
       " 'Harmful_Event_Veh',\n",
       " 'Age',\n",
       " 'Female',\n",
       " 'Male',\n",
       " 'Bicyclist',\n",
       " 'Similar_To_Bicyclist',\n",
       " 'Driver',\n",
       " 'Occupant_Parked_Vehicle',\n",
       " 'Passenger',\n",
       " 'Pedestrian',\n",
       " 'Person_In_A_Building',\n",
       " 'Died_Prior_To_Crash',\n",
       " 'Fatal_Injury',\n",
       " 'Injured_Severity_Unknown',\n",
       " 'No_Apparent_Injury',\n",
       " 'Possible_Injury',\n",
       " 'Suspected_Minor_Injury',\n",
       " 'Suspected_Serious_Injury',\n",
       " 'Seat_Back',\n",
       " 'Seat_Back_Left',\n",
       " 'Seat_Back_Middle',\n",
       " 'Seat_Back_Right',\n",
       " 'Seat_Front',\n",
       " 'Seat_Front_Left',\n",
       " 'Seat_Front_Middle',\n",
       " 'Seat_Front_Right',\n",
       " 'Seat_Not_Regular_Vehicle',\n",
       " 'Restraint_Misuse',\n",
       " 'Helm_Misuse',\n",
       " 'Drinking_Involved',\n",
       " 'Maneuver_Avoid_Obstacle',\n",
       " 'Maneuver_Contact_Vehicle',\n",
       " 'Maneuver_Road_Condition',\n",
       " 'Distraction_Eating_Drinking',\n",
       " 'Distraction_Mobile',\n",
       " 'Distraction_Smoking',\n",
       " 'Drug_Anesthetic',\n",
       " 'Drugs_Antidepressant',\n",
       " 'Drugs_Antipsychotic',\n",
       " 'Drugs_Barbiturate',\n",
       " 'Drugs_Depressant',\n",
       " 'Drugs_OTC_Analgesic',\n",
       " 'Drugs_Opioid',\n",
       " 'Drugs_Other',\n",
       " 'Drugs_Stimulant',\n",
       " 'Drugs_Synthetic_Cannabinoid',\n",
       " 'Model_Year',\n",
       " 'Previous_Accident',\n",
       " 'Previous_Suspension',\n",
       " 'Previous_Driving_Intoxidated',\n",
       " 'Previous_Speed_Convict',\n",
       " 'Veh_Sedan',\n",
       " 'Veh_All_Terrain_Cycle',\n",
       " 'Veh_Utility',\n",
       " 'Veh_Bus',\n",
       " 'Veh_Cab_Chassis_Based',\n",
       " 'Veh_Compact_Utility',\n",
       " 'Veh_Convertible',\n",
       " 'Veh_Coupe',\n",
       " 'Veh_Golf_cart',\n",
       " 'Veh_Large_Utility',\n",
       " 'Veh_Low_Speed',\n",
       " 'Veh_Minivan',\n",
       " 'Veh_Moped',\n",
       " 'Veh_Motor_Scooter',\n",
       " 'Veh_Motor_Home',\n",
       " 'Veh_Motorcycle',\n",
       " 'Veh_Motorcycle',\n",
       " 'Veh_Pickup',\n",
       " 'Veh_Recreational_OffHighWay',\n",
       " 'Veh_SchoolBus',\n",
       " 'Veh_Sedan',\n",
       " 'Veh_Snowmobile',\n",
       " 'Veh_Solar_Electric',\n",
       " 'Veh_Station_Wagon',\n",
       " 'Veh_Truck',\n",
       " 'Veh_TruckTractor',\n",
       " 'Veh_Utility',\n",
       " 'Veh_Van',\n",
       " 'Veh_VanBus',\n",
       " '11,794-14,969 kg',\n",
       " '14,969 kg and above',\n",
       " '2,722-4,536 kg',\n",
       " '2,722 kg or less',\n",
       " '4,536-6,350 kg',\n",
       " '6,350-7,258 kg',\n",
       " '7,258-8,845 kg',\n",
       " '8,845-11,794 kg',\n",
       " 'Impact_Back',\n",
       " 'Impact_Front',\n",
       " 'Impact_Left',\n",
       " 'Impact_Left_Back',\n",
       " 'Impact_Left_Back_Front',\n",
       " 'Impact_Non_Collision',\n",
       " 'Impact_Right',\n",
       " 'Impact_Right_Back',\n",
       " 'Impact_Right_Front',\n",
       " 'Impact_Top',\n",
       " 'Impact_Undercarriage',\n",
       " 'Impact_Obj_or_Person_In_Motion',\n",
       " 'Road_Dry',\n",
       " 'Road_Ice',\n",
       " 'Road_Mud_Dirt_or_Gravel',\n",
       " 'Road_NonTrafficway',\n",
       " 'Road_Oil',\n",
       " 'Road_Snow',\n",
       " 'Road_Water',\n",
       " 'Road_Wet',\n",
       " 'Acc_Avoid_Collision_Obj',\n",
       " 'Acc_Avoid_Collision_Ped_or_Anim',\n",
       " 'Acc_Avoid_Collision_Veh',\n",
       " 'Acc_Avoid_Collision_Veh',\n",
       " 'Acc_Backing_Veh',\n",
       " 'Acc_Changing_Lanes_to_Left',\n",
       " 'Acc_Changing_Lanes_to_Right',\n",
       " 'Acc_Control_Loss',\n",
       " 'Acc_Decelerating',\n",
       " 'Acc_Decelerating_to_Left',\n",
       " 'Acc_Decelerating_to_Right',\n",
       " 'Acc_Decelerating_to_Straight',\n",
       " 'Acc_Drive_Off_Road',\n",
       " 'Acc_End_Departure',\n",
       " 'Acc_Opposite_Dir_to_Straight',\n",
       " 'Acc_Opposite_Dir_to_Left_or_Right',\n",
       " 'Acc_Same_Dir_to_Straight',\n",
       " 'Acc_Same_Dir_to_Left',\n",
       " 'Acc_Same_Dir_to_Right',\n",
       " 'Acc_Lateral_Move_to_Straight',\n",
       " 'Acc_Lateral_Move_to_Left_or_Right',\n",
       " 'Acc_No_Impact',\n",
       " 'Acc_Other_Crash',\n",
       " 'Acc_Other_Veh',\n",
       " 'Acc_Parked_Veh',\n",
       " 'Acc_Ped_or_Animal',\n",
       " 'Acc_Slower',\n",
       " 'Acc_Slower_to_Left',\n",
       " 'Acc_Slower_to_Right',\n",
       " 'Acc_Slower_to_Straight',\n",
       " 'Acc_Specifics_Other',\n",
       " 'Acc_StaObj',\n",
       " 'Acc_Stopped',\n",
       " 'Acc_Stopped_Ahead_Left',\n",
       " 'Acc_Stopped_Ahead_Right',\n",
       " 'Acc_Striking_from_Left',\n",
       " 'Acc_Striking_from_Right',\n",
       " 'Acc_Struck_on_Right',\n",
       " 'Acc_Struck_on_Left',\n",
       " 'Acc_Turn_to_Opposite_Dir_to_Straight',\n",
       " 'Acc_Turn_to_Opposite_Dir_to_Left',\n",
       " 'Acc_Turn_to_Opposite_Dir_to_Right',\n",
       " 'Acc_Turn_to_Same_Dir_to_Straight',\n",
       " 'Acc_Turn_to_Same_Dir_to_Left',\n",
       " 'Acc_Turn_to_Same_Dir_to_Right',\n",
       " 'License_Compl_Unknown',\n",
       " 'License_Compl_No_Required',\n",
       " 'License_Compl_No_Valid',\n",
       " 'License_Compl_No',\n",
       " 'License_Restriction_Unknown',\n",
       " 'License_Restriction_Not_Applicable',\n",
       " 'License_Restriction_Not_Complied',\n",
       " 'High_Speed_No',\n",
       " 'High_Speed_Yes',\n",
       " 'Hit_Run_No',\n",
       " 'Hit_Run_Yes',\n",
       " 'Weather_Clear',\n",
       " 'Weather_Cloudy',\n",
       " 'Weather_Freezing',\n",
       " 'Weather_Rain',\n",
       " 'Weather_Snow',\n",
       " 'Weather_Windy',\n",
       " 'Date',\n",
       " 'Fatals']"
      ]
     },
     "execution_count": 471,
     "metadata": {},
     "output_type": "execute_result"
    }
   ],
   "source": [
    "list(abt.columns)"
   ]
  },
  {
   "cell_type": "markdown",
   "metadata": {},
   "source": [
    "### 'seat_' columns to PCA"
   ]
  },
  {
   "cell_type": "code",
   "execution_count": 472,
   "metadata": {},
   "outputs": [],
   "source": [
    "# Selecciona todas las columnas que están altamente correlacionadas entre sí y que hacen referencia a la posición de los pasajeros en los vehículos 'Seat_xxx'\n",
    "seat_position_columns_to_pca = ['Seat_Back', 'Seat_Back_Left', 'Seat_Back_Middle', 'Seat_Back_Right', 'Seat_Front', 'Seat_Front_Left', 'Seat_Front_Middle', 'Seat_Front_Right', 'Seat_Not_Regular_Vehicle']"
   ]
  },
  {
   "cell_type": "code",
   "execution_count": 473,
   "metadata": {},
   "outputs": [],
   "source": [
    "# Ejecuta el PCA para mantener el 80% de los datos de las 9 columnas originales\n",
    "pca = PCA(n_components=0.8)  # Número de componentes a mantener\n",
    "pca_result = pca.fit_transform(abt[seat_position_columns_to_pca])"
   ]
  },
  {
   "cell_type": "code",
   "execution_count": 474,
   "metadata": {},
   "outputs": [],
   "source": [
    "# Crea el nuevo dataframe eliminando las columnas antiguas y agregando las nuevas y lo guarda en 'abt_pca'\n",
    "pca_columns = [f'Seat_pca {i+1}' for i in range(pca_result.shape[1])]\n",
    "pca_df = pd.DataFrame(data=pca_result, columns=pca_columns)"
   ]
  },
  {
   "cell_type": "code",
   "execution_count": 475,
   "metadata": {},
   "outputs": [],
   "source": [
    "abt_pca = abt.drop(columns=seat_position_columns_to_pca)  # Elimina las columnas originales"
   ]
  },
  {
   "cell_type": "code",
   "execution_count": 476,
   "metadata": {},
   "outputs": [],
   "source": [
    "abt_pca = pd.concat([abt_pca, pca_df], axis=1)  # Añade las columnas del PCA"
   ]
  },
  {
   "cell_type": "markdown",
   "metadata": {},
   "source": [
    "### 'type_of_person_' columns to PCA"
   ]
  },
  {
   "cell_type": "code",
   "execution_count": 477,
   "metadata": {},
   "outputs": [],
   "source": [
    "# Selecciona todas las columnas que están altamente correlacionadas entre sí y que hacen referencia al tipo de persona involucrada en el accidente\n",
    "type_of_person_columns_to_pca = ['Bicyclist', 'Similar_To_Bicyclist', 'Driver', 'Occupant_Parked_Vehicle', 'Passenger', 'Pedestrian', 'Person_In_A_Building']"
   ]
  },
  {
   "cell_type": "code",
   "execution_count": 478,
   "metadata": {},
   "outputs": [],
   "source": [
    "# Ejecuta el PCA para mantener el 80% de los datos de las 9 columnas originales\n",
    "pca = PCA(n_components=0.8)  # Número de componentes a mantener\n",
    "pca_result = pca.fit_transform(abt[type_of_person_columns_to_pca])"
   ]
  },
  {
   "cell_type": "code",
   "execution_count": 479,
   "metadata": {},
   "outputs": [],
   "source": [
    "# Crea el nuevo dataframe eliminando las columnas antiguas y agregando las nuevas y lo guarda en 'abt_pca'\n",
    "pca_columns = [f'Type_of_Person_pca {i+1}' for i in range(pca_result.shape[1])]\n",
    "pca_df = pd.DataFrame(data=pca_result, columns=pca_columns)\n",
    "\n",
    "abt_pca = abt_pca.drop(columns=type_of_person_columns_to_pca)  # Elimina las columnas originales\n",
    "abt_pca = pd.concat([abt_pca, pca_df], axis=1)  # Añade las columnas del PCA"
   ]
  },
  {
   "cell_type": "markdown",
   "metadata": {},
   "source": [
    "### '_Hour' columns to PCA"
   ]
  },
  {
   "cell_type": "code",
   "execution_count": 480,
   "metadata": {},
   "outputs": [],
   "source": [
    "# Selecciona todas las columnas que están altamente correlacionadas entre sí y que hacen referencia a la hora de notificación, llegada de servicios de emergencia y llegada al hospital\n",
    "response_hours_columns_to_pca = ['Not_Hour', 'Arr_Hour', 'Hosp_Hour']"
   ]
  },
  {
   "cell_type": "code",
   "execution_count": 481,
   "metadata": {},
   "outputs": [],
   "source": [
    "# Ejecuta el PCA para mantener el 80% de los datos de las 9 columnas originales\n",
    "pca = PCA(n_components=0.8)  # Número de componentes a mantener\n",
    "pca_result = pca.fit_transform(abt[response_hours_columns_to_pca])"
   ]
  },
  {
   "cell_type": "code",
   "execution_count": 482,
   "metadata": {},
   "outputs": [],
   "source": [
    "# Crea el nuevo dataframe eliminando las columnas antiguas y agregando las nuevas y lo guarda en 'abt_pca'\n",
    "pca_columns = [f'Response_Hours_pca {i+1}' for i in range(pca_result.shape[1])]\n",
    "pca_df = pd.DataFrame(data=pca_result, columns=pca_columns)\n",
    "\n",
    "abt_pca = abt_pca.drop(columns=response_hours_columns_to_pca)  # Elimina las columnas originales\n",
    "abt_pca = pd.concat([abt_pca, pca_df], axis=1)  # Añade las columnas del PCA"
   ]
  },
  {
   "cell_type": "markdown",
   "metadata": {},
   "source": [
    "### '_Min' columns to PCA"
   ]
  },
  {
   "cell_type": "code",
   "execution_count": 483,
   "metadata": {},
   "outputs": [],
   "source": [
    "# Selecciona todas las columnas que están altamente correlacionadas entre sí y que hacen referencia al minuto de notificación, llegada de servicios de emergencia y llegada al hospital\n",
    "response_mins_columns_to_pca = ['Not_Min', 'Arr_Min', 'Hosp_Min']"
   ]
  },
  {
   "cell_type": "code",
   "execution_count": 484,
   "metadata": {},
   "outputs": [],
   "source": [
    "# Ejecuta el PCA para mantener el 80% de los datos de las 9 columnas originales\n",
    "pca = PCA(n_components=0.8)  # Número de componentes a mantener\n",
    "pca_result = pca.fit_transform(abt[response_mins_columns_to_pca])"
   ]
  },
  {
   "cell_type": "code",
   "execution_count": 485,
   "metadata": {},
   "outputs": [],
   "source": [
    "# Crea el nuevo dataframe eliminando las columnas antiguas y agregando las nuevas y lo guarda en 'abt_pca'\n",
    "pca_columns = [f'Response_Mins_pca {i+1}' for i in range(pca_result.shape[1])]\n",
    "pca_df = pd.DataFrame(data=pca_result, columns=pca_columns)\n",
    "\n",
    "abt_pca = abt_pca.drop(columns=response_mins_columns_to_pca)  # Elimina las columnas originales\n",
    "abt_pca = pd.concat([abt_pca, pca_df], axis=1)  # Añade las columnas del PCA"
   ]
  },
  {
   "cell_type": "markdown",
   "metadata": {},
   "source": [
    "### 'Acc_' columns to PCA"
   ]
  },
  {
   "cell_type": "code",
   "execution_count": 486,
   "metadata": {},
   "outputs": [],
   "source": [
    "# Selecciona todas las columnas que están altamente correlacionadas entre sí y que hacen referencia al tipo de accidente\n",
    "accident_columns_to_pca = ['Acc_Avoid_Collision_Obj', 'Acc_Avoid_Collision_Ped_or_Anim', 'Acc_Avoid_Collision_Veh', 'Acc_Avoid_Collision_Veh', 'Acc_Backing_Veh', 'Acc_Changing_Lanes_to_Left', 'Acc_Changing_Lanes_to_Right',\\\n",
    "    'Acc_Control_Loss', 'Acc_Decelerating', 'Acc_Decelerating_to_Left', 'Acc_Decelerating_to_Right', 'Acc_Decelerating_to_Straight', 'Acc_Drive_Off_Road', 'Acc_End_Departure', 'Acc_Opposite_Dir_to_Straight',\\\n",
    "        'Acc_Opposite_Dir_to_Left_or_Right', 'Acc_Same_Dir_to_Straight', 'Acc_Same_Dir_to_Left', 'Acc_Same_Dir_to_Right', 'Acc_Lateral_Move_to_Straight', 'Acc_Lateral_Move_to_Left_or_Right', 'Acc_No_Impact', 'Acc_Other_Crash',\\\n",
    "            'Acc_Other_Veh', 'Acc_Parked_Veh', 'Acc_Ped_or_Animal', 'Acc_Slower', 'Acc_Slower_to_Left', 'Acc_Slower_to_Right', 'Acc_Slower_to_Straight', 'Acc_Specifics_Other', 'Acc_StaObj', 'Acc_Stopped', 'Acc_Stopped_Ahead_Left',\\\n",
    "                'Acc_Stopped_Ahead_Right', 'Acc_Striking_from_Left', 'Acc_Striking_from_Right', 'Acc_Struck_on_Right', 'Acc_Struck_on_Left', 'Acc_Turn_to_Opposite_Dir_to_Straight', 'Acc_Turn_to_Opposite_Dir_to_Left',\\\n",
    "                    'Acc_Turn_to_Opposite_Dir_to_Right', 'Acc_Turn_to_Same_Dir_to_Straight', 'Acc_Turn_to_Same_Dir_to_Left', 'Acc_Turn_to_Same_Dir_to_Right']"
   ]
  },
  {
   "cell_type": "code",
   "execution_count": 487,
   "metadata": {},
   "outputs": [],
   "source": [
    "# Ejecuta el PCA para mantener el 80% de los datos de las 9 columnas originales\n",
    "pca = PCA(n_components=0.8)  # Número de componentes a mantener\n",
    "pca_result = pca.fit_transform(abt[accident_columns_to_pca])"
   ]
  },
  {
   "cell_type": "code",
   "execution_count": 488,
   "metadata": {},
   "outputs": [],
   "source": [
    "# Crea el nuevo dataframe eliminando las columnas antiguas y agregando las nuevas y lo guarda en 'abt_pca'\n",
    "pca_columns = [f'Acc_pca {i+1}' for i in range(pca_result.shape[1])]\n",
    "pca_df = pd.DataFrame(data=pca_result, columns=pca_columns)\n",
    "\n",
    "abt_pca = abt_pca.drop(columns=accident_columns_to_pca)  # Elimina las columnas originales\n",
    "abt_pca = pd.concat([abt_pca, pca_df], axis=1)  # Añade las columnas del PCA"
   ]
  },
  {
   "cell_type": "markdown",
   "metadata": {},
   "source": [
    "### 1:1 correlation vars selection"
   ]
  },
  {
   "cell_type": "code",
   "execution_count": 489,
   "metadata": {},
   "outputs": [],
   "source": [
    "# Elimina una de las dos columnas correlacionadas y se queda con Total_Veh, Persons, Urban y Veh_TruckTractor\n",
    "columns_to_drop = ['Hit_Run_No', 'Persons_in_Veh', 'Rural', \"14,969 kg and above\"]\n",
    "abt_pca = abt_pca.drop(columns=columns_to_drop)"
   ]
  },
  {
   "cell_type": "markdown",
   "metadata": {},
   "source": [
    "# Predictive model"
   ]
  },
  {
   "cell_type": "markdown",
   "metadata": {},
   "source": [
    "The provided code aims to predict traffic accident fatalities in a specific state using machine learning. It utilizes an 8-week moving average of historical data to train a Random Forest Regression model and generate predictions for the upcoming 8 weeks.\n",
    "\n",
    "Initially, an attempt was made to plot the data on a daily basis. However, the resulting graph was excessively erratic, exhibiting numerous peaks and valleys without any discernible pattern. To address this issue, it was decided to group the dates by week and focus the prediction on the deaths that would occur in the following eight weeks. This weekly aggregation smoothed out the graph and revealed underlying patterns in the data. Furthermore, focusing on deaths in the following eight weeks aligned the prediction with the relevant time horizon for public security decision-making."
   ]
  },
  {
   "cell_type": "code",
   "execution_count": 491,
   "metadata": {},
   "outputs": [],
   "source": [
    "# Elimina las columnas que hacen referencia a fechas que ya no necesito para la nueva predicción\n",
    "abt_pca = abt_pca.drop(columns=['Year', 'Month', 'Day', 'Day_Week', 'Hour', 'Minute', 'Date'])"
   ]
  },
  {
   "cell_type": "code",
   "execution_count": 295,
   "metadata": {},
   "outputs": [
    {
     "data": {
      "image/png": "[encoded data removed]",
      "text/plain": [
       "<Figure size 1400x800 with 1 Axes>"
      ]
     },
     "metadata": {},
     "output_type": "display_data"
    }
   ],
   "source": [
    "# Crea un gráfico de series temporales de muertes por accidente de tráfico para 3 estados aleatorios\n",
    "\n",
    "# Selecciona 3 estados aleatorios sin repetición\n",
    "random_states = np.random.choice(abt_pca['State'].unique(), 3, replace=False)\n",
    "\n",
    "# Crea el gráfico y define el tamaño\n",
    "plt.figure(figsize=(14, 8))\n",
    "\n",
    "# Itera sobre cada estado aleatorio\n",
    "for state in random_states:\n",
    "    state_data = abt_pca[abt_pca['State'] == state] # Filtra los datos del estado actual\n",
    "    state_data = state_data.sort_values(by=['Year_Week']) # Ordena los datos por 'Year_Week'\n",
    "    plt.plot(state_data['Year_Week'], state_data['Fatals'], label=state) # Crea la gráfica de series temporales para el estado actual\n",
    "\n",
    "# Añade etiquetas a los ejes\n",
    "plt.xlabel('Year_Week')\n",
    "plt.ylabel('Fatals')\n",
    "\n",
    "# Define el título del gráfico\n",
    "plt.title('Time Series of Fatals for 3 Random States')\n",
    "\n",
    "# Define la layenda con el nombre de cada estado\n",
    "plt.legend(title='State')\n",
    "\n",
    "# Rota las etiquetas del eje X para mejorar la legibilidad\n",
    "plt.xticks(rotation=45)\n",
    "\n",
    "# Añade una cuadrícula para facilitar la visualización\n",
    "plt.grid(True)\n",
    "\n",
    "# Muestra el gráfico\n",
    "plt.show()"
   ]
  },
  {
   "cell_type": "code",
   "execution_count": 493,
   "metadata": {},
   "outputs": [],
   "source": [
    "import pandas as pd\n",
    "import numpy as np\n",
    "from sklearn.ensemble import RandomForestRegressor\n",
    "from sklearn.preprocessing import StandardScaler\n",
    "from sklearn.model_selection import train_test_split, TimeSeriesSplit\n",
    "from sklearn.metrics import mean_squared_error"
   ]
  },
  {
   "cell_type": "code",
   "execution_count": 494,
   "metadata": {},
   "outputs": [],
   "source": [
    "# Define las columnas\n",
    "target_column = 'Fatals' # Se define la columna que contiene el valor objetivo (target) a predecir\n",
    "feature_columns = [f'X{i}' for i in range(1, 101)] #  Se crea una lista con los nombres de las columnas de características (features), desde X1 hasta X100\n",
    "state_column = 'State' # Se define la columna que contiene el nombre del estado\n",
    "state_to_analyze = 'California'  # Se define el estado que se desea analizar (se puede cambiar por otro estado)"
   ]
  },
  {
   "cell_type": "code",
   "execution_count": 501,
   "metadata": {},
   "outputs": [],
   "source": [
    "#  Filtra el DataFrame original (abt_pca) para quedarse solo con las filas del estado deseado\n",
    "state_df = abt_pca[abt_pca[state_column] == state_to_analyze]"
   ]
  },
  {
   "cell_type": "code",
   "execution_count": 504,
   "metadata": {},
   "outputs": [
    {
     "data": {
      "text/html": [
       "<div>\n",
       "<style scoped>\n",
       "    .dataframe tbody tr th:only-of-type {\n",
       "        vertical-align: middle;\n",
       "    }\n",
       "\n",
       "    .dataframe tbody tr th {\n",
       "        vertical-align: top;\n",
       "    }\n",
       "\n",
       "    .dataframe thead th {\n",
       "        text-align: right;\n",
       "    }\n",
       "</style>\n",
       "<table border=\"1\" class=\"dataframe\">\n",
       "  <thead>\n",
       "    <tr style=\"text-align: right;\">\n",
       "      <th></th>\n",
       "      <th>Year_Week</th>\n",
       "      <th>State</th>\n",
       "      <th>Persons</th>\n",
       "      <th>Persons_Not_in_Veh</th>\n",
       "      <th>Total_Veh</th>\n",
       "      <th>Parked_Veh</th>\n",
       "      <th>Urban</th>\n",
       "      <th>Road_Bureau_of_Indian_Affairs</th>\n",
       "      <th>Road_Bureau_of_Land_Management</th>\n",
       "      <th>Road_Bureau_of_Reclamation</th>\n",
       "      <th>Road_City_or_Municipal_Highway_Agency</th>\n",
       "      <th>Road_County_Highway_Agency</th>\n",
       "      <th>Road_Indian_Tribe_Nation</th>\n",
       "      <th>Road_Local_Park_Forest_or_Reservation_Agency</th>\n",
       "      <th>Road_Local_Toll_Auth</th>\n",
       "      <th>Road_National_Park_Serv</th>\n",
       "      <th>Road_Other_Fed_Agency</th>\n",
       "      <th>Road_Other_Local_Agency</th>\n",
       "      <th>Road_Other_Public_Instrumentality</th>\n",
       "      <th>Road_Other_State_Agency</th>\n",
       "      <th>Road_Private</th>\n",
       "      <th>Road_Railroad</th>\n",
       "      <th>Road_State_Highway_Agency</th>\n",
       "      <th>Road_State_Park_Forest_or_Reservation_Agency</th>\n",
       "      <th>Road_State_Toll</th>\n",
       "      <th>Road_Town_Highway_Agency</th>\n",
       "      <th>Road_Not_in_State_Inventory</th>\n",
       "      <th>Road_USA_Forest_Service</th>\n",
       "      <th>Harmful_Event_Animal</th>\n",
       "      <th>Harmful_Event_Fire</th>\n",
       "      <th>Harmful_Event_Impact_Attenuator</th>\n",
       "      <th>Harmful_Event_Maneuver</th>\n",
       "      <th>Harmful_Event_Nature_Barriers</th>\n",
       "      <th>Harmful_Event_Non_Collision</th>\n",
       "      <th>Harmful_Event_Obj</th>\n",
       "      <th>Harmful_Event_Parked_Veh</th>\n",
       "      <th>Harmful_Event_Pav_Irregular</th>\n",
       "      <th>Harmful_Event_Pedalcyclist</th>\n",
       "      <th>Harmful_Event_Pedestrian</th>\n",
       "      <th>Harmful_Event_Urban_or_Traffic_El</th>\n",
       "      <th>Harmful_Event_Veh</th>\n",
       "      <th>Age</th>\n",
       "      <th>Female</th>\n",
       "      <th>Male</th>\n",
       "      <th>Died_Prior_To_Crash</th>\n",
       "      <th>Fatal_Injury</th>\n",
       "      <th>Injured_Severity_Unknown</th>\n",
       "      <th>No_Apparent_Injury</th>\n",
       "      <th>Possible_Injury</th>\n",
       "      <th>Suspected_Minor_Injury</th>\n",
       "      <th>Suspected_Serious_Injury</th>\n",
       "      <th>Restraint_Misuse</th>\n",
       "      <th>Helm_Misuse</th>\n",
       "      <th>Drinking_Involved</th>\n",
       "      <th>Maneuver_Avoid_Obstacle</th>\n",
       "      <th>Maneuver_Contact_Vehicle</th>\n",
       "      <th>Maneuver_Road_Condition</th>\n",
       "      <th>Distraction_Eating_Drinking</th>\n",
       "      <th>Distraction_Mobile</th>\n",
       "      <th>Distraction_Smoking</th>\n",
       "      <th>Drug_Anesthetic</th>\n",
       "      <th>Drugs_Antidepressant</th>\n",
       "      <th>Drugs_Antipsychotic</th>\n",
       "      <th>Drugs_Barbiturate</th>\n",
       "      <th>Drugs_Depressant</th>\n",
       "      <th>Drugs_OTC_Analgesic</th>\n",
       "      <th>Drugs_Opioid</th>\n",
       "      <th>Drugs_Other</th>\n",
       "      <th>Drugs_Stimulant</th>\n",
       "      <th>Drugs_Synthetic_Cannabinoid</th>\n",
       "      <th>Model_Year</th>\n",
       "      <th>Previous_Accident</th>\n",
       "      <th>Previous_Suspension</th>\n",
       "      <th>Previous_Driving_Intoxidated</th>\n",
       "      <th>Previous_Speed_Convict</th>\n",
       "      <th>Veh_Sedan</th>\n",
       "      <th>Veh_All_Terrain_Cycle</th>\n",
       "      <th>Veh_Utility</th>\n",
       "      <th>Veh_Bus</th>\n",
       "      <th>Veh_Cab_Chassis_Based</th>\n",
       "      <th>Veh_Compact_Utility</th>\n",
       "      <th>Veh_Convertible</th>\n",
       "      <th>Veh_Coupe</th>\n",
       "      <th>Veh_Golf_cart</th>\n",
       "      <th>Veh_Large_Utility</th>\n",
       "      <th>Veh_Low_Speed</th>\n",
       "      <th>Veh_Minivan</th>\n",
       "      <th>Veh_Moped</th>\n",
       "      <th>Veh_Motor_Scooter</th>\n",
       "      <th>Veh_Motor_Home</th>\n",
       "      <th>Veh_Motorcycle</th>\n",
       "      <th>Veh_Motorcycle</th>\n",
       "      <th>Veh_Pickup</th>\n",
       "      <th>Veh_Recreational_OffHighWay</th>\n",
       "      <th>Veh_SchoolBus</th>\n",
       "      <th>Veh_Sedan</th>\n",
       "      <th>Veh_Snowmobile</th>\n",
       "      <th>Veh_Solar_Electric</th>\n",
       "      <th>Veh_Station_Wagon</th>\n",
       "      <th>Veh_Truck</th>\n",
       "      <th>Veh_TruckTractor</th>\n",
       "      <th>Veh_Utility</th>\n",
       "      <th>Veh_Van</th>\n",
       "      <th>Veh_VanBus</th>\n",
       "      <th>11,794-14,969 kg</th>\n",
       "      <th>2,722-4,536 kg</th>\n",
       "      <th>2,722 kg or less</th>\n",
       "      <th>4,536-6,350 kg</th>\n",
       "      <th>6,350-7,258 kg</th>\n",
       "      <th>7,258-8,845 kg</th>\n",
       "      <th>8,845-11,794 kg</th>\n",
       "      <th>Impact_Back</th>\n",
       "      <th>Impact_Front</th>\n",
       "      <th>Impact_Left</th>\n",
       "      <th>Impact_Left_Back</th>\n",
       "      <th>Impact_Left_Back_Front</th>\n",
       "      <th>Impact_Non_Collision</th>\n",
       "      <th>Impact_Right</th>\n",
       "      <th>Impact_Right_Back</th>\n",
       "      <th>Impact_Right_Front</th>\n",
       "      <th>Impact_Top</th>\n",
       "      <th>Impact_Undercarriage</th>\n",
       "      <th>Impact_Obj_or_Person_In_Motion</th>\n",
       "      <th>Road_Dry</th>\n",
       "      <th>Road_Ice</th>\n",
       "      <th>Road_Mud_Dirt_or_Gravel</th>\n",
       "      <th>Road_NonTrafficway</th>\n",
       "      <th>Road_Oil</th>\n",
       "      <th>Road_Snow</th>\n",
       "      <th>Road_Water</th>\n",
       "      <th>Road_Wet</th>\n",
       "      <th>License_Compl_Unknown</th>\n",
       "      <th>License_Compl_No_Required</th>\n",
       "      <th>License_Compl_No_Valid</th>\n",
       "      <th>License_Compl_No</th>\n",
       "      <th>License_Restriction_Unknown</th>\n",
       "      <th>License_Restriction_Not_Applicable</th>\n",
       "      <th>License_Restriction_Not_Complied</th>\n",
       "      <th>High_Speed_No</th>\n",
       "      <th>High_Speed_Yes</th>\n",
       "      <th>Hit_Run_Yes</th>\n",
       "      <th>Weather_Clear</th>\n",
       "      <th>Weather_Cloudy</th>\n",
       "      <th>Weather_Freezing</th>\n",
       "      <th>Weather_Rain</th>\n",
       "      <th>Weather_Snow</th>\n",
       "      <th>Weather_Windy</th>\n",
       "      <th>Fatals</th>\n",
       "      <th>Seat_pca 1</th>\n",
       "      <th>Seat_pca 2</th>\n",
       "      <th>Seat_pca 3</th>\n",
       "      <th>Type_of_Person_pca 1</th>\n",
       "      <th>Type_of_Person_pca 2</th>\n",
       "      <th>Response_Hours_pca 1</th>\n",
       "      <th>Response_Mins_pca 1</th>\n",
       "      <th>Acc_pca 1</th>\n",
       "      <th>Acc_pca 2</th>\n",
       "      <th>Acc_pca 3</th>\n",
       "      <th>Acc_pca 4</th>\n",
       "      <th>Acc_pca 5</th>\n",
       "      <th>Acc_pca 6</th>\n",
       "      <th>Acc_pca 7</th>\n",
       "    </tr>\n",
       "  </thead>\n",
       "  <tbody>\n",
       "    <tr>\n",
       "      <th>3</th>\n",
       "      <td>2021_52</td>\n",
       "      <td>California</td>\n",
       "      <td>2.37037</td>\n",
       "      <td>0.296296</td>\n",
       "      <td>1.814815</td>\n",
       "      <td>0.222222</td>\n",
       "      <td>0.851852</td>\n",
       "      <td>0.0</td>\n",
       "      <td>0.0</td>\n",
       "      <td>0.0</td>\n",
       "      <td>0.148148</td>\n",
       "      <td>0.111111</td>\n",
       "      <td>0.0</td>\n",
       "      <td>0.0</td>\n",
       "      <td>0.0</td>\n",
       "      <td>0.0</td>\n",
       "      <td>0.0</td>\n",
       "      <td>0.0</td>\n",
       "      <td>0.0</td>\n",
       "      <td>0.0</td>\n",
       "      <td>0.0</td>\n",
       "      <td>0.0</td>\n",
       "      <td>0.333333</td>\n",
       "      <td>0.0</td>\n",
       "      <td>0.0</td>\n",
       "      <td>0.0</td>\n",
       "      <td>0.0</td>\n",
       "      <td>0.0</td>\n",
       "      <td>0.0</td>\n",
       "      <td>0.0</td>\n",
       "      <td>0.0</td>\n",
       "      <td>0.074074</td>\n",
       "      <td>0.074074</td>\n",
       "      <td>0.0</td>\n",
       "      <td>0.037037</td>\n",
       "      <td>0.037037</td>\n",
       "      <td>0.0</td>\n",
       "      <td>0.037037</td>\n",
       "      <td>0.222222</td>\n",
       "      <td>0.148148</td>\n",
       "      <td>0.37037</td>\n",
       "      <td>106.311728</td>\n",
       "      <td>0.814815</td>\n",
       "      <td>1.62963</td>\n",
       "      <td>0.0</td>\n",
       "      <td>1.074074</td>\n",
       "      <td>0.0</td>\n",
       "      <td>0.851852</td>\n",
       "      <td>0.148148</td>\n",
       "      <td>0.111111</td>\n",
       "      <td>0.222222</td>\n",
       "      <td>0.037037</td>\n",
       "      <td>0.0</td>\n",
       "      <td>0.333333</td>\n",
       "      <td>0.037037</td>\n",
       "      <td>0.148148</td>\n",
       "      <td>0.0</td>\n",
       "      <td>0.0</td>\n",
       "      <td>0.0</td>\n",
       "      <td>0.0</td>\n",
       "      <td>0.0</td>\n",
       "      <td>0.0</td>\n",
       "      <td>0.0</td>\n",
       "      <td>0.0</td>\n",
       "      <td>0.037037</td>\n",
       "      <td>0.0</td>\n",
       "      <td>0.0</td>\n",
       "      <td>1.148148</td>\n",
       "      <td>0.185185</td>\n",
       "      <td>0.111111</td>\n",
       "      <td>2009.552083</td>\n",
       "      <td>0.166667</td>\n",
       "      <td>0.0</td>\n",
       "      <td>0.0</td>\n",
       "      <td>0.159722</td>\n",
       "      <td>0.125</td>\n",
       "      <td>0.0</td>\n",
       "      <td>0.0</td>\n",
       "      <td>0.0</td>\n",
       "      <td>0.0</td>\n",
       "      <td>0.208333</td>\n",
       "      <td>0.0</td>\n",
       "      <td>0.0</td>\n",
       "      <td>0.0</td>\n",
       "      <td>0.041667</td>\n",
       "      <td>0.0</td>\n",
       "      <td>0.0</td>\n",
       "      <td>0.0</td>\n",
       "      <td>0.041667</td>\n",
       "      <td>0.0</td>\n",
       "      <td>0.083333</td>\n",
       "      <td>0.0</td>\n",
       "      <td>0.208333</td>\n",
       "      <td>0.0</td>\n",
       "      <td>0.0</td>\n",
       "      <td>0.666667</td>\n",
       "      <td>0.0</td>\n",
       "      <td>0.0</td>\n",
       "      <td>0.041667</td>\n",
       "      <td>0.0</td>\n",
       "      <td>0.041667</td>\n",
       "      <td>0.041667</td>\n",
       "      <td>0.041667</td>\n",
       "      <td>0.0</td>\n",
       "      <td>0.0</td>\n",
       "      <td>0.25</td>\n",
       "      <td>1.25</td>\n",
       "      <td>0.0</td>\n",
       "      <td>0.0</td>\n",
       "      <td>0.0</td>\n",
       "      <td>0.0</td>\n",
       "      <td>0.125</td>\n",
       "      <td>0.708333</td>\n",
       "      <td>0.166667</td>\n",
       "      <td>0.0</td>\n",
       "      <td>0.0</td>\n",
       "      <td>0.0</td>\n",
       "      <td>0.25</td>\n",
       "      <td>0.0</td>\n",
       "      <td>0.041667</td>\n",
       "      <td>0.0</td>\n",
       "      <td>0.0</td>\n",
       "      <td>0.0</td>\n",
       "      <td>1.5</td>\n",
       "      <td>0.0</td>\n",
       "      <td>0.0</td>\n",
       "      <td>0.0</td>\n",
       "      <td>0.0</td>\n",
       "      <td>0.0</td>\n",
       "      <td>0.0</td>\n",
       "      <td>0.0</td>\n",
       "      <td>0.0</td>\n",
       "      <td>0.0</td>\n",
       "      <td>0.125</td>\n",
       "      <td>0.25</td>\n",
       "      <td>0.0</td>\n",
       "      <td>1.0</td>\n",
       "      <td>0.041667</td>\n",
       "      <td>1.041667</td>\n",
       "      <td>0.5</td>\n",
       "      <td>0.083333</td>\n",
       "      <td>0.888889</td>\n",
       "      <td>0.074074</td>\n",
       "      <td>0.0</td>\n",
       "      <td>0.0</td>\n",
       "      <td>0.0</td>\n",
       "      <td>0.0</td>\n",
       "      <td>29.0</td>\n",
       "      <td>-0.007171</td>\n",
       "      <td>0.088502</td>\n",
       "      <td>0.090637</td>\n",
       "      <td>0.163645</td>\n",
       "      <td>-0.044691</td>\n",
       "      <td>37.512015</td>\n",
       "      <td>44.705765</td>\n",
       "      <td>0.001719</td>\n",
       "      <td>-0.073805</td>\n",
       "      <td>0.011638</td>\n",
       "      <td>0.030961</td>\n",
       "      <td>-0.0496</td>\n",
       "      <td>-0.001694</td>\n",
       "      <td>-0.015243</td>\n",
       "    </tr>\n",
       "  </tbody>\n",
       "</table>\n",
       "</div>"
      ],
      "text/plain": [
       "  Year_Week       State  Persons  Persons_Not_in_Veh  Total_Veh  Parked_Veh  \\\n",
       "3   2021_52  California  2.37037            0.296296   1.814815    0.222222   \n",
       "\n",
       "      Urban  Road_Bureau_of_Indian_Affairs  Road_Bureau_of_Land_Management  \\\n",
       "3  0.851852                            0.0                             0.0   \n",
       "\n",
       "   Road_Bureau_of_Reclamation  Road_City_or_Municipal_Highway_Agency  \\\n",
       "3                         0.0                               0.148148   \n",
       "\n",
       "   Road_County_Highway_Agency  Road_Indian_Tribe_Nation  \\\n",
       "3                    0.111111                       0.0   \n",
       "\n",
       "   Road_Local_Park_Forest_or_Reservation_Agency  Road_Local_Toll_Auth  \\\n",
       "3                                           0.0                   0.0   \n",
       "\n",
       "   Road_National_Park_Serv  Road_Other_Fed_Agency  Road_Other_Local_Agency  \\\n",
       "3                      0.0                    0.0                      0.0   \n",
       "\n",
       "   Road_Other_Public_Instrumentality  Road_Other_State_Agency  Road_Private  \\\n",
       "3                                0.0                      0.0           0.0   \n",
       "\n",
       "   Road_Railroad  Road_State_Highway_Agency  \\\n",
       "3            0.0                   0.333333   \n",
       "\n",
       "   Road_State_Park_Forest_or_Reservation_Agency  Road_State_Toll  \\\n",
       "3                                           0.0              0.0   \n",
       "\n",
       "   Road_Town_Highway_Agency  Road_Not_in_State_Inventory  \\\n",
       "3                       0.0                          0.0   \n",
       "\n",
       "   Road_USA_Forest_Service  Harmful_Event_Animal  Harmful_Event_Fire  \\\n",
       "3                      0.0                   0.0                 0.0   \n",
       "\n",
       "   Harmful_Event_Impact_Attenuator  Harmful_Event_Maneuver  \\\n",
       "3                              0.0                0.074074   \n",
       "\n",
       "   Harmful_Event_Nature_Barriers  Harmful_Event_Non_Collision  \\\n",
       "3                       0.074074                          0.0   \n",
       "\n",
       "   Harmful_Event_Obj  Harmful_Event_Parked_Veh  Harmful_Event_Pav_Irregular  \\\n",
       "3           0.037037                  0.037037                          0.0   \n",
       "\n",
       "   Harmful_Event_Pedalcyclist  Harmful_Event_Pedestrian  \\\n",
       "3                    0.037037                  0.222222   \n",
       "\n",
       "   Harmful_Event_Urban_or_Traffic_El  Harmful_Event_Veh         Age    Female  \\\n",
       "3                           0.148148            0.37037  106.311728  0.814815   \n",
       "\n",
       "      Male  Died_Prior_To_Crash  Fatal_Injury  Injured_Severity_Unknown  \\\n",
       "3  1.62963                  0.0      1.074074                       0.0   \n",
       "\n",
       "   No_Apparent_Injury  Possible_Injury  Suspected_Minor_Injury  \\\n",
       "3            0.851852         0.148148                0.111111   \n",
       "\n",
       "   Suspected_Serious_Injury  Restraint_Misuse  Helm_Misuse  Drinking_Involved  \\\n",
       "3                  0.222222          0.037037          0.0           0.333333   \n",
       "\n",
       "   Maneuver_Avoid_Obstacle  Maneuver_Contact_Vehicle  Maneuver_Road_Condition  \\\n",
       "3                 0.037037                  0.148148                      0.0   \n",
       "\n",
       "   Distraction_Eating_Drinking  Distraction_Mobile  Distraction_Smoking  \\\n",
       "3                          0.0                 0.0                  0.0   \n",
       "\n",
       "   Drug_Anesthetic  Drugs_Antidepressant  Drugs_Antipsychotic  \\\n",
       "3              0.0                   0.0                  0.0   \n",
       "\n",
       "   Drugs_Barbiturate  Drugs_Depressant  Drugs_OTC_Analgesic  Drugs_Opioid  \\\n",
       "3                0.0          0.037037                  0.0           0.0   \n",
       "\n",
       "   Drugs_Other  Drugs_Stimulant  Drugs_Synthetic_Cannabinoid   Model_Year  \\\n",
       "3     1.148148         0.185185                     0.111111  2009.552083   \n",
       "\n",
       "   Previous_Accident  Previous_Suspension  Previous_Driving_Intoxidated  \\\n",
       "3           0.166667                  0.0                           0.0   \n",
       "\n",
       "   Previous_Speed_Convict  Veh_Sedan  Veh_All_Terrain_Cycle  Veh_Utility  \\\n",
       "3                0.159722      0.125                    0.0          0.0   \n",
       "\n",
       "   Veh_Bus  Veh_Cab_Chassis_Based  Veh_Compact_Utility  Veh_Convertible  \\\n",
       "3      0.0                    0.0             0.208333              0.0   \n",
       "\n",
       "   Veh_Coupe  Veh_Golf_cart  Veh_Large_Utility  Veh_Low_Speed  Veh_Minivan  \\\n",
       "3        0.0            0.0           0.041667            0.0          0.0   \n",
       "\n",
       "   Veh_Moped  Veh_Motor_Scooter  Veh_Motor_Home  Veh_Motorcycle  \\\n",
       "3        0.0           0.041667             0.0        0.083333   \n",
       "\n",
       "   Veh_Motorcycle  Veh_Pickup  Veh_Recreational_OffHighWay  Veh_SchoolBus  \\\n",
       "3             0.0    0.208333                          0.0            0.0   \n",
       "\n",
       "   Veh_Sedan  Veh_Snowmobile  Veh_Solar_Electric  Veh_Station_Wagon  \\\n",
       "3   0.666667             0.0                 0.0           0.041667   \n",
       "\n",
       "   Veh_Truck  Veh_TruckTractor  Veh_Utility   Veh_Van  Veh_VanBus  \\\n",
       "3        0.0          0.041667     0.041667  0.041667         0.0   \n",
       "\n",
       "   11,794-14,969 kg  2,722-4,536 kg  2,722 kg or less  4,536-6,350 kg  \\\n",
       "3               0.0            0.25              1.25             0.0   \n",
       "\n",
       "   6,350-7,258 kg  7,258-8,845 kg  8,845-11,794 kg  Impact_Back  Impact_Front  \\\n",
       "3             0.0             0.0              0.0        0.125      0.708333   \n",
       "\n",
       "   Impact_Left  Impact_Left_Back  Impact_Left_Back_Front  \\\n",
       "3     0.166667               0.0                     0.0   \n",
       "\n",
       "   Impact_Non_Collision  Impact_Right  Impact_Right_Back  Impact_Right_Front  \\\n",
       "3                   0.0          0.25                0.0            0.041667   \n",
       "\n",
       "   Impact_Top  Impact_Undercarriage  Impact_Obj_or_Person_In_Motion  Road_Dry  \\\n",
       "3         0.0                   0.0                             0.0       1.5   \n",
       "\n",
       "   Road_Ice  Road_Mud_Dirt_or_Gravel  Road_NonTrafficway  Road_Oil  Road_Snow  \\\n",
       "3       0.0                      0.0                 0.0       0.0        0.0   \n",
       "\n",
       "   Road_Water  Road_Wet  License_Compl_Unknown  License_Compl_No_Required  \\\n",
       "3         0.0       0.0                    0.0                        0.0   \n",
       "\n",
       "   License_Compl_No_Valid  License_Compl_No  License_Restriction_Unknown  \\\n",
       "3                   0.125              0.25                          0.0   \n",
       "\n",
       "   License_Restriction_Not_Applicable  License_Restriction_Not_Complied  \\\n",
       "3                                 1.0                          0.041667   \n",
       "\n",
       "   High_Speed_No  High_Speed_Yes  Hit_Run_Yes  Weather_Clear  Weather_Cloudy  \\\n",
       "3       1.041667             0.5     0.083333       0.888889        0.074074   \n",
       "\n",
       "   Weather_Freezing  Weather_Rain  Weather_Snow  Weather_Windy  Fatals  \\\n",
       "3               0.0           0.0           0.0            0.0    29.0   \n",
       "\n",
       "   Seat_pca 1  Seat_pca 2  Seat_pca 3  Type_of_Person_pca 1  \\\n",
       "3   -0.007171    0.088502    0.090637              0.163645   \n",
       "\n",
       "   Type_of_Person_pca 2  Response_Hours_pca 1  Response_Mins_pca 1  Acc_pca 1  \\\n",
       "3             -0.044691             37.512015            44.705765   0.001719   \n",
       "\n",
       "   Acc_pca 2  Acc_pca 3  Acc_pca 4  Acc_pca 5  Acc_pca 6  Acc_pca 7  \n",
       "3  -0.073805   0.011638   0.030961    -0.0496  -0.001694  -0.015243  "
      ]
     },
     "execution_count": 504,
     "metadata": {},
     "output_type": "execute_result"
    }
   ],
   "source": [
    "state_df.head(1)"
   ]
  },
  {
   "cell_type": "code",
   "execution_count": 502,
   "metadata": {},
   "outputs": [
    {
     "ename": "KeyError",
     "evalue": "'X1'",
     "output_type": "error",
     "traceback": [
      "\u001b[1;31m---------------------------------------------------------------------------\u001b[0m",
      "\u001b[1;31mKeyError\u001b[0m                                  Traceback (most recent call last)",
      "File \u001b[1;32mc:\\Users\\perez\\anaconda3\\envs\\final_project\\Lib\\site-packages\\pandas\\core\\indexes\\base.py:3805\u001b[0m, in \u001b[0;36mIndex.get_loc\u001b[1;34m(self, key)\u001b[0m\n\u001b[0;32m   3804\u001b[0m \u001b[38;5;28;01mtry\u001b[39;00m:\n\u001b[1;32m-> 3805\u001b[0m     \u001b[38;5;28;01mreturn\u001b[39;00m \u001b[38;5;28;43mself\u001b[39;49m\u001b[38;5;241;43m.\u001b[39;49m\u001b[43m_engine\u001b[49m\u001b[38;5;241;43m.\u001b[39;49m\u001b[43mget_loc\u001b[49m\u001b[43m(\u001b[49m\u001b[43mcasted_key\u001b[49m\u001b[43m)\u001b[49m\n\u001b[0;32m   3806\u001b[0m \u001b[38;5;28;01mexcept\u001b[39;00m \u001b[38;5;167;01mKeyError\u001b[39;00m \u001b[38;5;28;01mas\u001b[39;00m err:\n",
      "File \u001b[1;32mindex.pyx:167\u001b[0m, in \u001b[0;36mpandas._libs.index.IndexEngine.get_loc\u001b[1;34m()\u001b[0m\n",
      "File \u001b[1;32mindex.pyx:191\u001b[0m, in \u001b[0;36mpandas._libs.index.IndexEngine.get_loc\u001b[1;34m()\u001b[0m\n",
      "File \u001b[1;32mindex.pyx:234\u001b[0m, in \u001b[0;36mpandas._libs.index.IndexEngine._get_loc_duplicates\u001b[1;34m()\u001b[0m\n",
      "File \u001b[1;32mindex.pyx:242\u001b[0m, in \u001b[0;36mpandas._libs.index.IndexEngine._maybe_get_bool_indexer\u001b[1;34m()\u001b[0m\n",
      "File \u001b[1;32mindex.pyx:134\u001b[0m, in \u001b[0;36mpandas._libs.index._unpack_bool_indexer\u001b[1;34m()\u001b[0m\n",
      "\u001b[1;31mKeyError\u001b[0m: 'X1'",
      "\nThe above exception was the direct cause of the following exception:\n",
      "\u001b[1;31mKeyError\u001b[0m                                  Traceback (most recent call last)",
      "Cell \u001b[1;32mIn[502], line 3\u001b[0m\n\u001b[0;32m      1\u001b[0m \u001b[38;5;66;03m# Crea una nueva columna para cada característica con el promedio móvil a 8 semanas\u001b[39;00m\n\u001b[0;32m      2\u001b[0m \u001b[38;5;28;01mfor\u001b[39;00m col \u001b[38;5;129;01min\u001b[39;00m feature_columns:\n\u001b[1;32m----> 3\u001b[0m     state_df[\u001b[38;5;124mf\u001b[39m\u001b[38;5;124m'\u001b[39m\u001b[38;5;132;01m{\u001b[39;00mcol\u001b[38;5;132;01m}\u001b[39;00m\u001b[38;5;124m_ma8\u001b[39m\u001b[38;5;124m'\u001b[39m] \u001b[38;5;241m=\u001b[39m \u001b[43mstate_df\u001b[49m\u001b[43m[\u001b[49m\u001b[43mcol\u001b[49m\u001b[43m]\u001b[49m\u001b[38;5;241m.\u001b[39mshift(\u001b[38;5;241m1\u001b[39m)\u001b[38;5;241m.\u001b[39mrolling(window\u001b[38;5;241m=\u001b[39m\u001b[38;5;241m8\u001b[39m)\u001b[38;5;241m.\u001b[39mmean() \n",
      "File \u001b[1;32mc:\\Users\\perez\\anaconda3\\envs\\final_project\\Lib\\site-packages\\pandas\\core\\frame.py:4090\u001b[0m, in \u001b[0;36mDataFrame.__getitem__\u001b[1;34m(self, key)\u001b[0m\n\u001b[0;32m   4088\u001b[0m \u001b[38;5;28;01mif\u001b[39;00m \u001b[38;5;28mself\u001b[39m\u001b[38;5;241m.\u001b[39mcolumns\u001b[38;5;241m.\u001b[39mnlevels \u001b[38;5;241m>\u001b[39m \u001b[38;5;241m1\u001b[39m:\n\u001b[0;32m   4089\u001b[0m     \u001b[38;5;28;01mreturn\u001b[39;00m \u001b[38;5;28mself\u001b[39m\u001b[38;5;241m.\u001b[39m_getitem_multilevel(key)\n\u001b[1;32m-> 4090\u001b[0m indexer \u001b[38;5;241m=\u001b[39m \u001b[38;5;28;43mself\u001b[39;49m\u001b[38;5;241;43m.\u001b[39;49m\u001b[43mcolumns\u001b[49m\u001b[38;5;241;43m.\u001b[39;49m\u001b[43mget_loc\u001b[49m\u001b[43m(\u001b[49m\u001b[43mkey\u001b[49m\u001b[43m)\u001b[49m\n\u001b[0;32m   4091\u001b[0m \u001b[38;5;28;01mif\u001b[39;00m is_integer(indexer):\n\u001b[0;32m   4092\u001b[0m     indexer \u001b[38;5;241m=\u001b[39m [indexer]\n",
      "File \u001b[1;32mc:\\Users\\perez\\anaconda3\\envs\\final_project\\Lib\\site-packages\\pandas\\core\\indexes\\base.py:3812\u001b[0m, in \u001b[0;36mIndex.get_loc\u001b[1;34m(self, key)\u001b[0m\n\u001b[0;32m   3807\u001b[0m     \u001b[38;5;28;01mif\u001b[39;00m \u001b[38;5;28misinstance\u001b[39m(casted_key, \u001b[38;5;28mslice\u001b[39m) \u001b[38;5;129;01mor\u001b[39;00m (\n\u001b[0;32m   3808\u001b[0m         \u001b[38;5;28misinstance\u001b[39m(casted_key, abc\u001b[38;5;241m.\u001b[39mIterable)\n\u001b[0;32m   3809\u001b[0m         \u001b[38;5;129;01mand\u001b[39;00m \u001b[38;5;28many\u001b[39m(\u001b[38;5;28misinstance\u001b[39m(x, \u001b[38;5;28mslice\u001b[39m) \u001b[38;5;28;01mfor\u001b[39;00m x \u001b[38;5;129;01min\u001b[39;00m casted_key)\n\u001b[0;32m   3810\u001b[0m     ):\n\u001b[0;32m   3811\u001b[0m         \u001b[38;5;28;01mraise\u001b[39;00m InvalidIndexError(key)\n\u001b[1;32m-> 3812\u001b[0m     \u001b[38;5;28;01mraise\u001b[39;00m \u001b[38;5;167;01mKeyError\u001b[39;00m(key) \u001b[38;5;28;01mfrom\u001b[39;00m \u001b[38;5;21;01merr\u001b[39;00m\n\u001b[0;32m   3813\u001b[0m \u001b[38;5;28;01mexcept\u001b[39;00m \u001b[38;5;167;01mTypeError\u001b[39;00m:\n\u001b[0;32m   3814\u001b[0m     \u001b[38;5;66;03m# If we have a listlike key, _check_indexing_error will raise\u001b[39;00m\n\u001b[0;32m   3815\u001b[0m     \u001b[38;5;66;03m#  InvalidIndexError. Otherwise we fall through and re-raise\u001b[39;00m\n\u001b[0;32m   3816\u001b[0m     \u001b[38;5;66;03m#  the TypeError.\u001b[39;00m\n\u001b[0;32m   3817\u001b[0m     \u001b[38;5;28mself\u001b[39m\u001b[38;5;241m.\u001b[39m_check_indexing_error(key)\n",
      "\u001b[1;31mKeyError\u001b[0m: 'X1'"
     ]
    }
   ],
   "source": [
    "# Crea una nueva columna para cada característica con el promedio móvil a 8 semanas\n",
    "for col in feature_columns:\n",
    "    state_df[f'{col}_ma8'] = state_df[col].shift(1).rolling(window=8).mean() "
   ]
  },
  {
   "cell_type": "code",
   "execution_count": 497,
   "metadata": {},
   "outputs": [
    {
     "name": "stderr",
     "output_type": "stream",
     "text": [
      "C:\\Users\\perez\\AppData\\Local\\Temp\\ipykernel_23928\\2964595396.py:2: SettingWithCopyWarning: \n",
      "A value is trying to be set on a copy of a slice from a DataFrame\n",
      "\n",
      "See the caveats in the documentation: https://pandas.pydata.org/pandas-docs/stable/user_guide/indexing.html#returning-a-view-versus-a-copy\n",
      "  state_df.dropna(inplace=True)\n"
     ]
    }
   ],
   "source": [
    "# Elimina las filas que contengan valores NaN creados por el cálculo del promedio móvil\n",
    "state_df.dropna(inplace=True)"
   ]
  },
  {
   "cell_type": "code",
   "execution_count": null,
   "metadata": {},
   "outputs": [],
   "source": [
    "# Normaliza las variables con una instancia de StandardScaler\n",
    "scaler = StandardScaler()\n",
    "state_df[feature_columns + [f'{col}_ma8' for col in feature_columns]] = scaler.fit_transform(state_df[feature_columns + [f'{col}_ma8' for col in feature_columns]])"
   ]
  },
  {
   "cell_type": "code",
   "execution_count": null,
   "metadata": {},
   "outputs": [],
   "source": [
    "# Crea un DataFrame X que contiene solo las columnas con el promedio móvil de 8 semanas de las características originales\n",
    "X = state_df[[f'{col}_ma8' for col in feature_columns]]"
   ]
  },
  {
   "cell_type": "code",
   "execution_count": null,
   "metadata": {},
   "outputs": [],
   "source": [
    "# Crea un DataFrame y que contiene la columna del valor objetivo (target)\n",
    "y = state_df[target_column]"
   ]
  },
  {
   "cell_type": "code",
   "execution_count": null,
   "metadata": {},
   "outputs": [],
   "source": [
    "# Split train/test en el 30% final de los datos\n",
    "train_size = int(len(X) * 0.7) # Calcula el tamaño del conjunto de entrenamiento (70% de los datos)\n",
    "X_train, X_test = X.iloc[:train_size], X.iloc[train_size:] # Divide los DataFrames X e Y en conjuntos de entrenamiento (las primeras filas) y prueba (las últimas filas)\n",
    "y_train, y_test = y.iloc[:train_size], y.iloc[train_size:] # Separa los valores del target en entrenamiento y prueba"
   ]
  },
  {
   "cell_type": "code",
   "execution_count": null,
   "metadata": {},
   "outputs": [],
   "source": [
    "# Crea y entrena el modelo con una instancia de RandomForestRegressor, un modelo de aprendizaje automático para regresión\n",
    "model = RandomForestRegressor()\n",
    "model.fit(X_train, y_train) # Entrena el modelo con los datos de entrenamiento"
   ]
  },
  {
   "cell_type": "code",
   "execution_count": null,
   "metadata": {},
   "outputs": [],
   "source": [
    "# Realiza predicciones sobre el conjunto de prueba utilizando el modelo entrenado\n",
    "y_pred = model.predict(X_test)"
   ]
  },
  {
   "cell_type": "code",
   "execution_count": null,
   "metadata": {},
   "outputs": [],
   "source": [
    "# Calcula el error cuadrático medio (MSE) entre los valores reales del target en el conjunto de prueba y las predicciones del modelo\n",
    "mse = mean_squared_error(y_test, y_pred)"
   ]
  },
  {
   "cell_type": "code",
   "execution_count": null,
   "metadata": {},
   "outputs": [],
   "source": [
    "# Predecir las próximas 8 semanas\n",
    "future_X = X.iloc[-8:].copy() # Toma las últimas 8 filas del DataFrame X (las correspondientes a las 8 semanas más recientes) y se copian en una nueva variable future_X\n",
    "future_predictions = model.predict(future_X) # Realiza predicciones sobre las 8 semanas del futuro utilizando el modelo entrenado"
   ]
  },
  {
   "cell_type": "code",
   "execution_count": null,
   "metadata": {},
   "outputs": [],
   "source": [
    "# Muestra los resultados de la predicción\n",
    "print(f\"State: {state_to_analyze}\") # Imprime el estado que se analizó\n",
    "print(f\"Mean Squared Error: {mse}\")  # Imprime el error cuadrático medio\n",
    "print(f\"Future Predictions (next 8 weeks): {future_predictions}\") # Imprimen las predicciones para las próximas 8 semanas"
   ]
  }
 ],
 "metadata": {
  "kernelspec": {
   "display_name": "final_project",
   "language": "python",
   "name": "python3"
  },
  "language_info": {
   "codemirror_mode": {
    "name": "ipython",
    "version": 3
   },
   "file_extension": ".py",
   "mimetype": "text/x-python",
   "name": "python",
   "nbconvert_exporter": "python",
   "pygments_lexer": "ipython3",
   "version": "3.12.3"
  }
 },
 "nbformat": 4,
 "nbformat_minor": 2
}
