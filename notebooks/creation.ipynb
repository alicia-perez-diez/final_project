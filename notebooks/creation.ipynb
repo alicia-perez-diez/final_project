{
 "cells": [
  {
   "cell_type": "code",
   "execution_count": 112,
   "metadata": {},
   "outputs": [],
   "source": [
    "import pandas as pd\n",
    "import mysql.connector\n",
    "from getpass import getpass\n",
    "from sqlalchemy import create_engine\n",
    "import gdown"
   ]
  },
  {
   "cell_type": "markdown",
   "metadata": {},
   "source": [
    "# Carga de datos en los datasets del database 'final_project' en MySQL Workbench"
   ]
  },
  {
   "cell_type": "markdown",
   "metadata": {},
   "source": [
    "## Actualización del dataset 'accident'"
   ]
  },
  {
   "cell_type": "code",
   "execution_count": 113,
   "metadata": {},
   "outputs": [],
   "source": [
    "# Carga el conjunto de datos del dataset accident\n",
    "url = 'https://drive.google.com/uc?export=download&id=1CBC0qZL6u4awL0Z0hHpjwfKa6w3O6Yp2'\n",
    "\n",
    "try: # Intenta ejecutar las líneas de código dentro de este bloque\n",
    "    df_accident = pd.read_csv(url, encoding='latin1') # Lee el archivo CSV desde la URL especificada, utilizando el codec de caracteres 'latin1'\n",
    "except UnicodeDecodeError as e: # Maneja la excepción UnicodeDecodeError si ocurre\n",
    "    print(f\"Error al decodificar el archivo CSV: {e}\")  # Imprime un mensaje de error indicando el problema específico que ocurrió"
   ]
  },
  {
   "cell_type": "code",
   "execution_count": 114,
   "metadata": {},
   "outputs": [
    {
     "data": {
      "text/html": [
       "<div>\n",
       "<style scoped>\n",
       "    .dataframe tbody tr th:only-of-type {\n",
       "        vertical-align: middle;\n",
       "    }\n",
       "\n",
       "    .dataframe tbody tr th {\n",
       "        vertical-align: top;\n",
       "    }\n",
       "\n",
       "    .dataframe thead th {\n",
       "        text-align: right;\n",
       "    }\n",
       "</style>\n",
       "<table border=\"1\" class=\"dataframe\">\n",
       "  <thead>\n",
       "    <tr style=\"text-align: right;\">\n",
       "      <th></th>\n",
       "      <th>STATE</th>\n",
       "      <th>STATENAME</th>\n",
       "      <th>ST_CASE</th>\n",
       "      <th>PEDS</th>\n",
       "      <th>PERNOTMVIT</th>\n",
       "      <th>VE_TOTAL</th>\n",
       "      <th>VE_FORMS</th>\n",
       "      <th>PVH_INVL</th>\n",
       "      <th>PERSONS</th>\n",
       "      <th>PERMVIT</th>\n",
       "      <th>COUNTY</th>\n",
       "      <th>COUNTYNAME</th>\n",
       "      <th>CITY</th>\n",
       "      <th>CITYNAME</th>\n",
       "      <th>MONTH</th>\n",
       "      <th>MONTHNAME</th>\n",
       "      <th>DAY</th>\n",
       "      <th>DAYNAME</th>\n",
       "      <th>DAY_WEEK</th>\n",
       "      <th>DAY_WEEKNAME</th>\n",
       "      <th>YEAR</th>\n",
       "      <th>HOUR</th>\n",
       "      <th>HOURNAME</th>\n",
       "      <th>MINUTE</th>\n",
       "      <th>MINUTENAME</th>\n",
       "      <th>TWAY_ID</th>\n",
       "      <th>TWAY_ID2</th>\n",
       "      <th>ROUTE</th>\n",
       "      <th>ROUTENAME</th>\n",
       "      <th>RUR_URB</th>\n",
       "      <th>RUR_URBNAME</th>\n",
       "      <th>FUNC_SYS</th>\n",
       "      <th>FUNC_SYSNAME</th>\n",
       "      <th>RD_OWNER</th>\n",
       "      <th>RD_OWNERNAME</th>\n",
       "      <th>NHS</th>\n",
       "      <th>NHSNAME</th>\n",
       "      <th>SP_JUR</th>\n",
       "      <th>SP_JURNAME</th>\n",
       "      <th>MILEPT</th>\n",
       "      <th>MILEPTNAME</th>\n",
       "      <th>LATITUDE</th>\n",
       "      <th>LATITUDENAME</th>\n",
       "      <th>LONGITUD</th>\n",
       "      <th>LONGITUDNAME</th>\n",
       "      <th>HARM_EV</th>\n",
       "      <th>HARM_EVNAME</th>\n",
       "      <th>MAN_COLL</th>\n",
       "      <th>MAN_COLLNAME</th>\n",
       "      <th>RELJCT1</th>\n",
       "      <th>RELJCT1NAME</th>\n",
       "      <th>RELJCT2</th>\n",
       "      <th>RELJCT2NAME</th>\n",
       "      <th>TYP_INT</th>\n",
       "      <th>TYP_INTNAME</th>\n",
       "      <th>REL_ROAD</th>\n",
       "      <th>REL_ROADNAME</th>\n",
       "      <th>WRK_ZONE</th>\n",
       "      <th>WRK_ZONENAME</th>\n",
       "      <th>LGT_COND</th>\n",
       "      <th>LGT_CONDNAME</th>\n",
       "      <th>WEATHER</th>\n",
       "      <th>WEATHERNAME</th>\n",
       "      <th>SCH_BUS</th>\n",
       "      <th>SCH_BUSNAME</th>\n",
       "      <th>RAIL</th>\n",
       "      <th>RAILNAME</th>\n",
       "      <th>NOT_HOUR</th>\n",
       "      <th>NOT_HOURNAME</th>\n",
       "      <th>NOT_MIN</th>\n",
       "      <th>NOT_MINNAME</th>\n",
       "      <th>ARR_HOUR</th>\n",
       "      <th>ARR_HOURNAME</th>\n",
       "      <th>ARR_MIN</th>\n",
       "      <th>ARR_MINNAME</th>\n",
       "      <th>HOSP_HR</th>\n",
       "      <th>HOSP_HRNAME</th>\n",
       "      <th>HOSP_MN</th>\n",
       "      <th>HOSP_MNNAME</th>\n",
       "      <th>FATALS</th>\n",
       "    </tr>\n",
       "  </thead>\n",
       "  <tbody>\n",
       "    <tr>\n",
       "      <th>0</th>\n",
       "      <td>1</td>\n",
       "      <td>Alabama</td>\n",
       "      <td>10001</td>\n",
       "      <td>0</td>\n",
       "      <td>0</td>\n",
       "      <td>2</td>\n",
       "      <td>2</td>\n",
       "      <td>0</td>\n",
       "      <td>3</td>\n",
       "      <td>3</td>\n",
       "      <td>107</td>\n",
       "      <td>PICKENS (107)</td>\n",
       "      <td>0</td>\n",
       "      <td>NOT APPLICABLE</td>\n",
       "      <td>1</td>\n",
       "      <td>January</td>\n",
       "      <td>1</td>\n",
       "      <td>1</td>\n",
       "      <td>7</td>\n",
       "      <td>Saturday</td>\n",
       "      <td>2022</td>\n",
       "      <td>12</td>\n",
       "      <td>12:00pm-12:59pm</td>\n",
       "      <td>30</td>\n",
       "      <td>30</td>\n",
       "      <td>US-82 SR-6</td>\n",
       "      <td>NaN</td>\n",
       "      <td>2</td>\n",
       "      <td>US Highway</td>\n",
       "      <td>1</td>\n",
       "      <td>Rural</td>\n",
       "      <td>3</td>\n",
       "      <td>Principal Arterial - Other</td>\n",
       "      <td>1</td>\n",
       "      <td>State Highway Agency</td>\n",
       "      <td>1</td>\n",
       "      <td>This section IS ON the NHS</td>\n",
       "      <td>0</td>\n",
       "      <td>No Special Jurisdiction</td>\n",
       "      <td>4</td>\n",
       "      <td>4</td>\n",
       "      <td>33.490967</td>\n",
       "      <td>33.490967</td>\n",
       "      <td>-88.274083</td>\n",
       "      <td>-88.274083</td>\n",
       "      <td>12</td>\n",
       "      <td>Motor Vehicle In-Transport</td>\n",
       "      <td>7</td>\n",
       "      <td>Sideswipe - Same Direction</td>\n",
       "      <td>0</td>\n",
       "      <td>No</td>\n",
       "      <td>1</td>\n",
       "      <td>Non-Junction</td>\n",
       "      <td>1</td>\n",
       "      <td>Not an Intersection</td>\n",
       "      <td>1</td>\n",
       "      <td>On Roadway</td>\n",
       "      <td>0</td>\n",
       "      <td>NaN</td>\n",
       "      <td>1</td>\n",
       "      <td>Daylight</td>\n",
       "      <td>1</td>\n",
       "      <td>Clear</td>\n",
       "      <td>0</td>\n",
       "      <td>No</td>\n",
       "      <td>0000000</td>\n",
       "      <td>Not Applicable</td>\n",
       "      <td>12</td>\n",
       "      <td>12:00pm-12:59pm</td>\n",
       "      <td>47</td>\n",
       "      <td>47</td>\n",
       "      <td>13</td>\n",
       "      <td>1:00pm-1:59pm</td>\n",
       "      <td>4</td>\n",
       "      <td>4</td>\n",
       "      <td>13</td>\n",
       "      <td>1:00pm-1:59pm</td>\n",
       "      <td>47</td>\n",
       "      <td>47</td>\n",
       "      <td>1</td>\n",
       "    </tr>\n",
       "  </tbody>\n",
       "</table>\n",
       "</div>"
      ],
      "text/plain": [
       "   STATE STATENAME  ST_CASE  PEDS  PERNOTMVIT  VE_TOTAL  VE_FORMS  PVH_INVL  \\\n",
       "0      1   Alabama    10001     0           0         2         2         0   \n",
       "\n",
       "   PERSONS  PERMVIT  COUNTY     COUNTYNAME  CITY        CITYNAME  MONTH  \\\n",
       "0        3        3     107  PICKENS (107)     0  NOT APPLICABLE      1   \n",
       "\n",
       "  MONTHNAME  DAY  DAYNAME  DAY_WEEK DAY_WEEKNAME  YEAR  HOUR         HOURNAME  \\\n",
       "0   January    1        1         7     Saturday  2022    12  12:00pm-12:59pm   \n",
       "\n",
       "   MINUTE MINUTENAME     TWAY_ID TWAY_ID2  ROUTE   ROUTENAME  RUR_URB  \\\n",
       "0      30         30  US-82 SR-6      NaN      2  US Highway        1   \n",
       "\n",
       "  RUR_URBNAME  FUNC_SYS                FUNC_SYSNAME  RD_OWNER  \\\n",
       "0       Rural         3  Principal Arterial - Other         1   \n",
       "\n",
       "           RD_OWNERNAME  NHS                     NHSNAME  SP_JUR  \\\n",
       "0  State Highway Agency    1  This section IS ON the NHS       0   \n",
       "\n",
       "                SP_JURNAME  MILEPT MILEPTNAME   LATITUDE  LATITUDENAME  \\\n",
       "0  No Special Jurisdiction       4          4  33.490967     33.490967   \n",
       "\n",
       "    LONGITUD  LONGITUDNAME  HARM_EV                 HARM_EVNAME  MAN_COLL  \\\n",
       "0 -88.274083    -88.274083       12  Motor Vehicle In-Transport         7   \n",
       "\n",
       "                 MAN_COLLNAME  RELJCT1 RELJCT1NAME  RELJCT2   RELJCT2NAME  \\\n",
       "0  Sideswipe - Same Direction        0          No        1  Non-Junction   \n",
       "\n",
       "   TYP_INT          TYP_INTNAME  REL_ROAD REL_ROADNAME  WRK_ZONE WRK_ZONENAME  \\\n",
       "0        1  Not an Intersection         1   On Roadway         0          NaN   \n",
       "\n",
       "   LGT_COND LGT_CONDNAME  WEATHER WEATHERNAME  SCH_BUS SCH_BUSNAME     RAIL  \\\n",
       "0         1     Daylight        1       Clear        0          No  0000000   \n",
       "\n",
       "         RAILNAME  NOT_HOUR     NOT_HOURNAME  NOT_MIN NOT_MINNAME  ARR_HOUR  \\\n",
       "0  Not Applicable        12  12:00pm-12:59pm       47          47        13   \n",
       "\n",
       "    ARR_HOURNAME  ARR_MIN ARR_MINNAME  HOSP_HR    HOSP_HRNAME  HOSP_MN  \\\n",
       "0  1:00pm-1:59pm        4           4       13  1:00pm-1:59pm       47   \n",
       "\n",
       "  HOSP_MNNAME  FATALS  \n",
       "0          47       1  "
      ]
     },
     "execution_count": 114,
     "metadata": {},
     "output_type": "execute_result"
    }
   ],
   "source": [
    "# Imprime el dataframe y fuerza para que se muestren todas las columnas\n",
    "pd.set_option('display.max_columns', None)\n",
    "df_accident.head(1)"
   ]
  },
  {
   "cell_type": "code",
   "execution_count": 115,
   "metadata": {},
   "outputs": [],
   "source": [
    "# Elimina las 47 columnas que no se necesitan\n",
    "columns_to_drop = ['PEDS', 'VE_FORMS', 'MONTHNAME', 'DAYNAME', 'DAY_WEEKNAME', 'HOURNAME', 'MINUTENAME', 'TWAY_ID', 'TWAY_ID2', 'ROUTE', 'ROUTENAME', 'FUNC_SYS', 'FUNC_SYSNAME', 'NHS', 'NHSNAME', 'SP_JUR',\\\n",
    "                   'SP_JURNAME', 'MILEPT', 'MILEPTNAME', 'LATITUDENAME', 'LONGITUDNAME', 'MAN_COLLNAME', 'MAN_COLL', 'RELJCT1', 'RELJCT1NAME', 'RELJCT2', 'RELJCT2NAME', 'TYP_INT', 'TYP_INTNAME', 'REL_ROAD',\\\n",
    "                    'REL_ROADNAME', 'WRK_ZONE', 'WRK_ZONENAME', 'LGT_COND', 'LGT_CONDNAME', 'WEATHER', 'WEATHERNAME', 'SCH_BUS', 'SCH_BUSNAME', 'RAIL', 'RAILNAME', 'NOT_HOURNAME', 'NOT_MINNAME', 'ARR_HOURNAME',\\\n",
    "                        'ARR_MINNAME', 'HOSP_HRNAME', 'HOSP_MNNAME']\n",
    "df_accident = df_accident.drop(columns=columns_to_drop)"
   ]
  },
  {
   "cell_type": "code",
   "execution_count": 116,
   "metadata": {},
   "outputs": [],
   "source": [
    "# Reordena las columnas para que tengan el mismo orden que en la tabla creada en MySQL Workbench\n",
    "new_column_order = ['ST_CASE', 'YEAR', 'MONTH', 'DAY', 'DAY_WEEK', 'HOUR', 'MINUTE', 'LATITUDE', 'LONGITUD', 'STATE', 'STATENAME', 'COUNTY', 'COUNTYNAME', 'CITY', 'CITYNAME', 'RUR_URB', 'RUR_URBNAME',\\\n",
    "      'RD_OWNER', 'RD_OWNERNAME', 'PERSONS', 'PERMVIT', 'PERNOTMVIT', 'VE_TOTAL', 'PVH_INVL', 'HARM_EV', 'HARM_EVNAME', 'FATALS', 'NOT_HOUR', 'NOT_MIN', 'ARR_HOUR', 'ARR_MIN', 'HOSP_HR', 'HOSP_MN']"
   ]
  },
  {
   "cell_type": "code",
   "execution_count": 117,
   "metadata": {},
   "outputs": [],
   "source": [
    "# Actualiza el dataframe con el nuevo orden\n",
    "df_accident = df_accident[new_column_order]"
   ]
  },
  {
   "cell_type": "code",
   "execution_count": 118,
   "metadata": {},
   "outputs": [
    {
     "data": {
      "text/plain": [
       "20"
      ]
     },
     "execution_count": 118,
     "metadata": {},
     "output_type": "execute_result"
    }
   ],
   "source": [
    "# Mira la longitud máxima de la columna STATENAME tipo texto para calcular el VARCHAR que hay que poner al crear la tabla\n",
    "col_len = df_accident['STATENAME'].apply(len)\n",
    "max_len = col_len.max()\n",
    "max_len"
   ]
  },
  {
   "cell_type": "code",
   "execution_count": 119,
   "metadata": {},
   "outputs": [
    {
     "data": {
      "text/plain": [
       "28"
      ]
     },
     "execution_count": 119,
     "metadata": {},
     "output_type": "execute_result"
    }
   ],
   "source": [
    "# Mira la longitud máxima de la columna COUNTYNAME tipo texto para calcular el VARCHAR que hay que poner al crear la tabla\n",
    "col_len = df_accident['COUNTYNAME'].apply(len)\n",
    "max_len = col_len.max()\n",
    "max_len"
   ]
  },
  {
   "cell_type": "code",
   "execution_count": 120,
   "metadata": {},
   "outputs": [
    {
     "data": {
      "text/plain": [
       "39"
      ]
     },
     "execution_count": 120,
     "metadata": {},
     "output_type": "execute_result"
    }
   ],
   "source": [
    "# Mira la longitud máxima de la columna CITYNAME tipo texto para calcular el VARCHAR que hay que poner al crear la tabla\n",
    "col_len = df_accident['CITYNAME'].apply(len)\n",
    "max_len = col_len.max()\n",
    "max_len"
   ]
  },
  {
   "cell_type": "code",
   "execution_count": 121,
   "metadata": {},
   "outputs": [
    {
     "data": {
      "text/plain": [
       "33"
      ]
     },
     "execution_count": 121,
     "metadata": {},
     "output_type": "execute_result"
    }
   ],
   "source": [
    "# Mira la longitud máxima de la columna RUR_URBNAME tipo texto para calcular el VARCHAR que hay que poner al crear la tabla\n",
    "col_len = df_accident['RUR_URBNAME'].apply(len)\n",
    "max_len = col_len.max()\n",
    "max_len"
   ]
  },
  {
   "cell_type": "code",
   "execution_count": 122,
   "metadata": {},
   "outputs": [
    {
     "data": {
      "text/plain": [
       "44"
      ]
     },
     "execution_count": 122,
     "metadata": {},
     "output_type": "execute_result"
    }
   ],
   "source": [
    "# Mira la longitud máxima de la columna RD_OWNERNAME tipo texto para calcular el VARCHAR que hay que poner al crear la tabla\n",
    "col_len = df_accident['RD_OWNERNAME'].apply(len)\n",
    "max_len = col_len.max()\n",
    "max_len"
   ]
  },
  {
   "cell_type": "code",
   "execution_count": 123,
   "metadata": {},
   "outputs": [
    {
     "data": {
      "text/plain": [
       "133"
      ]
     },
     "execution_count": 123,
     "metadata": {},
     "output_type": "execute_result"
    }
   ],
   "source": [
    "# Mira la longitud máxima de la columna HARM_EVNAME tipo texto para calcular el VARCHAR que hay que poner al crear la tabla\n",
    "col_len = df_accident['HARM_EVNAME'].apply(len)\n",
    "max_len = col_len.max()\n",
    "max_len"
   ]
  },
  {
   "cell_type": "code",
   "execution_count": 124,
   "metadata": {},
   "outputs": [],
   "source": [
    "df_accident = df_accident.reset_index()"
   ]
  },
  {
   "cell_type": "code",
   "execution_count": 125,
   "metadata": {},
   "outputs": [],
   "source": [
    "df_accident = df_accident.rename(columns={'index':'ID'})"
   ]
  },
  {
   "cell_type": "code",
   "execution_count": 126,
   "metadata": {},
   "outputs": [],
   "source": [
    "# Datos para conectar MySQL\n",
    "host = '127.0.0.1'  # La dirección IP de la máquina\n",
    "database = 'final_project'  # El nombre de la base de datos\n",
    "user = 'root'  # El nombre de usuario predeterminado de MySQL\n",
    "port = '3306'\n",
    "password = getpass(\"Introduce tu contraseña de MySQL: \")  # Solicita la contraseña de manera segura"
   ]
  },
  {
   "cell_type": "code",
   "execution_count": 127,
   "metadata": {},
   "outputs": [],
   "source": [
    "# Crea la conexión a la base de datos MySQL utilizando la bublioteca SQLAlchemy\n",
    "engine = create_engine(f'mysql+mysqlconnector://{user}:{password}@{host}:{port}/{database}')"
   ]
  },
  {
   "cell_type": "code",
   "execution_count": 128,
   "metadata": {},
   "outputs": [
    {
     "data": {
      "text/plain": [
       "39221"
      ]
     },
     "execution_count": 128,
     "metadata": {},
     "output_type": "execute_result"
    }
   ],
   "source": [
    "# Toma el dataframe df y lo mete dentro de la tabla ya creada en MySQL Workbench 'accident'\n",
    "df_accident.to_sql('accident', engine, index=False, if_exists='append')"
   ]
  },
  {
   "cell_type": "code",
   "execution_count": 242,
   "metadata": {},
   "outputs": [],
   "source": [
    "df_accident_2 = pd.read_sql('SELECT * from final_project.accident', con=engine,dtype='object')"
   ]
  },
  {
   "cell_type": "code",
   "execution_count": 244,
   "metadata": {},
   "outputs": [
    {
     "data": {
      "text/plain": [
       "ID                         0\n",
       "ST_CASE                    0\n",
       "YEAR                       0\n",
       "MONTH                      0\n",
       "DAY                        0\n",
       "DAY_WEEK                   0\n",
       "HOUR                       0\n",
       "MINUTE                     0\n",
       "LATITUDE                   0\n",
       "LONGITUD                   0\n",
       "STATE                      0\n",
       "STATENAME                  0\n",
       "COUNTY                     0\n",
       "COUNTYNAME                 0\n",
       "CITY                       0\n",
       "CITYNAME                   0\n",
       "RUR_URB                    0\n",
       "RUR_URBNAME                0\n",
       "RD_OWNER                   0\n",
       "RD_OWNERNAME               0\n",
       "PERSONS                    0\n",
       "PERSONS_IN_VEHICLES        0\n",
       "PERSONS_NOT_IN_VEHICLES    0\n",
       "TOTAL_VEHICLES             0\n",
       "PARKED_VEHICLES            0\n",
       "HARMFUL_EVENT              0\n",
       "HARMFUL_EVENT_NAME         0\n",
       "FATALS                     0\n",
       "NOT_HOUR                   0\n",
       "NOT_MIN                    0\n",
       "ARR_HOUR                   0\n",
       "ARR_MIN                    0\n",
       "HOSP_HR                    0\n",
       "HOSP_MN                    0\n",
       "dtype: int64"
      ]
     },
     "execution_count": 244,
     "metadata": {},
     "output_type": "execute_result"
    }
   ],
   "source": [
    "df_accident_2.isnull().sum()"
   ]
  },
  {
   "cell_type": "markdown",
   "metadata": {},
   "source": [
    "## Actualización del dataset 'drugs'"
   ]
  },
  {
   "cell_type": "code",
   "execution_count": 129,
   "metadata": {},
   "outputs": [],
   "source": [
    "# Cargo el conjunto de datos del datset drugs\n",
    "url = 'https://drive.google.com/uc?export=download&id=1jZbIeYuG1WVbM9VQZ7CGd5Zwo89pbnZy'\n",
    "\n",
    "try: # Intenta ejecutar las líneas de código dentro de este bloque\n",
    "    df_drugs = pd.read_csv(url, encoding='latin1') # Lee el archivo CSV desde la URL especificada, utilizando el codec de caracteres 'latin1'\n",
    "except UnicodeDecodeError as e: # Maneja la excepción UnicodeDecodeError si ocurre\n",
    "    print(f\"Error al decodificar el archivo CSV: {e}\")  # Imprime un mensaje de error indicando el problema específico que ocurrió"
   ]
  },
  {
   "cell_type": "code",
   "execution_count": 130,
   "metadata": {},
   "outputs": [],
   "source": [
    "# Elimina las columnas que no se necesitan\n",
    "columns_to_drop = ['STATE', 'STATENAME', 'DRUGSPEC', 'DRUGSPECNAME']\n",
    "df_drugs = df_drugs.drop(columns=columns_to_drop)"
   ]
  },
  {
   "cell_type": "code",
   "execution_count": 131,
   "metadata": {},
   "outputs": [
    {
     "data": {
      "text/plain": [
       "100"
      ]
     },
     "execution_count": 131,
     "metadata": {},
     "output_type": "execute_result"
    }
   ],
   "source": [
    "# Mira la longitud máxima de la columna DRUGRESNAME tipo texto para calcular el VARCHAR que hay que poner al crear la tabla\n",
    "col_len = df_drugs['DRUGRESNAME'].apply(len)\n",
    "max_len = col_len.max()\n",
    "max_len"
   ]
  },
  {
   "cell_type": "code",
   "execution_count": 132,
   "metadata": {},
   "outputs": [],
   "source": [
    "# Reordena las columnas para que tengan el mismo orden que en la tabla creada en MySQL Workbench\n",
    "new_column_order = ['ST_CASE', 'DRUGRES', 'DRUGRESNAME', 'VEH_NO', 'PER_NO']"
   ]
  },
  {
   "cell_type": "code",
   "execution_count": 133,
   "metadata": {},
   "outputs": [],
   "source": [
    "# Actualiza el dataframe con el nuevo orden\n",
    "df_drugs = df_drugs[new_column_order]"
   ]
  },
  {
   "cell_type": "code",
   "execution_count": 134,
   "metadata": {},
   "outputs": [
    {
     "data": {
      "text/plain": [
       "120146"
      ]
     },
     "execution_count": 134,
     "metadata": {},
     "output_type": "execute_result"
    }
   ],
   "source": [
    "# Toma el dataframe df_drugs y lo mete dentro de la tabla ya creada en MySQL Workbench 'drugs'\n",
    "df_drugs.to_sql('drugs', engine, index=False, if_exists='append')"
   ]
  },
  {
   "cell_type": "markdown",
   "metadata": {},
   "source": [
    "## Actualización del dataset 'maneuver'"
   ]
  },
  {
   "cell_type": "code",
   "execution_count": 135,
   "metadata": {},
   "outputs": [],
   "source": [
    "# Cargo el conjunto de datos del datset maneuver\n",
    "url = 'https://drive.google.com/uc?export=download&id=19FA4MUdhZwV2fIpZPWX73RQZS1xdnxpv'\n",
    "\n",
    "try: # Intenta ejecutar las líneas de código dentro de este bloque\n",
    "    df_maneuver = pd.read_csv(url, encoding='latin1') # Lee el archivo CSV desde la URL especificada, utilizando el codec de caracteres 'latin1'\n",
    "except UnicodeDecodeError as e: # Maneja la excepción UnicodeDecodeError si ocurre\n",
    "    print(f\"Error al decodificar el archivo CSV: {e}\")  # Imprime un mensaje de error indicando el problema específico que ocurrió"
   ]
  },
  {
   "cell_type": "code",
   "execution_count": 136,
   "metadata": {},
   "outputs": [],
   "source": [
    "# Elimina las columnas que no se necesitan\n",
    "columns_to_drop = ['STATE', 'STATENAME']\n",
    "df_maneuver = df_maneuver.drop(columns=columns_to_drop)"
   ]
  },
  {
   "cell_type": "code",
   "execution_count": 137,
   "metadata": {},
   "outputs": [
    {
     "data": {
      "text/plain": [
       "49"
      ]
     },
     "execution_count": 137,
     "metadata": {},
     "output_type": "execute_result"
    }
   ],
   "source": [
    "# Mira la longitud máxima de la columna MANEUVERNAME tipo texto para calcular el VARCHAR que hay que poner al crear la tabla\n",
    "col_len = df_maneuver['MANEUVERNAME'].apply(len)\n",
    "max_len = col_len.max()\n",
    "max_len"
   ]
  },
  {
   "cell_type": "code",
   "execution_count": 138,
   "metadata": {},
   "outputs": [],
   "source": [
    "# Reordena las columnas para que tengan el mismo orden que en la tabla creada en MySQL Workbench\n",
    "new_column_order = ['ST_CASE', 'MANEUVER', 'MANEUVERNAME', 'VEH_NO']"
   ]
  },
  {
   "cell_type": "code",
   "execution_count": 139,
   "metadata": {},
   "outputs": [],
   "source": [
    "# Actualiza el dataframe con el nuevo orden\n",
    "df_maneuver = df_maneuver[new_column_order]"
   ]
  },
  {
   "cell_type": "code",
   "execution_count": 140,
   "metadata": {},
   "outputs": [
    {
     "data": {
      "text/plain": [
       "60513"
      ]
     },
     "execution_count": 140,
     "metadata": {},
     "output_type": "execute_result"
    }
   ],
   "source": [
    "# Toma el dataframe df_maneuver y lo mete dentro de la tabla ya creada en MySQL Workbench 'maneuver'\n",
    "df_maneuver.to_sql('maneuver', engine, index=False, if_exists='append')"
   ]
  },
  {
   "cell_type": "markdown",
   "metadata": {},
   "source": [
    "## Actualización del dataset 'distract'"
   ]
  },
  {
   "cell_type": "code",
   "execution_count": 141,
   "metadata": {},
   "outputs": [],
   "source": [
    "# Cargo el conjunto de datos del datset distract\n",
    "url = 'https://drive.google.com/uc?export=download&id=1CG2v4hqWkmvGtN1pnXJOXfiq0T94PPe9'\n",
    "\n",
    "try: # Intenta ejecutar las líneas de código dentro de este bloque\n",
    "    df_distract = pd.read_csv(url, encoding='latin1') # Lee el archivo CSV desde la URL especificada, utilizando el codec de caracteres 'latin1'\n",
    "except UnicodeDecodeError as e: # Maneja la excepción UnicodeDecodeError si ocurre\n",
    "    print(f\"Error al decodificar el archivo CSV: {e}\")  # Imprime un mensaje de error indicando el problema específico que ocurrió"
   ]
  },
  {
   "cell_type": "code",
   "execution_count": 142,
   "metadata": {},
   "outputs": [],
   "source": [
    "# Elimina las columnas que no se necesitan\n",
    "columns_to_drop = ['STATE', 'STATENAME']\n",
    "df_distract = df_distract.drop(columns=columns_to_drop)"
   ]
  },
  {
   "cell_type": "code",
   "execution_count": 143,
   "metadata": {},
   "outputs": [
    {
     "data": {
      "text/plain": [
       "62"
      ]
     },
     "execution_count": 143,
     "metadata": {},
     "output_type": "execute_result"
    }
   ],
   "source": [
    "# Mira la longitud máxima de la columna MANEUVERNAME tipo texto para calcular el VARCHAR que hay que poner al crear la tabla\n",
    "col_len = df_distract['DRDISTRACTNAME'].apply(len)\n",
    "max_len = col_len.max()\n",
    "max_len"
   ]
  },
  {
   "cell_type": "code",
   "execution_count": 144,
   "metadata": {},
   "outputs": [],
   "source": [
    "# Reordena las columnas para que tengan el mismo orden que en la tabla creada en MySQL Workbench\n",
    "new_column_order = ['ST_CASE', 'DRDISTRACT', 'DRDISTRACTNAME', 'VEH_NO']"
   ]
  },
  {
   "cell_type": "code",
   "execution_count": 145,
   "metadata": {},
   "outputs": [],
   "source": [
    "# Actualiza el dataframe con el nuevo orden\n",
    "df_distract = df_distract[new_column_order]"
   ]
  },
  {
   "cell_type": "code",
   "execution_count": 146,
   "metadata": {},
   "outputs": [
    {
     "data": {
      "text/plain": [
       "60525"
      ]
     },
     "execution_count": 146,
     "metadata": {},
     "output_type": "execute_result"
    }
   ],
   "source": [
    "# Toma el dataframe df_distract y lo mete dentro de la tabla ya creada en MySQL Workbench 'distract'\n",
    "df_distract.to_sql('distract', engine, index=False, if_exists='append')"
   ]
  },
  {
   "cell_type": "markdown",
   "metadata": {},
   "source": [
    "## Actualización del dataset 'weather'"
   ]
  },
  {
   "cell_type": "code",
   "execution_count": 147,
   "metadata": {},
   "outputs": [],
   "source": [
    "# Cargo el conjunto de datos del datset weather\n",
    "url = 'https://drive.google.com/uc?export=download&id=1BKpyfiwu4f_V7IdK6jo3c8nDH5ca5FQM'\n",
    "\n",
    "try: # Intenta ejecutar las líneas de código dentro de este bloque\n",
    "    df_weather = pd.read_csv(url, encoding='latin1') # Lee el archivo CSV desde la URL especificada, utilizando el codec de caracteres 'latin1'\n",
    "except UnicodeDecodeError as e: # Maneja la excepción UnicodeDecodeError si ocurre\n",
    "    print(f\"Error al decodificar el archivo CSV: {e}\")  # Imprime un mensaje de error indicando el problema específico que ocurrió"
   ]
  },
  {
   "cell_type": "code",
   "execution_count": 148,
   "metadata": {},
   "outputs": [],
   "source": [
    "# Elimina las columnas que no se necesitan\n",
    "columns_to_drop = ['STATE', 'STATENAME']\n",
    "df_weather = df_weather.drop(columns=columns_to_drop)"
   ]
  },
  {
   "cell_type": "code",
   "execution_count": 149,
   "metadata": {},
   "outputs": [
    {
     "data": {
      "text/plain": [
       "24"
      ]
     },
     "execution_count": 149,
     "metadata": {},
     "output_type": "execute_result"
    }
   ],
   "source": [
    "# Mira la longitud máxima de la columna WEATHERNAME tipo texto para calcular el VARCHAR que hay que poner al crear la tabla\n",
    "col_len = df_weather['WEATHERNAME'].apply(len)\n",
    "max_len = col_len.max()\n",
    "max_len"
   ]
  },
  {
   "cell_type": "code",
   "execution_count": 150,
   "metadata": {},
   "outputs": [
    {
     "data": {
      "text/plain": [
       "39644"
      ]
     },
     "execution_count": 150,
     "metadata": {},
     "output_type": "execute_result"
    }
   ],
   "source": [
    "# Toma el dataframe df_distract y lo mete dentro de la tabla ya creada en MySQL Workbench 'distract'\n",
    "df_weather.to_sql('weather', engine, index=False, if_exists='append')"
   ]
  },
  {
   "cell_type": "markdown",
   "metadata": {},
   "source": [
    "## Actualización del dataset 'person'"
   ]
  },
  {
   "cell_type": "code",
   "execution_count": 151,
   "metadata": {},
   "outputs": [
    {
     "name": "stderr",
     "output_type": "stream",
     "text": [
      "Downloading...\n",
      "From (original): https://drive.google.com/uc?export=download&id=1rRZEKB6OPGULbJVFhBoQF68TYTjKnreB\n",
      "From (redirected): https://drive.google.com/uc?export=download&id=1rRZEKB6OPGULbJVFhBoQF68TYTjKnreB&confirm=t&uuid=4e9d79c6-315e-48df-b2ef-7b74ee3073cb\n",
      "To: c:\\Users\\perez\\OneDrive\\Documentos\\GitHub\\Proyectos\\final_project\\final_project\\data\\datain\\person.csv\n",
      "100%|██████████| 116M/116M [00:03<00:00, 37.8MB/s] \n",
      "C:\\Users\\perez\\AppData\\Local\\Temp\\ipykernel_10432\\2135696628.py:13: DtypeWarning: Columns (14) have mixed types. Specify dtype option on import or set low_memory=False.\n",
      "  df_person = pd.read_csv(output, encoding='latin1')\n"
     ]
    },
    {
     "name": "stdout",
     "output_type": "stream",
     "text": [
      "   STATE STATENAME  ST_CASE  VEH_NO  PER_NO  VE_FORMS  COUNTY  MONTH  \\\n",
      "0      1   Alabama    10001       1       1         2     107      1   \n",
      "1      1   Alabama    10001       2       1         2     107      1   \n",
      "2      1   Alabama    10001       2       2         2     107      1   \n",
      "3      1   Alabama    10002       1       1         2     101      1   \n",
      "4      1   Alabama    10002       2       1         2     101      1   \n",
      "\n",
      "  MONTHNAME  DAY  DAYNAME  HOUR         HOURNAME  MINUTE MINUTENAME  HARM_EV  \\\n",
      "0   January    1        1    12  12:00pm-12:59pm      30         30       12   \n",
      "1   January    1        1    12  12:00pm-12:59pm      30         30       12   \n",
      "2   January    1        1    12  12:00pm-12:59pm      30         30       12   \n",
      "3   January    1        1    16    4:00pm-4:59pm      40         40       12   \n",
      "4   January    1        1    16    4:00pm-4:59pm      40         40       12   \n",
      "\n",
      "                  HARM_EVNAME  MAN_COLL                MAN_COLLNAME  SCH_BUS  \\\n",
      "0  Motor Vehicle In-Transport         7  Sideswipe - Same Direction        0   \n",
      "1  Motor Vehicle In-Transport         7  Sideswipe - Same Direction        0   \n",
      "2  Motor Vehicle In-Transport         7  Sideswipe - Same Direction        0   \n",
      "3  Motor Vehicle In-Transport         2              Front-to-Front        0   \n",
      "4  Motor Vehicle In-Transport         2              Front-to-Front        0   \n",
      "\n",
      "  SCH_BUSNAME  MOD_YEAR MOD_YEARNAME  VPICMAKE VPICMAKENAME  VPICMODEL  \\\n",
      "0          No    2016.0         2016     483.0         Jeep     1943.0   \n",
      "1          No    2021.0         2021     498.0      Hyundai     2058.0   \n",
      "2          No    2021.0         2021     498.0      Hyundai     2058.0   \n",
      "3          No    2019.0         2019     498.0      Hyundai     2735.0   \n",
      "4          No    2012.0         2012     474.0        Honda     1865.0   \n",
      "\n",
      "  VPICMODELNAME  VPICBODYCLASS  \\\n",
      "0      Wrangler            7.0   \n",
      "1        Tucson            7.0   \n",
      "2        Tucson            7.0   \n",
      "3       Elantra           13.0   \n",
      "4          CR-V            7.0   \n",
      "\n",
      "                                   VPICBODYCLASSNAME  MAKE  \\\n",
      "0  Sport Utility Vehicle (SUV)/Multi-Purpose Vehi...   2.0   \n",
      "1  Sport Utility Vehicle (SUV)/Multi-Purpose Vehi...  55.0   \n",
      "2  Sport Utility Vehicle (SUV)/Multi-Purpose Vehi...  55.0   \n",
      "3                                       Sedan/Saloon  55.0   \n",
      "4  Sport Utility Vehicle (SUV)/Multi-Purpose Vehi...  37.0   \n",
      "\n",
      "                            MAKENAME  BODY_TYP  \\\n",
      "0  Jeep / Kaiser-Jeep / Willys- Jeep      14.0   \n",
      "1                            Hyundai      14.0   \n",
      "2                            Hyundai      14.0   \n",
      "3                            Hyundai       4.0   \n",
      "4                              Honda      14.0   \n",
      "\n",
      "                                        BODY_TYPNAME  ICFINALBODY  \\\n",
      "0  Compact Utility (Utility Vehicle Categories \"S...          0.0   \n",
      "1  Compact Utility (Utility Vehicle Categories \"S...          0.0   \n",
      "2  Compact Utility (Utility Vehicle Categories \"S...          0.0   \n",
      "3                              4-door sedan, hardtop          0.0   \n",
      "4  Compact Utility (Utility Vehicle Categories \"S...          0.0   \n",
      "\n",
      "  ICFINALBODYNAME  GVWR_FROM                                   GVWR_FROMNAME  \\\n",
      "0  Not Applicable       11.0  Class 1: 6,000 lbs. or less (2,722 kg or less)   \n",
      "1  Not Applicable       11.0  Class 1: 6,000 lbs. or less (2,722 kg or less)   \n",
      "2  Not Applicable       11.0  Class 1: 6,000 lbs. or less (2,722 kg or less)   \n",
      "3  Not Applicable       11.0  Class 1: 6,000 lbs. or less (2,722 kg or less)   \n",
      "4  Not Applicable       11.0  Class 1: 6,000 lbs. or less (2,722 kg or less)   \n",
      "\n",
      "   GVWR_TO                                     GVWR_TONAME  TOW_VEH  \\\n",
      "0     11.0  Class 1: 6,000 lbs. or less (2,722 kg or less)      0.0   \n",
      "1     11.0  Class 1: 6,000 lbs. or less (2,722 kg or less)      0.0   \n",
      "2     11.0  Class 1: 6,000 lbs. or less (2,722 kg or less)      0.0   \n",
      "3     11.0  Class 1: 6,000 lbs. or less (2,722 kg or less)      0.0   \n",
      "4     11.0  Class 1: 6,000 lbs. or less (2,722 kg or less)      0.0   \n",
      "\n",
      "   TOW_VEHNAME  AGE   AGENAME  SEX SEXNAME  PER_TYP  \\\n",
      "0  No Trailers   37  37 Years    1    Male        1   \n",
      "1  No Trailers   58  58 Years    2  Female        1   \n",
      "2  No Trailers   60  60 Years    2  Female        2   \n",
      "3  No Trailers   57  57 Years    2  Female        1   \n",
      "4  No Trailers   55  55 Years    1    Male        1   \n",
      "\n",
      "                                 PER_TYPNAME  INJ_SEV             INJ_SEVNAME  \\\n",
      "0     Driver of a Motor Vehicle In-Transport        4        Fatal Injury (K)   \n",
      "1     Driver of a Motor Vehicle In-Transport        0  No Apparent Injury (O)   \n",
      "2  Passenger of a Motor Vehicle In-Transport        0  No Apparent Injury (O)   \n",
      "3     Driver of a Motor Vehicle In-Transport        4        Fatal Injury (K)   \n",
      "4     Driver of a Motor Vehicle In-Transport        4        Fatal Injury (K)   \n",
      "\n",
      "   SEAT_POS            SEAT_POSNAME  REST_USE                REST_USENAME  \\\n",
      "0        11   Front Seat, Left Side        20    None Used/Not Applicable   \n",
      "1        11   Front Seat, Left Side         3  Shoulder and Lap Belt Used   \n",
      "2        13  Front Seat, Right Side         3  Shoulder and Lap Belt Used   \n",
      "3        11   Front Seat, Left Side         3  Shoulder and Lap Belt Used   \n",
      "4        11   Front Seat, Left Side         3  Shoulder and Lap Belt Used   \n",
      "\n",
      "   REST_MIS              REST_MISNAME  HELM_USE    HELM_USENAME  HELM_MIS  \\\n",
      "0         7  None Used/Not Applicable        20  Not Applicable         7   \n",
      "1         0   No Indication of Misuse        20  Not Applicable         7   \n",
      "2         0   No Indication of Misuse        20  Not Applicable         7   \n",
      "3         0   No Indication of Misuse        20  Not Applicable         7   \n",
      "4         0   No Indication of Misuse        20  Not Applicable         7   \n",
      "\n",
      "               HELM_MISNAME  AIR_BAG            AIR_BAGNAME  EJECTION  \\\n",
      "0  None Used/Not Applicable        1        Deployed- Front         1   \n",
      "1  None Used/Not Applicable       20           Not Deployed         0   \n",
      "2  None Used/Not Applicable       20           Not Deployed         0   \n",
      "3  None Used/Not Applicable        8  Deployed- Combination         0   \n",
      "4  None Used/Not Applicable        8  Deployed- Combination         0   \n",
      "\n",
      "      EJECTIONNAME  EJ_PATH                   EJ_PATHNAME  EXTRICAT  \\\n",
      "0  Totally Ejected        9         Ejection Path Unknown         0   \n",
      "1      Not Ejected        0  Ejection Path Not Applicable         0   \n",
      "2      Not Ejected        0  Ejection Path Not Applicable         0   \n",
      "3      Not Ejected        0  Ejection Path Not Applicable         0   \n",
      "4      Not Ejected        0  Ejection Path Not Applicable         0   \n",
      "\n",
      "                       EXTRICATNAME  DRINKING               DRINKINGNAME  \\\n",
      "0  Not Extricated or Not Applicable         0  No (Alcohol Not Involved)   \n",
      "1  Not Extricated or Not Applicable         0  No (Alcohol Not Involved)   \n",
      "2  Not Extricated or Not Applicable         8               Not Reported   \n",
      "3  Not Extricated or Not Applicable         9        Reported as Unknown   \n",
      "4  Not Extricated or Not Applicable         9        Reported as Unknown   \n",
      "\n",
      "   ALC_STATUS  ALC_STATUSNAME  ATST_TYP    ATST_TYPNAME  ALC_RES  \\\n",
      "0           0  Test Not Given         0  Test Not Given      996   \n",
      "1           0  Test Not Given         0  Test Not Given      996   \n",
      "2           0  Test Not Given         0  Test Not Given      996   \n",
      "3           2      Test Given         1           Blood      288   \n",
      "4           2      Test Given         1           Blood        0   \n",
      "\n",
      "      ALC_RESNAME  DRUGS                DRUGSNAME  DSTATUS     DSTATUSNAME  \\\n",
      "0  Test Not Given      0  No (drugs not involved)        8    Not Reported   \n",
      "1  Test Not Given      0  No (drugs not involved)        0  Test Not Given   \n",
      "2  Test Not Given      8             Not Reported        0  Test Not Given   \n",
      "3     0.288 % BAC      9      Reported as Unknown        2      Test Given   \n",
      "4     0.000 % BAC      9      Reported as Unknown        2      Test Given   \n",
      "\n",
      "   HOSPITAL                   HOSPITALNAME  DOA         DOANAME  DEATH_DA  \\\n",
      "0         5                     EMS Ground    0  Not Applicable         1   \n",
      "1         0  Not Transported for Treatment    0  Not Applicable        88   \n",
      "2         0  Not Transported for Treatment    0  Not Applicable        88   \n",
      "3         0  Not Transported for Treatment    7   Died at Scene         1   \n",
      "4         0  Not Transported for Treatment    7   Died at Scene         1   \n",
      "\n",
      "                 DEATH_DANAME  DEATH_MO                DEATH_MONAME  DEATH_YR  \\\n",
      "0                           1         1                     January      2022   \n",
      "1  Not Applicable (Non-Fatal)        88  Not Applicable (Non-Fatal)      8888   \n",
      "2  Not Applicable (Non-Fatal)        88  Not Applicable (Non-Fatal)      8888   \n",
      "3                           1         1                     January      2022   \n",
      "4                           1         1                     January      2022   \n",
      "\n",
      "                 DEATH_YRNAME  DEATH_HR                DEATH_HRNAME  DEATH_MN  \\\n",
      "0                        2022        13                 13:00-13:59        53   \n",
      "1  Not Applicable (Non-fatal)        88  Not Applicable (Non-fatal)        88   \n",
      "2  Not Applicable (Non-fatal)        88  Not Applicable (Non-fatal)        88   \n",
      "3                        2022        16                 16:00-16:59        40   \n",
      "4                        2022        16                 16:00-16:59        40   \n",
      "\n",
      "                 DEATH_MNNAME  DEATH_TM                DEATH_TMNAME  LAG_HRS  \\\n",
      "0                          53      1353                        1353        1   \n",
      "1  Not Applicable (Non-fatal)      8888  Not Applicable (Non-fatal)      999   \n",
      "2  Not Applicable (Non-fatal)      8888  Not Applicable (Non-fatal)      999   \n",
      "3                          40      1640                        1640        0   \n",
      "4                          40      1640                        1640        0   \n",
      "\n",
      "  LAG_HRSNAME  LAG_MINS LAG_MINSNAME  STR_VEH  LOCATION  \\\n",
      "0           1        23           23        0         0   \n",
      "1     Unknown        99      Unknown        0         0   \n",
      "2     Unknown        99      Unknown        0         0   \n",
      "3           0         0            0        0         0   \n",
      "4           0         0            0        0         0   \n",
      "\n",
      "                  LOCATIONNAME  WORK_INJ                     WORK_INJNAME  \\\n",
      "0  Occupant of a Motor Vehicle         0                               No   \n",
      "1  Occupant of a Motor Vehicle         8  Not Applicable (not a fatality)   \n",
      "2  Occupant of a Motor Vehicle         8  Not Applicable (not a fatality)   \n",
      "3  Occupant of a Motor Vehicle         0                               No   \n",
      "4  Occupant of a Motor Vehicle         0                               No   \n",
      "\n",
      "   HISPANIC                     HISPANICNAME  RUR_URB RUR_URBNAME  FUNC_SYS  \\\n",
      "0         7                     Non-Hispanic        1       Rural         3   \n",
      "1         0  Not A Fatality (not Applicable)        1       Rural         3   \n",
      "2         0  Not A Fatality (not Applicable)        1       Rural         3   \n",
      "3         7                     Non-Hispanic        1       Rural         3   \n",
      "4         7                     Non-Hispanic        1       Rural         3   \n",
      "\n",
      "                 FUNC_SYSNAME  SPEC_USE          SPEC_USENAME  EMER_USE  \\\n",
      "0  Principal Arterial - Other       0.0  No Special Use Noted       0.0   \n",
      "1  Principal Arterial - Other       0.0  No Special Use Noted       0.0   \n",
      "2  Principal Arterial - Other       0.0  No Special Use Noted       0.0   \n",
      "3  Principal Arterial - Other       0.0  No Special Use Noted       0.0   \n",
      "4  Principal Arterial - Other       0.0  No Special Use Noted       0.0   \n",
      "\n",
      "     EMER_USENAME  ROLLOVER ROLLOVERNAME  IMPACT1     IMPACT1NAME  FIRE_EXP  \\\n",
      "0  Not Applicable       3.0     Rollover     81.0           Right       0.0   \n",
      "1  Not Applicable       0.0  No Rollover      7.0   7 Clock Point       0.0   \n",
      "2  Not Applicable       0.0  No Rollover      7.0   7 Clock Point       0.0   \n",
      "3  Not Applicable       0.0  No Rollover     12.0  12 Clock Point       0.0   \n",
      "4  Not Applicable       3.0     Rollover     12.0  12 Clock Point       0.0   \n",
      "\n",
      "         FIRE_EXPNAME  MAK_MOD  \\\n",
      "0  No or Not Reported   2403.0   \n",
      "1  No or Not Reported  55402.0   \n",
      "2  No or Not Reported  55402.0   \n",
      "3  No or Not Reported  55035.0   \n",
      "4  No or Not Reported  37402.0   \n",
      "\n",
      "                                         MAK_MODNAME DEVTYPENAME DEVMOTORNAME  \\\n",
      "0  Jeep / Kaiser-Jeep / Willys- Jeep YJ series/Wr...         NaN          NaN   \n",
      "1                                     Hyundai Tucson         NaN          NaN   \n",
      "2                                     Hyundai Tucson         NaN          NaN   \n",
      "3                                    Hyundai Elantra         NaN          NaN   \n",
      "4                                         Honda CR-V         NaN          NaN   \n",
      "\n",
      "   DEVTYPE  DEVMOTOR  \n",
      "0      NaN       NaN  \n",
      "1      NaN       NaN  \n",
      "2      NaN       NaN  \n",
      "3      NaN       NaN  \n",
      "4      NaN       NaN  \n"
     ]
    }
   ],
   "source": [
    "# id del archivo en Google Drive\n",
    "file_id = '1rRZEKB6OPGULbJVFhBoQF68TYTjKnreB'\n",
    "\n",
    "# Construye la url para la descarga de datos\n",
    "url = f'https://drive.google.com/uc?export=download&id={file_id}'\n",
    "\n",
    "# Descarga el archivo con gdown\n",
    "output = '../data/datain/person.csv'  # Especifica el camino donde quieres que se guarde el archivo\n",
    "gdown.download(url, output, quiet=False)\n",
    "\n",
    "# Lee el csv descargado en un dataframe\n",
    "try:\n",
    "    df_person = pd.read_csv(output, encoding='latin1')\n",
    "    print(df_person.head())  # Muestra las primeras filas del dataframe\n",
    "except UnicodeDecodeError as e:\n",
    "    # Gestiona Unicode error si sucede\n",
    "    print(f\"Error decoding the CSV file: {e}\")"
   ]
  },
  {
   "cell_type": "code",
   "execution_count": 152,
   "metadata": {},
   "outputs": [],
   "source": [
    "# Elimina las columnas que no se necesitan\n",
    "columns_to_drop = ['STATE', 'STATENAME', 'VE_FORMS', 'COUNTY', 'MONTH', 'MONTHNAME', 'DAY', 'DAYNAME', 'HOUR', 'HOURNAME', 'MINUTE', 'MINUTENAME', 'HARM_EV', 'HARM_EVNAME', 'MAN_COLL',\\\n",
    "                   'MAN_COLLNAME', 'SCH_BUS', 'SCH_BUSNAME', 'MOD_YEAR', 'MOD_YEARNAME', 'VPICMAKE', 'VPICMAKENAME', 'VPICMODEL', 'VPICMODELNAME', 'VPICBODYCLASS', 'VPICBODYCLASSNAME',\\\n",
    "                    'MAKE', 'MAKENAME', 'BODY_TYP', 'BODY_TYPNAME', 'ICFINALBODY', 'ICFINALBODYNAME', 'GVWR_FROM', 'GVWR_FROMNAME', 'GVWR_TO', 'GVWR_TONAME', 'TOW_VEH', 'TOW_VEHNAME',\\\n",
    "                        'AGENAME', 'SEX', 'REST_USE', 'REST_USENAME', 'HELM_USE', 'HELM_USENAME', 'EJ_PATH', 'EJ_PATHNAME', 'EXTRICAT', 'EXTRICATNAME', 'ALC_STATUS', 'ALC_STATUSNAME',\\\n",
    "                            'ATST_TYP', 'ATST_TYPNAME', 'ALC_RES', 'ALC_RESNAME', 'DRUGS', 'DRUGSNAME', 'DSTATUS', 'DSTATUSNAME', 'HOSPITAL', 'HOSPITALNAME', 'DOA', 'DOANAME', 'DEATH_DANAME',\\\n",
    "                                'DEATH_MO', 'DEATH_MONAME', 'DEATH_YR', 'DEATH_YRNAME', 'DEATH_HR', 'DEATH_HRNAME', 'DEATH_MN', 'DEATH_MNNAME', 'DEATH_TM', 'DEATH_TMNAME', 'LAG_HRS',\\\n",
    "                                    'LAG_HRSNAME', 'LAG_MINS', 'LAG_MINSNAME', 'HISPANIC', 'HISPANICNAME', 'IMPACT1NAME', 'FIRE_EXP', 'FIRE_EXPNAME', 'MAK_MOD', 'MAK_MODNAME', 'DEVTYPENAME',\\\n",
    "                                          'DEVMOTORNAME', 'DEVTYPE', 'DEVMOTOR', 'LOCATION', 'LOCATIONNAME', 'WORK_INJ', 'WORK_INJNAME', 'RUR_URB', 'RUR_URBNAME', 'FUNC_SYS', 'FUNC_SYSNAME',\\\n",
    "                                            'SPEC_USE', 'SPEC_USENAME', 'EMER_USE', 'EMER_USENAME', 'ROLLOVER', 'ROLLOVERNAME', 'IMPACT1', 'AIR_BAG', 'AIR_BAGNAME', 'EJECTION', 'EJECTIONNAME',\\\n",
    "                                                'STR_VEH']\n",
    "\n",
    "df_person = df_person.drop(columns=columns_to_drop)"
   ]
  },
  {
   "cell_type": "code",
   "execution_count": 153,
   "metadata": {},
   "outputs": [
    {
     "data": {
      "text/plain": [
       "50"
      ]
     },
     "execution_count": 153,
     "metadata": {},
     "output_type": "execute_result"
    }
   ],
   "source": [
    "# Mira la longitud máxima de la columna SEXNAME tipo texto para calcular el VARCHAR que hay que poner al crear la tabla\n",
    "col_len = df_person['SEXNAME'].apply(len)\n",
    "max_len = col_len.max()\n",
    "max_len"
   ]
  },
  {
   "cell_type": "code",
   "execution_count": 154,
   "metadata": {},
   "outputs": [
    {
     "data": {
      "text/plain": [
       "54"
      ]
     },
     "execution_count": 154,
     "metadata": {},
     "output_type": "execute_result"
    }
   ],
   "source": [
    "# Mira la longitud máxima de la columna PER_TYPNAME tipo texto para calcular el VARCHAR que hay que poner al crear la tabla\n",
    "col_len = df_person['PER_TYPNAME'].apply(len)\n",
    "max_len = col_len.max()\n",
    "max_len"
   ]
  },
  {
   "cell_type": "code",
   "execution_count": 155,
   "metadata": {},
   "outputs": [
    {
     "data": {
      "text/plain": [
       "28"
      ]
     },
     "execution_count": 155,
     "metadata": {},
     "output_type": "execute_result"
    }
   ],
   "source": [
    "# Mira la longitud máxima de la columna INJ_SEVNAME tipo texto para calcular el VARCHAR que hay que poner al crear la tabla\n",
    "col_len = df_person['INJ_SEVNAME'].apply(len)\n",
    "max_len = col_len.max()\n",
    "max_len"
   ]
  },
  {
   "cell_type": "code",
   "execution_count": 156,
   "metadata": {},
   "outputs": [
    {
     "data": {
      "text/plain": [
       "75"
      ]
     },
     "execution_count": 156,
     "metadata": {},
     "output_type": "execute_result"
    }
   ],
   "source": [
    "# Mira la longitud máxima de la columna SEAT_POSNAME tipo texto para calcular el VARCHAR que hay que poner al crear la tabla\n",
    "col_len = df_person['SEAT_POSNAME'].apply(len)\n",
    "max_len = col_len.max()\n",
    "max_len"
   ]
  },
  {
   "cell_type": "code",
   "execution_count": 157,
   "metadata": {},
   "outputs": [
    {
     "data": {
      "text/plain": [
       "28"
      ]
     },
     "execution_count": 157,
     "metadata": {},
     "output_type": "execute_result"
    }
   ],
   "source": [
    "# Mira la longitud máxima de la columna REST_MISNAME tipo texto para calcular el VARCHAR que hay que poner al crear la tabla\n",
    "col_len = df_person['REST_MISNAME'].apply(len)\n",
    "max_len = col_len.max()\n",
    "max_len"
   ]
  },
  {
   "cell_type": "code",
   "execution_count": 158,
   "metadata": {},
   "outputs": [
    {
     "data": {
      "text/plain": [
       "28"
      ]
     },
     "execution_count": 158,
     "metadata": {},
     "output_type": "execute_result"
    }
   ],
   "source": [
    "# Mira la longitud máxima de la columna HELM_MISNAME tipo texto para calcular el VARCHAR que hay que poner al crear la tabla\n",
    "col_len = df_person['HELM_MISNAME'].apply(len)\n",
    "max_len = col_len.max()\n",
    "max_len"
   ]
  },
  {
   "cell_type": "code",
   "execution_count": 159,
   "metadata": {},
   "outputs": [
    {
     "data": {
      "text/plain": [
       "25"
      ]
     },
     "execution_count": 159,
     "metadata": {},
     "output_type": "execute_result"
    }
   ],
   "source": [
    "# Mira la longitud máxima de la columna DRINKINGNAME tipo texto para calcular el VARCHAR que hay que poner al crear la tabla\n",
    "col_len = df_person['DRINKINGNAME'].apply(len)\n",
    "max_len = col_len.max()\n",
    "max_len"
   ]
  },
  {
   "cell_type": "code",
   "execution_count": 160,
   "metadata": {},
   "outputs": [
    {
     "data": {
      "text/plain": [
       "95757"
      ]
     },
     "execution_count": 160,
     "metadata": {},
     "output_type": "execute_result"
    }
   ],
   "source": [
    "# Toma el dataframe df_person y lo mete dentro de la tabla ya creada en MySQL Workbench 'person'\n",
    "df_person.to_sql('person', engine, index=False, if_exists='append')"
   ]
  },
  {
   "cell_type": "markdown",
   "metadata": {},
   "source": [
    "## Actualización del dataset 'vehicle'"
   ]
  },
  {
   "cell_type": "code",
   "execution_count": 245,
   "metadata": {},
   "outputs": [
    {
     "name": "stderr",
     "output_type": "stream",
     "text": [
      "Downloading...\n",
      "From (original): https://drive.google.com/uc?export=download&id=12fC_v0KQ6z4cBoZYVVqVfQPYsZyzSfMS\n",
      "From (redirected): https://drive.google.com/uc?export=download&id=12fC_v0KQ6z4cBoZYVVqVfQPYsZyzSfMS&confirm=t&uuid=a810d071-7648-4938-a481-bc3eb3dd7310\n",
      "To: c:\\Users\\perez\\OneDrive\\Documentos\\GitHub\\Proyectos\\final_project\\final_project\\data\\datain\\vehicle.csv\n",
      "100%|██████████| 113M/113M [00:02<00:00, 49.1MB/s] \n",
      "C:\\Users\\perez\\AppData\\Local\\Temp\\ipykernel_10432\\3748650065.py:13: DtypeWarning: Columns (14,56,58,176,178) have mixed types. Specify dtype option on import or set low_memory=False.\n",
      "  df_vehicle = pd.read_csv(output, encoding='latin1')\n"
     ]
    },
    {
     "name": "stdout",
     "output_type": "stream",
     "text": [
      "   STATE STATENAME  ST_CASE  VEH_NO  VE_FORMS  NUMOCCS NUMOCCSNAME  DAY  \\\n",
      "0      1   Alabama    10001       1         2        1          01    1   \n",
      "1      1   Alabama    10001       2         2        2          02    1   \n",
      "2      1   Alabama    10002       1         2        1          01    1   \n",
      "3      1   Alabama    10002       2         2        4          04    1   \n",
      "4      1   Alabama    10003       1         1        2          02    1   \n",
      "\n",
      "   DAYNAME  MONTH MONTHNAME  HOUR         HOURNAME  MINUTE MINUTENAME  \\\n",
      "0        1      1   January    12  12:00pm-12:59pm      30         30   \n",
      "1        1      1   January    12  12:00pm-12:59pm      30         30   \n",
      "2        1      1   January    16    4:00pm-4:59pm      40         40   \n",
      "3        1      1   January    16    4:00pm-4:59pm      40         40   \n",
      "4        1      1   January     1    1:00am-1:59am      33         33   \n",
      "\n",
      "   HARM_EV                 HARM_EVNAME  MAN_COLL  \\\n",
      "0       12  Motor Vehicle In-Transport         7   \n",
      "1       12  Motor Vehicle In-Transport         7   \n",
      "2       12  Motor Vehicle In-Transport         2   \n",
      "3       12  Motor Vehicle In-Transport         2   \n",
      "4       42        Tree (Standing Only)         0   \n",
      "\n",
      "                                        MAN_COLLNAME  UNITTYPE  \\\n",
      "0                         Sideswipe - Same Direction         1   \n",
      "1                         Sideswipe - Same Direction         1   \n",
      "2                                     Front-to-Front         1   \n",
      "3                                     Front-to-Front         1   \n",
      "4  The First Harmful Event was Not a Collision wi...         1   \n",
      "\n",
      "                                        UNITTYPENAME  HIT_RUN HIT_RUNNAME  \\\n",
      "0  Motor Vehicle In-Transport (Inside or Outside ...        0          No   \n",
      "1  Motor Vehicle In-Transport (Inside or Outside ...        0          No   \n",
      "2  Motor Vehicle In-Transport (Inside or Outside ...        0          No   \n",
      "3  Motor Vehicle In-Transport (Inside or Outside ...        0          No   \n",
      "4  Motor Vehicle In-Transport (Inside or Outside ...        0          No   \n",
      "\n",
      "   REG_STAT REG_STATNAME  OWNER  \\\n",
      "0         1      Alabama      2   \n",
      "1         1      Alabama      1   \n",
      "2         1      Alabama      2   \n",
      "3         1      Alabama      1   \n",
      "4         1      Alabama      2   \n",
      "\n",
      "                                           OWNERNAME  MAKE  \\\n",
      "0  Driver (in this crash) Not Registered Owner (O...     2   \n",
      "1       Driver (in this crash) was  Registered Owner    55   \n",
      "2  Driver (in this crash) Not Registered Owner (O...    55   \n",
      "3       Driver (in this crash) was  Registered Owner    37   \n",
      "4  Driver (in this crash) Not Registered Owner (O...    37   \n",
      "\n",
      "                            MAKENAME  MODEL  MAK_MOD  \\\n",
      "0  Jeep / Kaiser-Jeep / Willys- Jeep    403     2403   \n",
      "1                            Hyundai    402    55402   \n",
      "2                            Hyundai     35    55035   \n",
      "3                              Honda    402    37402   \n",
      "4                              Honda     32    37032   \n",
      "\n",
      "                                         MAK_MODNAME  BODY_TYP  \\\n",
      "0  Jeep / Kaiser-Jeep / Willys- Jeep YJ series/Wr...        14   \n",
      "1                                     Hyundai Tucson        14   \n",
      "2                                    Hyundai Elantra         4   \n",
      "3                                         Honda CR-V        14   \n",
      "4  Honda Accord (Note: For Crosstour model years ...         4   \n",
      "\n",
      "                                        BODY_TYPNAME  MOD_YEAR MOD_YEARNAME  \\\n",
      "0  Compact Utility (Utility Vehicle Categories \"S...      2016         2016   \n",
      "1  Compact Utility (Utility Vehicle Categories \"S...      2021         2021   \n",
      "2                              4-door sedan, hardtop      2019         2019   \n",
      "3  Compact Utility (Utility Vehicle Categories \"S...      2012         2012   \n",
      "4                              4-door sedan, hardtop      2006         2006   \n",
      "\n",
      "            VIN       VINNAME VIN_1 VIN_2 VIN_3 VIN_4 VIN_5 VIN_6 VIN_7 VIN_8  \\\n",
      "0  1C4BJWKG8GL2  1C4BJWKG8GL2     1     C     4     B     J     W     K     G   \n",
      "1  KM8J33A44MU3  KM8J33A44MU3     K     M     8     J     3     3     A     4   \n",
      "2  5NPD84LF9KH4  5NPD84LF9KH4     5     N     P     D     8     4     L     F   \n",
      "3  5J6RM3H59CL0  5J6RM3H59CL0     5     J     6     R     M     3     H     5   \n",
      "4  1HGCM665X6A0  1HGCM665X6A0     1     H     G     C     M     6     6     5   \n",
      "\n",
      "  VIN_9 VIN_10 VIN_11 VIN_12  TOW_VEH  TOW_VEHNAME  J_KNIFE  \\\n",
      "0     8      G      L      2        0  No Trailers        0   \n",
      "1     4      M      U      3        0  No Trailers        0   \n",
      "2     9      K      H      4        0  No Trailers        0   \n",
      "3     9      C      L      0        0  No Trailers        0   \n",
      "4     X      6      A      0        0  No Trailers        0   \n",
      "\n",
      "                  J_KNIFENAME  MCARR_I1    MCARR_I1NAME   MCARR_I2  \\\n",
      "0  Not an Articulated Vehicle         0  Not Applicable  000000000   \n",
      "1  Not an Articulated Vehicle         0  Not Applicable  000000000   \n",
      "2  Not an Articulated Vehicle         0  Not Applicable  000000000   \n",
      "3  Not an Articulated Vehicle         0  Not Applicable  000000000   \n",
      "4  Not an Articulated Vehicle         0  Not Applicable  000000000   \n",
      "\n",
      "     MCARR_I2NAME     MCARR_ID    MCARR_IDNAME  V_CONFIG    V_CONFIGNAME  \\\n",
      "0  Not Applicable  00000000000  Not Applicable         0  Not Applicable   \n",
      "1  Not Applicable  00000000000  Not Applicable         0  Not Applicable   \n",
      "2  Not Applicable  00000000000  Not Applicable         0  Not Applicable   \n",
      "3  Not Applicable  00000000000  Not Applicable         0  Not Applicable   \n",
      "4  Not Applicable  00000000000  Not Applicable         0  Not Applicable   \n",
      "\n",
      "   CARGO_BT          CARGO_BTNAME  HAZ_INV HAZ_INVNAME  HAZ_PLAC  \\\n",
      "0         0  Not Applicable (N/A)        1          No         0   \n",
      "1         0  Not Applicable (N/A)        1          No         0   \n",
      "2         0  Not Applicable (N/A)        1          No         0   \n",
      "3         0  Not Applicable (N/A)        1          No         0   \n",
      "4         0  Not Applicable (N/A)        1          No         0   \n",
      "\n",
      "     HAZ_PLACNAME  HAZ_ID      HAZ_IDNAME  HAZ_CNO     HAZ_CNONAME  HAZ_REL  \\\n",
      "0  Not Applicable       0  Not Applicable        0  Not Applicable        0   \n",
      "1  Not Applicable       0  Not Applicable        0  Not Applicable        0   \n",
      "2  Not Applicable       0  Not Applicable        0  Not Applicable        0   \n",
      "3  Not Applicable       0  Not Applicable        0  Not Applicable        0   \n",
      "4  Not Applicable       0  Not Applicable        0  Not Applicable        0   \n",
      "\n",
      "      HAZ_RELNAME  BUS_USE BUS_USENAME  SPEC_USE          SPEC_USENAME  \\\n",
      "0  Not Applicable        0   Not a Bus         0  No Special Use Noted   \n",
      "1  Not Applicable        0   Not a Bus         0  No Special Use Noted   \n",
      "2  Not Applicable        0   Not a Bus         0  No Special Use Noted   \n",
      "3  Not Applicable        0   Not a Bus         0  No Special Use Noted   \n",
      "4  Not Applicable        0   Not a Bus         0  No Special Use Noted   \n",
      "\n",
      "   EMER_USE    EMER_USENAME  TRAV_SP TRAV_SPNAME  UNDEROVERRIDE  \\\n",
      "0         0  Not Applicable       65     065 MPH              0   \n",
      "1         0  Not Applicable       55     055 MPH              0   \n",
      "2         0  Not Applicable       65     065 MPH              0   \n",
      "3         0  Not Applicable       65     065 MPH              0   \n",
      "4         0  Not Applicable       45     045 MPH              7   \n",
      "\n",
      "          UNDEROVERRIDENAME  ROLLOVER ROLLOVERNAME  ROLINLOC ROLINLOCNAME  \\\n",
      "0  No Underride or Override         3     Rollover         5  On Roadside   \n",
      "1  No Underride or Override         0  No Rollover         0  No Rollover   \n",
      "2  No Underride or Override         0  No Rollover         0  No Rollover   \n",
      "3  No Underride or Override         3     Rollover         1   On Roadway   \n",
      "4            Not Applicable         0  No Rollover         0  No Rollover   \n",
      "\n",
      "   IMPACT1     IMPACT1NAME  DEFORMED      DEFORMEDNAME  TOWED TOWEDNAME  \\\n",
      "0       81           Right         6  Disabling Damage      6     Towed   \n",
      "1        7   7 Clock Point         6  Disabling Damage      6     Towed   \n",
      "2       12  12 Clock Point         6  Disabling Damage      6     Towed   \n",
      "3       12  12 Clock Point         6  Disabling Damage      6     Towed   \n",
      "4       12  12 Clock Point         6  Disabling Damage      6     Towed   \n",
      "\n",
      "   M_HARM                  M_HARMNAME  FIRE_EXP        FIRE_EXPNAME  DR_PRES  \\\n",
      "0       1           Rollover/Overturn         0  No or Not Reported        1   \n",
      "1      12  Motor Vehicle In-Transport         0  No or Not Reported        1   \n",
      "2      12  Motor Vehicle In-Transport         0  No or Not Reported        1   \n",
      "3      12  Motor Vehicle In-Transport         0  No or Not Reported        1   \n",
      "4      42        Tree (Standing Only)         0  No or Not Reported        1   \n",
      "\n",
      "  DR_PRESNAME  L_STATE L_STATENAME  DR_ZIP DR_ZIPNAME  L_STATUS L_STATUSNAME  \\\n",
      "0         Yes        1     Alabama   35405      35405         6        Valid   \n",
      "1         Yes        1     Alabama   35466      35466         6        Valid   \n",
      "2         Yes        1     Alabama   36081      36081         1    Suspended   \n",
      "3         Yes        1     Alabama   36319      36319         6        Valid   \n",
      "4         Yes        1     Alabama   35044      35044         6        Valid   \n",
      "\n",
      "   L_TYPE           L_TYPENAME  CDL_STAT CDL_STATNAME  L_ENDORS  \\\n",
      "0       1  Full Driver License         0     No (CDL)         0   \n",
      "1       1  Full Driver License         0     No (CDL)         0   \n",
      "2       1  Full Driver License         0     No (CDL)         0   \n",
      "3       1  Full Driver License         0     No (CDL)         0   \n",
      "4       1  Full Driver License         0     No (CDL)         0   \n",
      "\n",
      "                                L_ENDORSNAME  L_COMPL  \\\n",
      "0  No Endorsements required for this vehicle        3   \n",
      "1  No Endorsements required for this vehicle        3   \n",
      "2  No Endorsements required for this vehicle        2   \n",
      "3  No Endorsements required for this vehicle        3   \n",
      "4  No Endorsements required for this vehicle        3   \n",
      "\n",
      "                               L_COMPLNAME  L_RESTRI  \\\n",
      "0     Valid license for this class vehicle         0   \n",
      "1     Valid license for this class vehicle         0   \n",
      "2  No valid license for this class vehicle         1   \n",
      "3     Valid license for this class vehicle         0   \n",
      "4     Valid license for this class vehicle         0   \n",
      "\n",
      "                        L_RESTRINAME  DR_HGT DR_HGTNAME  DR_WGT DR_WGTNAME  \\\n",
      "0  No Restrictions or Not Applicable      72         72     238   238 lbs.   \n",
      "1  No Restrictions or Not Applicable      68         68     135   135 lbs.   \n",
      "2         Restrictions Complied With      60         60     150   150 lbs.   \n",
      "3  No Restrictions or Not Applicable      74         74     185   185 lbs.   \n",
      "4  No Restrictions or Not Applicable      62         62     140   140 lbs.   \n",
      "\n",
      "   PREV_ACC PREV_ACCNAME  PREV_SUS1 PREV_SUS1NAME  PREV_SUS2 PREV_SUS2NAME  \\\n",
      "0         1            1          0           NaN          0           NaN   \n",
      "1         0          NaN          0           NaN          0           NaN   \n",
      "2         1            1          0           NaN          1             1   \n",
      "3         0          NaN          0           NaN          0           NaN   \n",
      "4         1            1          0           NaN          0           NaN   \n",
      "\n",
      "   PREV_SUS3 PREV_SUS3NAME  PREV_DWI PREV_DWINAME  PREV_SPD PREV_SPDNAME  \\\n",
      "0          0           NaN         0          NaN         1            1   \n",
      "1          0           NaN         0          NaN         0          NaN   \n",
      "2          1             1         1            1         0          NaN   \n",
      "3          0           NaN         0          NaN         0          NaN   \n",
      "4          0           NaN         0          NaN         1            1   \n",
      "\n",
      "   PREV_OTH PREV_OTHNAME  FIRST_MO FIRST_MONAME  FIRST_YR FIRST_YRNAME  \\\n",
      "0         1            1         3        March      2017         2017   \n",
      "1         0          NaN         0    No Record         0    No Record   \n",
      "2         0          NaN         7         July      2021         2021   \n",
      "3         0          NaN         0    No Record         0    No Record   \n",
      "4         1            1         2     February      2017         2017   \n",
      "\n",
      "   LAST_MO LAST_MONAME  LAST_YR LAST_YRNAME  SPEEDREL  \\\n",
      "0        6        June     2021        2021         0   \n",
      "1        0   No Record        0   No Record         0   \n",
      "2       10     October     2021        2021         0   \n",
      "3        0   No Record        0   No Record         0   \n",
      "4       10     October     2017        2017         4   \n",
      "\n",
      "                   SPEEDRELNAME  VTRAFWAY  \\\n",
      "0                            No         2   \n",
      "1                            No         2   \n",
      "2                            No         2   \n",
      "3                            No         2   \n",
      "4  Yes, Too Fast for Conditions         1   \n",
      "\n",
      "                           VTRAFWAYNAME  VNUM_LAN VNUM_LANNAME  VSPD_LIM  \\\n",
      "0  Two-Way, Divided, Unprotected Median         2    Two lanes        65   \n",
      "1  Two-Way, Divided, Unprotected Median         2    Two lanes        65   \n",
      "2  Two-Way, Divided, Unprotected Median         2    Two lanes        65   \n",
      "3  Two-Way, Divided, Unprotected Median         2    Two lanes        65   \n",
      "4                  Two-Way, Not Divided         2    Two lanes        35   \n",
      "\n",
      "  VSPD_LIMNAME  VALIGN  VALIGNNAME  VPROFILE VPROFILENAME  VPAVETYP  \\\n",
      "0       65 MPH       1    Straight         1        Level         2   \n",
      "1       65 MPH       1    Straight         1        Level         2   \n",
      "2       65 MPH       1    Straight         1        Level         2   \n",
      "3       65 MPH       1    Straight         1        Level         2   \n",
      "4       35 MPH       3  Curve Left         1        Level         2   \n",
      "\n",
      "                       VPAVETYPNAME  VSURCOND VSURCONDNAME  VTRAFCON  \\\n",
      "0  Blacktop, Bituminous, or Asphalt         1          Dry         0   \n",
      "1  Blacktop, Bituminous, or Asphalt         1          Dry         0   \n",
      "2  Blacktop, Bituminous, or Asphalt         1          Dry         0   \n",
      "3  Blacktop, Bituminous, or Asphalt         1          Dry         0   \n",
      "4  Blacktop, Bituminous, or Asphalt         2          Wet         0   \n",
      "\n",
      "  VTRAFCONNAME  VTCONT_F VTCONT_FNAME  P_CRASH1         P_CRASH1NAME  \\\n",
      "0  No Controls         0  No Controls         1       Going Straight   \n",
      "1  No Controls         0  No Controls         1       Going Straight   \n",
      "2  No Controls         0  No Controls         1       Going Straight   \n",
      "3  No Controls         0  No Controls         1       Going Straight   \n",
      "4  No Controls         0  No Controls        14  Negotiating a Curve   \n",
      "\n",
      "   P_CRASH2                                       P_CRASH2NAME  P_CRASH3  \\\n",
      "0         1                                 Blow out/flat tire        99   \n",
      "1        60  From adjacent lane (same direction) over left ...        99   \n",
      "2        54                    Traveling in opposite direction        99   \n",
      "3        54                    Traveling in opposite direction        99   \n",
      "4        13         Off the edge of the road on the right side        99   \n",
      "\n",
      "           P_CRASH3NAME  PCRASH4 PCRASH4NAME  PCRASH5  \\\n",
      "0  Unknown/Not Reported        1    Tracking        2   \n",
      "1  Unknown/Not Reported        1    Tracking        1   \n",
      "2  Unknown/Not Reported        1    Tracking        1   \n",
      "3  Unknown/Not Reported        1    Tracking        1   \n",
      "4  Unknown/Not Reported        1    Tracking        4   \n",
      "\n",
      "                                        PCRASH5NAME  ACC_TYPE  \\\n",
      "0  Stayed on roadway, but left original travel lane        44   \n",
      "1                    Stayed in original travel lane        45   \n",
      "2                    Stayed in original travel lane        52   \n",
      "3                    Stayed in original travel lane        52   \n",
      "4                                  Departed roadway         1   \n",
      "\n",
      "                                        ACC_TYPENAME      TRLR1VIN  \\\n",
      "0  F44-Same Trafficway, Same Direction-Angle, Sid...  777777777777   \n",
      "1  F45-Same Trafficway, Same Direction-Angle, Sid...  777777777777   \n",
      "2  G52-Same Trafficway, Opposite Direction-Head-O...  777777777777   \n",
      "3  G52-Same Trafficway, Opposite Direction-Head-O...  777777777777   \n",
      "4  A1-Single Driver-Right Roadside Departure-Driv...  777777777777   \n",
      "\n",
      "        TRLR1VINNAME      TRLR2VIN       TRLR2VINNAME      TRLR3VIN  \\\n",
      "0  No Trailing Units  777777777777  No Trailing Units  777777777777   \n",
      "1  No Trailing Units  777777777777  No Trailing Units  777777777777   \n",
      "2  No Trailing Units  777777777777  No Trailing Units  777777777777   \n",
      "3  No Trailing Units  777777777777  No Trailing Units  777777777777   \n",
      "4  No Trailing Units  777777777777  No Trailing Units  777777777777   \n",
      "\n",
      "        TRLR3VINNAME  DEATHS  DR_DRINK DR_DRINKNAME  VPICMAKE VPICMAKENAME  \\\n",
      "0  No Trailing Units       1         0           No       483         Jeep   \n",
      "1  No Trailing Units       0         0           No       498      Hyundai   \n",
      "2  No Trailing Units       1         1          Yes       498      Hyundai   \n",
      "3  No Trailing Units       1         0           No       474        Honda   \n",
      "4  No Trailing Units       1         0           No       474        Honda   \n",
      "\n",
      "   VPICMODEL VPICMODELNAME  VPICBODYCLASS  \\\n",
      "0       1943      Wrangler              7   \n",
      "1       2058        Tucson              7   \n",
      "2       2735       Elantra             13   \n",
      "3       1865          CR-V              7   \n",
      "4       1861        Accord             13   \n",
      "\n",
      "                                   VPICBODYCLASSNAME  ICFINALBODY  \\\n",
      "0  Sport Utility Vehicle (SUV)/Multi-Purpose Vehi...            0   \n",
      "1  Sport Utility Vehicle (SUV)/Multi-Purpose Vehi...            0   \n",
      "2                                       Sedan/Saloon            0   \n",
      "3  Sport Utility Vehicle (SUV)/Multi-Purpose Vehi...            0   \n",
      "4                                       Sedan/Saloon            0   \n",
      "\n",
      "  ICFINALBODYNAME  GVWR_FROM                                   GVWR_FROMNAME  \\\n",
      "0  Not Applicable         11  Class 1: 6,000 lbs. or less (2,722 kg or less)   \n",
      "1  Not Applicable         11  Class 1: 6,000 lbs. or less (2,722 kg or less)   \n",
      "2  Not Applicable         11  Class 1: 6,000 lbs. or less (2,722 kg or less)   \n",
      "3  Not Applicable         11  Class 1: 6,000 lbs. or less (2,722 kg or less)   \n",
      "4  Not Applicable         11  Class 1: 6,000 lbs. or less (2,722 kg or less)   \n",
      "\n",
      "   GVWR_TO                                     GVWR_TONAME  TRLR1GVWR  \\\n",
      "0       11  Class 1: 6,000 lbs. or less (2,722 kg or less)         77   \n",
      "1       11  Class 1: 6,000 lbs. or less (2,722 kg or less)         77   \n",
      "2       11  Class 1: 6,000 lbs. or less (2,722 kg or less)         77   \n",
      "3       11  Class 1: 6,000 lbs. or less (2,722 kg or less)         77   \n",
      "4       11  Class 1: 6,000 lbs. or less (2,722 kg or less)         77   \n",
      "\n",
      "       TRLR1GVWRNAME  TRLR2GVWR      TRLR2GVWRNAME  TRLR3GVWR  \\\n",
      "0  No Trailing Units         77  No Trailing Units         77   \n",
      "1  No Trailing Units         77  No Trailing Units         77   \n",
      "2  No Trailing Units         77  No Trailing Units         77   \n",
      "3  No Trailing Units         77  No Trailing Units         77   \n",
      "4  No Trailing Units         77  No Trailing Units         77   \n",
      "\n",
      "       TRLR3GVWRNAME  \n",
      "0  No Trailing Units  \n",
      "1  No Trailing Units  \n",
      "2  No Trailing Units  \n",
      "3  No Trailing Units  \n",
      "4  No Trailing Units  \n"
     ]
    }
   ],
   "source": [
    "# id del archivo en Google Drive\n",
    "file_id = '12fC_v0KQ6z4cBoZYVVqVfQPYsZyzSfMS'\n",
    "\n",
    "# Construye la url para la descarga de datos\n",
    "url = f'https://drive.google.com/uc?export=download&id={file_id}'\n",
    "\n",
    "# Descarga el archivo con gdown\n",
    "output = '../data/datain/vehicle.csv'  # Especifica el camino donde quieres que se guarde el archivo\n",
    "gdown.download(url, output, quiet=False)\n",
    "\n",
    "# Lee el csv descargado en un dataframe\n",
    "try:\n",
    "    df_vehicle = pd.read_csv(output, encoding='latin1')\n",
    "    print(df_vehicle.head())  # Muestra las primeras filas del dataframe\n",
    "except UnicodeDecodeError as e:\n",
    "    # Gestiona Unicode error si sucede\n",
    "    print(f\"Error decoding the CSV file: {e}\")"
   ]
  },
  {
   "cell_type": "code",
   "execution_count": 246,
   "metadata": {},
   "outputs": [],
   "source": [
    "# Elimina las columnas que no se necesitan\n",
    "columns_to_drop = ['STATE', 'STATENAME', 'VE_FORMS', 'NUMOCCSNAME', 'DAY', 'DAYNAME', 'MONTH', 'MONTHNAME', 'HOUR', 'HOURNAME', 'MINUTE', 'MINUTENAME', 'HARM_EV', 'HARM_EVNAME', 'MAN_COLL',\\\n",
    "                   'MAN_COLLNAME', 'REG_STAT', 'REG_STATNAME', 'VIN', 'VINNAME', 'VIN_1', 'VIN_2', 'VIN_3', 'VIN_4', 'VIN_5', 'VIN_6', 'VIN_7', 'VIN_8', 'VIN_9', 'VIN_10', 'VIN_11', 'VIN_12',\\\n",
    "                    'J_KNIFE', 'J_KNIFENAME', 'MCARR_I1', 'MCARR_I1NAME', 'MCARR_I2', 'MCARR_I2NAME', 'MCARR_ID', 'MCARR_IDNAME', 'V_CONFIG', 'V_CONFIGNAME', 'CARGO_BT', 'CARGO_BTNAME',\\\n",
    "                        'HAZ_PLAC', 'HAZ_PLACNAME', 'HAZ_ID', 'HAZ_IDNAME', 'HAZ_CNO', 'HAZ_CNONAME', 'HAZ_REL', 'HAZ_RELNAME', 'TRAV_SPNAME', 'UNDEROVERRIDE', 'UNDEROVERRIDENAME', 'DEFORMED',\\\n",
    "                            'DEFORMEDNAME', 'L_STATE', 'L_STATENAME', 'DR_ZIP', 'DR_ZIPNAME', 'CDL_STAT', 'CDL_STATNAME', 'L_ENDORS', 'L_ENDORSNAME', 'L_STATUS', 'L_STATUSNAME', 'L_TYPE', 'L_TYPENAME',\\\n",
    "                                'DR_HGT', 'DR_HGTNAME', 'DR_WGT', 'DR_WGTNAME', 'PREV_OTH', 'PREV_OTHNAME', 'FIRST_MO', 'FIRST_MONAME', 'FIRST_YR', 'FIRST_YRNAME', 'LAST_MO', 'LAST_MONAME',\\\n",
    "                                    'LAST_YR', 'LAST_YRNAME', 'VTRAFWAY', 'VTRAFWAYNAME', 'VALIGN', 'VALIGNNAME', 'VPROFILE', 'VPROFILENAME', 'VPAVETYP', 'VPAVETYPNAME', 'VTRAFCON',\\\n",
    "                                          'VTRAFCONNAME', 'VTCONT_F', 'VTCONT_FNAME', 'TRLR1GVWR', 'TRLR1GVWRNAME', 'TRLR2GVWR', 'TRLR2GVWRNAME', 'TRLR3GVWR', 'TRLR3GVWRNAME', 'UNITTYPE', 'UNITTYPENAME',\\\n",
    "                                            'TRLR1VIN', 'TRLR1VINNAME', 'TRLR2VIN', 'TRLR2VINNAME', 'TRLR3VIN', 'TRLR3VINNAME', 'DR_DRINK', 'DR_DRINKNAME', 'MAKE', 'MAKENAME', 'MODEL', 'MAK_MOD',\\\n",
    "                                                'MAK_MODNAME', 'TOW_VEH', 'TOW_VEHNAME', 'VSPD_LIM', 'VSPD_LIMNAME', 'TRAV_SP', 'GVWR_TO', 'GVWR_TONAME', 'OWNER', 'OWNERNAME', 'VNUM_LAN', 'VNUM_LANNAME',\\\n",
    "                                                    'P_CRASH3', 'P_CRASH3NAME', 'PCRASH4', 'PCRASH4NAME', 'PCRASH5', 'PCRASH5NAME', 'P_CRASH1', 'P_CRASH1NAME', 'P_CRASH2', 'P_CRASH2NAME', 'ICFINALBODY',\\\n",
    "                                                        'ICFINALBODYNAME', 'MOD_YEARNAME', 'HAZ_INV', 'HAZ_INVNAME', 'DEATHS', 'FIRE_EXP', 'FIRE_EXPNAME', 'PREV_SUS2', 'PREV_SUS2NAME', 'PREV_SUS3',\\\n",
    "                                                            'PREV_SUS3NAME', 'PREV_ACCNAME', 'PREV_DWINAME', 'PREV_SPDNAME']\n",
    "\n",
    "df_vehicle = df_vehicle.drop(columns=columns_to_drop)"
   ]
  },
  {
   "cell_type": "code",
   "execution_count": 247,
   "metadata": {},
   "outputs": [],
   "source": [
    "# Reordena las columnas para que tengan el mismo orden que en la tabla creada en MySQL Workbench\n",
    "new_column_order = ['ST_CASE', 'VEH_NO', 'BODY_TYP', 'BODY_TYPNAME', 'VPICMAKE', 'VPICMAKENAME', 'VPICMODEL', 'VPICMODELNAME', 'VPICBODYCLASS', 'VPICBODYCLASSNAME',\\\n",
    "                    'MOD_YEAR', 'GVWR_FROM', 'GVWR_FROMNAME', 'BUS_USE', 'BUS_USENAME', 'SPEC_USE', 'SPEC_USENAME', 'EMER_USE', 'EMER_USENAME', 'NUMOCCS',\\\n",
    "                        'ROLLOVER', 'ROLLOVERNAME', 'ROLINLOC', 'ROLINLOCNAME', 'IMPACT1', 'IMPACT1NAME', 'TOWED', 'TOWEDNAME', 'M_HARM', 'M_HARMNAME',\\\n",
    "                            'VSURCOND', 'VSURCONDNAME', 'ACC_TYPE', 'ACC_TYPENAME', 'DR_PRES', 'DR_PRESNAME', 'L_COMPL', 'L_COMPLNAME', 'L_RESTRI', 'L_RESTRINAME',\\\n",
    "                                'PREV_ACC', 'PREV_SUS1', 'PREV_DWI', 'PREV_SPD', 'SPEEDREL', 'SPEEDRELNAME',\\\n",
    "                                'HIT_RUN', 'HIT_RUNNAME']"
   ]
  },
  {
   "cell_type": "code",
   "execution_count": 248,
   "metadata": {},
   "outputs": [],
   "source": [
    "# Actualiza el dataframe con el nuevo orden\n",
    "df_vehicle = df_vehicle[new_column_order]"
   ]
  },
  {
   "cell_type": "code",
   "execution_count": 249,
   "metadata": {},
   "outputs": [
    {
     "data": {
      "text/plain": [
       "99"
      ]
     },
     "execution_count": 249,
     "metadata": {},
     "output_type": "execute_result"
    }
   ],
   "source": [
    "# Mira la longitud máxima de la columna BODY_TYPNAME tipo texto para calcular el VARCHAR que hay que poner al crear la tabla\n",
    "col_len = df_vehicle['BODY_TYPNAME'].apply(len)\n",
    "max_len = col_len.max()\n",
    "max_len"
   ]
  },
  {
   "cell_type": "code",
   "execution_count": 250,
   "metadata": {},
   "outputs": [
    {
     "data": {
      "text/plain": [
       "51"
      ]
     },
     "execution_count": 250,
     "metadata": {},
     "output_type": "execute_result"
    }
   ],
   "source": [
    "# Mira la longitud máxima de la columna VPICMAKENAME tipo texto para calcular el VARCHAR que hay que poner al crear la tabla\n",
    "col_len = df_vehicle['VPICMAKENAME'].apply(len)\n",
    "max_len = col_len.max()\n",
    "max_len"
   ]
  },
  {
   "cell_type": "code",
   "execution_count": 251,
   "metadata": {},
   "outputs": [
    {
     "data": {
      "text/plain": [
       "103"
      ]
     },
     "execution_count": 251,
     "metadata": {},
     "output_type": "execute_result"
    }
   ],
   "source": [
    "# Mira la longitud máxima de la columna VPICMODELNAME tipo texto para calcular el VARCHAR que hay que poner al crear la tabla\n",
    "col_len = df_vehicle['VPICMODELNAME'].apply(len)\n",
    "max_len = col_len.max()\n",
    "max_len"
   ]
  },
  {
   "cell_type": "code",
   "execution_count": 252,
   "metadata": {},
   "outputs": [
    {
     "data": {
      "text/plain": [
       "75"
      ]
     },
     "execution_count": 252,
     "metadata": {},
     "output_type": "execute_result"
    }
   ],
   "source": [
    "# Mira la longitud máxima de la columna VPICBODYCLASSNAME tipo texto para calcular el VARCHAR que hay que poner al crear la tabla\n",
    "col_len = df_vehicle['VPICBODYCLASSNAME'].apply(len)\n",
    "max_len = col_len.max()\n",
    "max_len"
   ]
  },
  {
   "cell_type": "code",
   "execution_count": 253,
   "metadata": {},
   "outputs": [
    {
     "data": {
      "text/plain": [
       "52"
      ]
     },
     "execution_count": 253,
     "metadata": {},
     "output_type": "execute_result"
    }
   ],
   "source": [
    "# Mira la longitud máxima de la columna GVWR_FROMNAME tipo texto para calcular el VARCHAR que hay que poner al crear la tabla\n",
    "col_len = df_vehicle['GVWR_FROMNAME'].apply(len)\n",
    "max_len = col_len.max()\n",
    "max_len"
   ]
  },
  {
   "cell_type": "code",
   "execution_count": 254,
   "metadata": {},
   "outputs": [
    {
     "data": {
      "text/plain": [
       "33"
      ]
     },
     "execution_count": 254,
     "metadata": {},
     "output_type": "execute_result"
    }
   ],
   "source": [
    "# Mira la longitud máxima de la columna BUS_USENAME tipo texto para calcular el VARCHAR que hay que poner al crear la tabla\n",
    "col_len = df_vehicle['BUS_USENAME'].apply(len)\n",
    "max_len = col_len.max()\n",
    "max_len"
   ]
  },
  {
   "cell_type": "code",
   "execution_count": 255,
   "metadata": {},
   "outputs": [
    {
     "data": {
      "text/plain": [
       "46"
      ]
     },
     "execution_count": 255,
     "metadata": {},
     "output_type": "execute_result"
    }
   ],
   "source": [
    "# Mira la longitud máxima de la columna SPEC_USENAME tipo texto para calcular el VARCHAR que hay que poner al crear la tabla\n",
    "col_len = df_vehicle['SPEC_USENAME'].apply(len)\n",
    "max_len = col_len.max()\n",
    "max_len"
   ]
  },
  {
   "cell_type": "code",
   "execution_count": 256,
   "metadata": {},
   "outputs": [
    {
     "data": {
      "text/plain": [
       "63"
      ]
     },
     "execution_count": 256,
     "metadata": {},
     "output_type": "execute_result"
    }
   ],
   "source": [
    "# Mira la longitud máxima de la columna EMER_USENAME tipo texto para calcular el VARCHAR que hay que poner al crear la tabla\n",
    "col_len = df_vehicle['EMER_USENAME'].apply(len)\n",
    "max_len = col_len.max()\n",
    "max_len"
   ]
  },
  {
   "cell_type": "code",
   "execution_count": 257,
   "metadata": {},
   "outputs": [
    {
     "data": {
      "text/plain": [
       "14"
      ]
     },
     "execution_count": 257,
     "metadata": {},
     "output_type": "execute_result"
    }
   ],
   "source": [
    "# Mira la longitud máxima de la columna ROLLOVERNAME tipo texto para calcular el VARCHAR que hay que poner al crear la tabla\n",
    "col_len = df_vehicle['ROLLOVERNAME'].apply(len)\n",
    "max_len = col_len.max()\n",
    "max_len"
   ]
  },
  {
   "cell_type": "code",
   "execution_count": 258,
   "metadata": {},
   "outputs": [
    {
     "data": {
      "text/plain": [
       "21"
      ]
     },
     "execution_count": 258,
     "metadata": {},
     "output_type": "execute_result"
    }
   ],
   "source": [
    "# Mira la longitud máxima de la columna ROLINLOCNAME tipo texto para calcular el VARCHAR que hay que poner al crear la tabla\n",
    "col_len = df_vehicle['ROLINLOCNAME'].apply(len)\n",
    "max_len = col_len.max()\n",
    "max_len"
   ]
  },
  {
   "cell_type": "code",
   "execution_count": 259,
   "metadata": {},
   "outputs": [
    {
     "data": {
      "text/plain": [
       "61"
      ]
     },
     "execution_count": 259,
     "metadata": {},
     "output_type": "execute_result"
    }
   ],
   "source": [
    "# Mira la longitud máxima de la columna IMPACT1NAME tipo texto para calcular el VARCHAR que hay que poner al crear la tabla\n",
    "col_len = df_vehicle['IMPACT1NAME'].apply(len)\n",
    "max_len = col_len.max()\n",
    "max_len"
   ]
  },
  {
   "cell_type": "code",
   "execution_count": 260,
   "metadata": {},
   "outputs": [
    {
     "data": {
      "text/plain": [
       "19"
      ]
     },
     "execution_count": 260,
     "metadata": {},
     "output_type": "execute_result"
    }
   ],
   "source": [
    "# Mira la longitud máxima de la columna TOWEDNAME tipo texto para calcular el VARCHAR que hay que poner al crear la tabla\n",
    "col_len = df_vehicle['TOWEDNAME'].apply(len)\n",
    "max_len = col_len.max()\n",
    "max_len"
   ]
  },
  {
   "cell_type": "code",
   "execution_count": 261,
   "metadata": {},
   "outputs": [
    {
     "data": {
      "text/plain": [
       "133"
      ]
     },
     "execution_count": 261,
     "metadata": {},
     "output_type": "execute_result"
    }
   ],
   "source": [
    "# Mira la longitud máxima de la columna M_HARMNAME tipo texto para calcular el VARCHAR que hay que poner al crear la tabla\n",
    "col_len = df_vehicle['M_HARMNAME'].apply(len)\n",
    "max_len = col_len.max()\n",
    "max_len"
   ]
  },
  {
   "cell_type": "code",
   "execution_count": 262,
   "metadata": {},
   "outputs": [
    {
     "data": {
      "text/plain": [
       "33"
      ]
     },
     "execution_count": 262,
     "metadata": {},
     "output_type": "execute_result"
    }
   ],
   "source": [
    "# Mira la longitud máxima de la columna VSURCONDNAME tipo texto para calcular el VARCHAR que hay que poner al crear la tabla\n",
    "col_len = df_vehicle['VSURCONDNAME'].apply(len)\n",
    "max_len = col_len.max()\n",
    "max_len"
   ]
  },
  {
   "cell_type": "code",
   "execution_count": 263,
   "metadata": {},
   "outputs": [
    {
     "data": {
      "text/plain": [
       "92"
      ]
     },
     "execution_count": 263,
     "metadata": {},
     "output_type": "execute_result"
    }
   ],
   "source": [
    "# Mira la longitud máxima de la columna ACC_TYPENAME tipo texto para calcular el VARCHAR que hay que poner al crear la tabla\n",
    "col_len = df_vehicle['ACC_TYPENAME'].apply(len)\n",
    "max_len = col_len.max()\n",
    "max_len"
   ]
  },
  {
   "cell_type": "code",
   "execution_count": 264,
   "metadata": {},
   "outputs": [
    {
     "data": {
      "text/plain": [
       "32"
      ]
     },
     "execution_count": 264,
     "metadata": {},
     "output_type": "execute_result"
    }
   ],
   "source": [
    "# Mira la longitud máxima de la columna DR_PRESNAME tipo texto para calcular el VARCHAR que hay que poner al crear la tabla\n",
    "col_len = df_vehicle['DR_PRESNAME'].apply(len)\n",
    "max_len = col_len.max()\n",
    "max_len"
   ]
  },
  {
   "cell_type": "code",
   "execution_count": 265,
   "metadata": {},
   "outputs": [
    {
     "data": {
      "text/plain": [
       "63"
      ]
     },
     "execution_count": 265,
     "metadata": {},
     "output_type": "execute_result"
    }
   ],
   "source": [
    "# Mira la longitud máxima de la columna L_COMPLNAME tipo texto para calcular el VARCHAR que hay que poner al crear la tabla\n",
    "col_len = df_vehicle['L_COMPLNAME'].apply(len)\n",
    "max_len = col_len.max()\n",
    "max_len"
   ]
  },
  {
   "cell_type": "code",
   "execution_count": 266,
   "metadata": {},
   "outputs": [
    {
     "data": {
      "text/plain": [
       "43"
      ]
     },
     "execution_count": 266,
     "metadata": {},
     "output_type": "execute_result"
    }
   ],
   "source": [
    "# Mira la longitud máxima de la columna L_RESTRINAME tipo texto para calcular el VARCHAR que hay que poner al crear la tabla\n",
    "col_len = df_vehicle['L_RESTRINAME'].apply(len)\n",
    "max_len = col_len.max()\n",
    "max_len"
   ]
  },
  {
   "cell_type": "code",
   "execution_count": 267,
   "metadata": {},
   "outputs": [
    {
     "data": {
      "text/plain": [
       "43"
      ]
     },
     "execution_count": 267,
     "metadata": {},
     "output_type": "execute_result"
    }
   ],
   "source": [
    "# Mira la longitud máxima de la columna SPEEDRELNAME tipo texto para calcular el VARCHAR que hay que poner al crear la tabla\n",
    "col_len = df_vehicle['SPEEDRELNAME'].apply(len)\n",
    "max_len = col_len.max()\n",
    "max_len"
   ]
  },
  {
   "cell_type": "code",
   "execution_count": 268,
   "metadata": {},
   "outputs": [
    {
     "data": {
      "text/plain": [
       "3"
      ]
     },
     "execution_count": 268,
     "metadata": {},
     "output_type": "execute_result"
    }
   ],
   "source": [
    "# Mira la longitud máxima de la columna HIT_RUNNAME tipo texto para calcular el VARCHAR que hay que poner al crear la tabla\n",
    "col_len = df_vehicle['HIT_RUNNAME'].apply(len)\n",
    "max_len = col_len.max()\n",
    "max_len"
   ]
  },
  {
   "cell_type": "code",
   "execution_count": 269,
   "metadata": {},
   "outputs": [
    {
     "data": {
      "text/plain": [
       "60501"
      ]
     },
     "execution_count": 269,
     "metadata": {},
     "output_type": "execute_result"
    }
   ],
   "source": [
    "# Toma el dataframe df_vehicle y lo mete dentro de la tabla ya creada en MySQL Workbench 'vehicle'\n",
    "df_vehicle.to_sql('vehicle', engine, index=False, if_exists='append')"
   ]
  }
 ],
 "metadata": {
  "kernelspec": {
   "display_name": "final_project",
   "language": "python",
   "name": "python3"
  },
  "language_info": {
   "codemirror_mode": {
    "name": "ipython",
    "version": 3
   },
   "file_extension": ".py",
   "mimetype": "text/x-python",
   "name": "python",
   "nbconvert_exporter": "python",
   "pygments_lexer": "ipython3",
   "version": "3.12.3"
  }
 },
 "nbformat": 4,
 "nbformat_minor": 2
}
