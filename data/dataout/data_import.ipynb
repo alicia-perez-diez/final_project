{
 "cells": [
  {
   "cell_type": "code",
   "execution_count": 1,
   "metadata": {},
   "outputs": [],
   "source": [
    "import pandas as pd\n",
    "import mysql.connector\n",
    "from getpass import getpass\n",
    "from sqlalchemy import create_engine\n",
    "import gdown"
   ]
  },
  {
   "cell_type": "markdown",
   "metadata": {},
   "source": [
    "# Carga de datos en los datasets del database 'final_project' en MySQL Workbench"
   ]
  },
  {
   "cell_type": "markdown",
   "metadata": {},
   "source": [
    "## Actualización del dataset 'accident'"
   ]
  },
  {
   "cell_type": "code",
   "execution_count": 90,
   "metadata": {},
   "outputs": [],
   "source": [
    "# Carga el conjunto de datos del dataset accident\n",
    "url = 'https://drive.google.com/uc?export=download&id=1CBC0qZL6u4awL0Z0hHpjwfKa6w3O6Yp2'\n",
    "\n",
    "try: # Intenta ejecutar las líneas de código dentro de este bloque\n",
    "    df_accident = pd.read_csv(url, encoding='latin1') # Lee el archivo CSV desde la URL especificada, utilizando el codec de caracteres 'latin1'\n",
    "except UnicodeDecodeError as e: # Maneja la excepción UnicodeDecodeError si ocurre\n",
    "    print(f\"Error al decodificar el archivo CSV: {e}\")  # Imprime un mensaje de error indicando el problema específico que ocurrió"
   ]
  },
  {
   "cell_type": "code",
   "execution_count": 91,
   "metadata": {},
   "outputs": [
    {
     "data": {
      "text/plain": [
       "array([1, 2, 3, 5, 4, 6, 8, 9], dtype=int64)"
      ]
     },
     "execution_count": 91,
     "metadata": {},
     "output_type": "execute_result"
    }
   ],
   "source": [
    "df_accident['FATALS'].unique()"
   ]
  },
  {
   "cell_type": "code",
   "execution_count": 92,
   "metadata": {},
   "outputs": [
    {
     "data": {
      "text/html": [
       "<div>\n",
       "<style scoped>\n",
       "    .dataframe tbody tr th:only-of-type {\n",
       "        vertical-align: middle;\n",
       "    }\n",
       "\n",
       "    .dataframe tbody tr th {\n",
       "        vertical-align: top;\n",
       "    }\n",
       "\n",
       "    .dataframe thead th {\n",
       "        text-align: right;\n",
       "    }\n",
       "</style>\n",
       "<table border=\"1\" class=\"dataframe\">\n",
       "  <thead>\n",
       "    <tr style=\"text-align: right;\">\n",
       "      <th></th>\n",
       "      <th>STATE</th>\n",
       "      <th>STATENAME</th>\n",
       "      <th>ST_CASE</th>\n",
       "      <th>PEDS</th>\n",
       "      <th>PERNOTMVIT</th>\n",
       "      <th>VE_TOTAL</th>\n",
       "      <th>VE_FORMS</th>\n",
       "      <th>PVH_INVL</th>\n",
       "      <th>PERSONS</th>\n",
       "      <th>PERMVIT</th>\n",
       "      <th>COUNTY</th>\n",
       "      <th>COUNTYNAME</th>\n",
       "      <th>CITY</th>\n",
       "      <th>CITYNAME</th>\n",
       "      <th>MONTH</th>\n",
       "      <th>MONTHNAME</th>\n",
       "      <th>DAY</th>\n",
       "      <th>DAYNAME</th>\n",
       "      <th>DAY_WEEK</th>\n",
       "      <th>DAY_WEEKNAME</th>\n",
       "      <th>YEAR</th>\n",
       "      <th>HOUR</th>\n",
       "      <th>HOURNAME</th>\n",
       "      <th>MINUTE</th>\n",
       "      <th>MINUTENAME</th>\n",
       "      <th>TWAY_ID</th>\n",
       "      <th>TWAY_ID2</th>\n",
       "      <th>ROUTE</th>\n",
       "      <th>ROUTENAME</th>\n",
       "      <th>RUR_URB</th>\n",
       "      <th>RUR_URBNAME</th>\n",
       "      <th>FUNC_SYS</th>\n",
       "      <th>FUNC_SYSNAME</th>\n",
       "      <th>RD_OWNER</th>\n",
       "      <th>RD_OWNERNAME</th>\n",
       "      <th>NHS</th>\n",
       "      <th>NHSNAME</th>\n",
       "      <th>SP_JUR</th>\n",
       "      <th>SP_JURNAME</th>\n",
       "      <th>MILEPT</th>\n",
       "      <th>MILEPTNAME</th>\n",
       "      <th>LATITUDE</th>\n",
       "      <th>LATITUDENAME</th>\n",
       "      <th>LONGITUD</th>\n",
       "      <th>LONGITUDNAME</th>\n",
       "      <th>HARM_EV</th>\n",
       "      <th>HARM_EVNAME</th>\n",
       "      <th>MAN_COLL</th>\n",
       "      <th>MAN_COLLNAME</th>\n",
       "      <th>RELJCT1</th>\n",
       "      <th>RELJCT1NAME</th>\n",
       "      <th>RELJCT2</th>\n",
       "      <th>RELJCT2NAME</th>\n",
       "      <th>TYP_INT</th>\n",
       "      <th>TYP_INTNAME</th>\n",
       "      <th>REL_ROAD</th>\n",
       "      <th>REL_ROADNAME</th>\n",
       "      <th>WRK_ZONE</th>\n",
       "      <th>WRK_ZONENAME</th>\n",
       "      <th>LGT_COND</th>\n",
       "      <th>LGT_CONDNAME</th>\n",
       "      <th>WEATHER</th>\n",
       "      <th>WEATHERNAME</th>\n",
       "      <th>SCH_BUS</th>\n",
       "      <th>SCH_BUSNAME</th>\n",
       "      <th>RAIL</th>\n",
       "      <th>RAILNAME</th>\n",
       "      <th>NOT_HOUR</th>\n",
       "      <th>NOT_HOURNAME</th>\n",
       "      <th>NOT_MIN</th>\n",
       "      <th>NOT_MINNAME</th>\n",
       "      <th>ARR_HOUR</th>\n",
       "      <th>ARR_HOURNAME</th>\n",
       "      <th>ARR_MIN</th>\n",
       "      <th>ARR_MINNAME</th>\n",
       "      <th>HOSP_HR</th>\n",
       "      <th>HOSP_HRNAME</th>\n",
       "      <th>HOSP_MN</th>\n",
       "      <th>HOSP_MNNAME</th>\n",
       "      <th>FATALS</th>\n",
       "    </tr>\n",
       "  </thead>\n",
       "  <tbody>\n",
       "    <tr>\n",
       "      <th>0</th>\n",
       "      <td>1</td>\n",
       "      <td>Alabama</td>\n",
       "      <td>10001</td>\n",
       "      <td>0</td>\n",
       "      <td>0</td>\n",
       "      <td>2</td>\n",
       "      <td>2</td>\n",
       "      <td>0</td>\n",
       "      <td>3</td>\n",
       "      <td>3</td>\n",
       "      <td>107</td>\n",
       "      <td>PICKENS (107)</td>\n",
       "      <td>0</td>\n",
       "      <td>NOT APPLICABLE</td>\n",
       "      <td>1</td>\n",
       "      <td>January</td>\n",
       "      <td>1</td>\n",
       "      <td>1</td>\n",
       "      <td>7</td>\n",
       "      <td>Saturday</td>\n",
       "      <td>2022</td>\n",
       "      <td>12</td>\n",
       "      <td>12:00pm-12:59pm</td>\n",
       "      <td>30</td>\n",
       "      <td>30</td>\n",
       "      <td>US-82 SR-6</td>\n",
       "      <td>NaN</td>\n",
       "      <td>2</td>\n",
       "      <td>US Highway</td>\n",
       "      <td>1</td>\n",
       "      <td>Rural</td>\n",
       "      <td>3</td>\n",
       "      <td>Principal Arterial - Other</td>\n",
       "      <td>1</td>\n",
       "      <td>State Highway Agency</td>\n",
       "      <td>1</td>\n",
       "      <td>This section IS ON the NHS</td>\n",
       "      <td>0</td>\n",
       "      <td>No Special Jurisdiction</td>\n",
       "      <td>4</td>\n",
       "      <td>4</td>\n",
       "      <td>33.490967</td>\n",
       "      <td>33.490967</td>\n",
       "      <td>-88.274083</td>\n",
       "      <td>-88.274083</td>\n",
       "      <td>12</td>\n",
       "      <td>Motor Vehicle In-Transport</td>\n",
       "      <td>7</td>\n",
       "      <td>Sideswipe - Same Direction</td>\n",
       "      <td>0</td>\n",
       "      <td>No</td>\n",
       "      <td>1</td>\n",
       "      <td>Non-Junction</td>\n",
       "      <td>1</td>\n",
       "      <td>Not an Intersection</td>\n",
       "      <td>1</td>\n",
       "      <td>On Roadway</td>\n",
       "      <td>0</td>\n",
       "      <td>NaN</td>\n",
       "      <td>1</td>\n",
       "      <td>Daylight</td>\n",
       "      <td>1</td>\n",
       "      <td>Clear</td>\n",
       "      <td>0</td>\n",
       "      <td>No</td>\n",
       "      <td>0000000</td>\n",
       "      <td>Not Applicable</td>\n",
       "      <td>12</td>\n",
       "      <td>12:00pm-12:59pm</td>\n",
       "      <td>47</td>\n",
       "      <td>47</td>\n",
       "      <td>13</td>\n",
       "      <td>1:00pm-1:59pm</td>\n",
       "      <td>4</td>\n",
       "      <td>4</td>\n",
       "      <td>13</td>\n",
       "      <td>1:00pm-1:59pm</td>\n",
       "      <td>47</td>\n",
       "      <td>47</td>\n",
       "      <td>1</td>\n",
       "    </tr>\n",
       "  </tbody>\n",
       "</table>\n",
       "</div>"
      ],
      "text/plain": [
       "   STATE STATENAME  ST_CASE  PEDS  PERNOTMVIT  VE_TOTAL  VE_FORMS  PVH_INVL  \\\n",
       "0      1   Alabama    10001     0           0         2         2         0   \n",
       "\n",
       "   PERSONS  PERMVIT  COUNTY     COUNTYNAME  CITY        CITYNAME  MONTH  \\\n",
       "0        3        3     107  PICKENS (107)     0  NOT APPLICABLE      1   \n",
       "\n",
       "  MONTHNAME  DAY  DAYNAME  DAY_WEEK DAY_WEEKNAME  YEAR  HOUR         HOURNAME  \\\n",
       "0   January    1        1         7     Saturday  2022    12  12:00pm-12:59pm   \n",
       "\n",
       "   MINUTE MINUTENAME     TWAY_ID TWAY_ID2  ROUTE   ROUTENAME  RUR_URB  \\\n",
       "0      30         30  US-82 SR-6      NaN      2  US Highway        1   \n",
       "\n",
       "  RUR_URBNAME  FUNC_SYS                FUNC_SYSNAME  RD_OWNER  \\\n",
       "0       Rural         3  Principal Arterial - Other         1   \n",
       "\n",
       "           RD_OWNERNAME  NHS                     NHSNAME  SP_JUR  \\\n",
       "0  State Highway Agency    1  This section IS ON the NHS       0   \n",
       "\n",
       "                SP_JURNAME  MILEPT MILEPTNAME   LATITUDE  LATITUDENAME  \\\n",
       "0  No Special Jurisdiction       4          4  33.490967     33.490967   \n",
       "\n",
       "    LONGITUD  LONGITUDNAME  HARM_EV                 HARM_EVNAME  MAN_COLL  \\\n",
       "0 -88.274083    -88.274083       12  Motor Vehicle In-Transport         7   \n",
       "\n",
       "                 MAN_COLLNAME  RELJCT1 RELJCT1NAME  RELJCT2   RELJCT2NAME  \\\n",
       "0  Sideswipe - Same Direction        0          No        1  Non-Junction   \n",
       "\n",
       "   TYP_INT          TYP_INTNAME  REL_ROAD REL_ROADNAME  WRK_ZONE WRK_ZONENAME  \\\n",
       "0        1  Not an Intersection         1   On Roadway         0          NaN   \n",
       "\n",
       "   LGT_COND LGT_CONDNAME  WEATHER WEATHERNAME  SCH_BUS SCH_BUSNAME     RAIL  \\\n",
       "0         1     Daylight        1       Clear        0          No  0000000   \n",
       "\n",
       "         RAILNAME  NOT_HOUR     NOT_HOURNAME  NOT_MIN NOT_MINNAME  ARR_HOUR  \\\n",
       "0  Not Applicable        12  12:00pm-12:59pm       47          47        13   \n",
       "\n",
       "    ARR_HOURNAME  ARR_MIN ARR_MINNAME  HOSP_HR    HOSP_HRNAME  HOSP_MN  \\\n",
       "0  1:00pm-1:59pm        4           4       13  1:00pm-1:59pm       47   \n",
       "\n",
       "  HOSP_MNNAME  FATALS  \n",
       "0          47       1  "
      ]
     },
     "execution_count": 92,
     "metadata": {},
     "output_type": "execute_result"
    }
   ],
   "source": [
    "# Imprime el dataframe y fuerza para que se muestren todas las columnas\n",
    "pd.set_option('display.max_columns', None)\n",
    "df_accident.head(1)"
   ]
  },
  {
   "cell_type": "code",
   "execution_count": 93,
   "metadata": {},
   "outputs": [
    {
     "data": {
      "text/plain": [
       "array([1, 2, 3, 5, 4, 6, 8, 9], dtype=int64)"
      ]
     },
     "execution_count": 93,
     "metadata": {},
     "output_type": "execute_result"
    }
   ],
   "source": [
    "df_accident['FATALS'].unique()"
   ]
  },
  {
   "cell_type": "code",
   "execution_count": 94,
   "metadata": {},
   "outputs": [],
   "source": [
    "# Elimina las 47 columnas que no se necesitan\n",
    "columns_to_drop = ['PEDS', 'VE_FORMS', 'MONTHNAME', 'DAYNAME', 'DAY_WEEKNAME', 'HOURNAME', 'MINUTENAME', 'TWAY_ID', 'TWAY_ID2', 'ROUTE', 'ROUTENAME', 'FUNC_SYS', 'FUNC_SYSNAME', 'NHS', 'NHSNAME', 'SP_JUR',\\\n",
    "                   'SP_JURNAME', 'MILEPT', 'MILEPTNAME', 'LATITUDENAME', 'LONGITUDNAME', 'MAN_COLLNAME', 'MAN_COLL', 'RELJCT1', 'RELJCT1NAME', 'RELJCT2', 'RELJCT2NAME', 'TYP_INT', 'TYP_INTNAME', 'REL_ROAD',\\\n",
    "                    'REL_ROADNAME', 'WRK_ZONE', 'WRK_ZONENAME', 'LGT_COND', 'LGT_CONDNAME', 'WEATHER', 'WEATHERNAME', 'SCH_BUS', 'SCH_BUSNAME', 'RAIL', 'RAILNAME', 'NOT_HOURNAME', 'NOT_MINNAME', 'ARR_HOURNAME',\\\n",
    "                        'ARR_MINNAME', 'HOSP_HRNAME', 'HOSP_MNNAME']\n",
    "df_accident = df_accident.drop(columns=columns_to_drop)"
   ]
  },
  {
   "cell_type": "code",
   "execution_count": 95,
   "metadata": {},
   "outputs": [],
   "source": [
    "# Reordena las columnas para que tengan el mismo orden que en la tabla creada en MySQL Workbench\n",
    "new_column_order = ['ST_CASE', 'YEAR', 'MONTH', 'DAY', 'DAY_WEEK', 'HOUR', 'MINUTE', 'LATITUDE', 'LONGITUD', 'STATE', 'STATENAME', 'COUNTY', 'COUNTYNAME', 'CITY', 'CITYNAME', 'RUR_URB', 'RUR_URBNAME',\\\n",
    "      'RD_OWNER', 'RD_OWNERNAME', 'PERSONS', 'PERMVIT', 'PERNOTMVIT', 'VE_TOTAL', 'PVH_INVL', 'HARM_EV', 'HARM_EVNAME', 'FATALS', 'NOT_HOUR', 'NOT_MIN', 'ARR_HOUR', 'ARR_MIN', 'HOSP_HR', 'HOSP_MN']"
   ]
  },
  {
   "cell_type": "code",
   "execution_count": 96,
   "metadata": {},
   "outputs": [],
   "source": [
    "# Actualiza el dataframe con el nuevo orden\n",
    "df_accident = df_accident[new_column_order]"
   ]
  },
  {
   "cell_type": "code",
   "execution_count": 97,
   "metadata": {},
   "outputs": [
    {
     "data": {
      "text/plain": [
       "20"
      ]
     },
     "execution_count": 97,
     "metadata": {},
     "output_type": "execute_result"
    }
   ],
   "source": [
    "# Mira la longitud máxima de la columna STATENAME tipo texto para calcular el VARCHAR que hay que poner al crear la tabla\n",
    "col_len = df_accident['STATENAME'].apply(len)\n",
    "max_len = col_len.max()\n",
    "max_len"
   ]
  },
  {
   "cell_type": "code",
   "execution_count": 98,
   "metadata": {},
   "outputs": [
    {
     "data": {
      "text/plain": [
       "28"
      ]
     },
     "execution_count": 98,
     "metadata": {},
     "output_type": "execute_result"
    }
   ],
   "source": [
    "# Mira la longitud máxima de la columna COUNTYNAME tipo texto para calcular el VARCHAR que hay que poner al crear la tabla\n",
    "col_len = df_accident['COUNTYNAME'].apply(len)\n",
    "max_len = col_len.max()\n",
    "max_len"
   ]
  },
  {
   "cell_type": "code",
   "execution_count": 99,
   "metadata": {},
   "outputs": [
    {
     "data": {
      "text/plain": [
       "39"
      ]
     },
     "execution_count": 99,
     "metadata": {},
     "output_type": "execute_result"
    }
   ],
   "source": [
    "# Mira la longitud máxima de la columna CITYNAME tipo texto para calcular el VARCHAR que hay que poner al crear la tabla\n",
    "col_len = df_accident['CITYNAME'].apply(len)\n",
    "max_len = col_len.max()\n",
    "max_len"
   ]
  },
  {
   "cell_type": "code",
   "execution_count": 100,
   "metadata": {},
   "outputs": [
    {
     "data": {
      "text/plain": [
       "33"
      ]
     },
     "execution_count": 100,
     "metadata": {},
     "output_type": "execute_result"
    }
   ],
   "source": [
    "# Mira la longitud máxima de la columna RUR_URBNAME tipo texto para calcular el VARCHAR que hay que poner al crear la tabla\n",
    "col_len = df_accident['RUR_URBNAME'].apply(len)\n",
    "max_len = col_len.max()\n",
    "max_len"
   ]
  },
  {
   "cell_type": "code",
   "execution_count": 101,
   "metadata": {},
   "outputs": [
    {
     "data": {
      "text/plain": [
       "44"
      ]
     },
     "execution_count": 101,
     "metadata": {},
     "output_type": "execute_result"
    }
   ],
   "source": [
    "# Mira la longitud máxima de la columna RD_OWNERNAME tipo texto para calcular el VARCHAR que hay que poner al crear la tabla\n",
    "col_len = df_accident['RD_OWNERNAME'].apply(len)\n",
    "max_len = col_len.max()\n",
    "max_len"
   ]
  },
  {
   "cell_type": "code",
   "execution_count": 102,
   "metadata": {},
   "outputs": [
    {
     "data": {
      "text/plain": [
       "133"
      ]
     },
     "execution_count": 102,
     "metadata": {},
     "output_type": "execute_result"
    }
   ],
   "source": [
    "# Mira la longitud máxima de la columna HARM_EVNAME tipo texto para calcular el VARCHAR que hay que poner al crear la tabla\n",
    "col_len = df_accident['HARM_EVNAME'].apply(len)\n",
    "max_len = col_len.max()\n",
    "max_len"
   ]
  },
  {
   "cell_type": "code",
   "execution_count": 103,
   "metadata": {},
   "outputs": [],
   "source": [
    "df_accident = df_accident.reset_index()"
   ]
  },
  {
   "cell_type": "code",
   "execution_count": 104,
   "metadata": {},
   "outputs": [],
   "source": [
    "df_accident = df_accident.rename(columns={'index':'ID'})"
   ]
  },
  {
   "cell_type": "code",
   "execution_count": 106,
   "metadata": {},
   "outputs": [
    {
     "data": {
      "text/plain": [
       "(39221, 34)"
      ]
     },
     "execution_count": 106,
     "metadata": {},
     "output_type": "execute_result"
    }
   ],
   "source": [
    "df_accident.shape"
   ]
  },
  {
   "cell_type": "code",
   "execution_count": 19,
   "metadata": {},
   "outputs": [],
   "source": [
    "# Datos para conectar MySQL\n",
    "host = '127.0.0.1'  # La dirección IP de la máquina\n",
    "database = 'final_project'  # El nombre de la base de datos\n",
    "user = 'root'  # El nombre de usuario predeterminado de MySQL\n",
    "port = '3306'\n",
    "password = getpass(\"Introduce tu contraseña de MySQL: \")  # Solicita la contraseña de manera segura"
   ]
  },
  {
   "cell_type": "code",
   "execution_count": 20,
   "metadata": {},
   "outputs": [],
   "source": [
    "# Crea la conexión a la base de datos MySQL utilizando la bublioteca SQLAlchemy\n",
    "engine = create_engine(f'mysql+mysqlconnector://{user}:{password}@{host}:{port}/{database}')"
   ]
  },
  {
   "cell_type": "code",
   "execution_count": 21,
   "metadata": {},
   "outputs": [
    {
     "ename": "NameError",
     "evalue": "name 'df_accident' is not defined",
     "output_type": "error",
     "traceback": [
      "\u001b[1;31m---------------------------------------------------------------------------\u001b[0m",
      "\u001b[1;31mNameError\u001b[0m                                 Traceback (most recent call last)",
      "Cell \u001b[1;32mIn[21], line 2\u001b[0m\n\u001b[0;32m      1\u001b[0m \u001b[38;5;66;03m# Toma el dataframe df y lo mete dentro de la tabla ya creada en MySQL Workbench 'accident'\u001b[39;00m\n\u001b[1;32m----> 2\u001b[0m \u001b[43mdf_accident\u001b[49m\u001b[38;5;241m.\u001b[39mto_sql(\u001b[38;5;124m'\u001b[39m\u001b[38;5;124maccident\u001b[39m\u001b[38;5;124m'\u001b[39m, engine, index\u001b[38;5;241m=\u001b[39m\u001b[38;5;28;01mFalse\u001b[39;00m, if_exists\u001b[38;5;241m=\u001b[39m\u001b[38;5;124m'\u001b[39m\u001b[38;5;124mappend\u001b[39m\u001b[38;5;124m'\u001b[39m)\n",
      "\u001b[1;31mNameError\u001b[0m: name 'df_accident' is not defined"
     ]
    }
   ],
   "source": [
    "# Toma el dataframe df y lo mete dentro de la tabla ya creada en MySQL Workbench 'accident'\n",
    "df_accident.to_sql('accident', engine, index=False, if_exists='append')"
   ]
  },
  {
   "cell_type": "code",
   "execution_count": 242,
   "metadata": {},
   "outputs": [],
   "source": [
    "df_accident_2 = pd.read_sql('SELECT * from final_project.accident', con=engine,dtype='object')"
   ]
  },
  {
   "cell_type": "code",
   "execution_count": 244,
   "metadata": {},
   "outputs": [
    {
     "data": {
      "text/plain": [
       "ID                         0\n",
       "ST_CASE                    0\n",
       "YEAR                       0\n",
       "MONTH                      0\n",
       "DAY                        0\n",
       "DAY_WEEK                   0\n",
       "HOUR                       0\n",
       "MINUTE                     0\n",
       "LATITUDE                   0\n",
       "LONGITUD                   0\n",
       "STATE                      0\n",
       "STATENAME                  0\n",
       "COUNTY                     0\n",
       "COUNTYNAME                 0\n",
       "CITY                       0\n",
       "CITYNAME                   0\n",
       "RUR_URB                    0\n",
       "RUR_URBNAME                0\n",
       "RD_OWNER                   0\n",
       "RD_OWNERNAME               0\n",
       "PERSONS                    0\n",
       "PERSONS_IN_VEHICLES        0\n",
       "PERSONS_NOT_IN_VEHICLES    0\n",
       "TOTAL_VEHICLES             0\n",
       "PARKED_VEHICLES            0\n",
       "HARMFUL_EVENT              0\n",
       "HARMFUL_EVENT_NAME         0\n",
       "FATALS                     0\n",
       "NOT_HOUR                   0\n",
       "NOT_MIN                    0\n",
       "ARR_HOUR                   0\n",
       "ARR_MIN                    0\n",
       "HOSP_HR                    0\n",
       "HOSP_MN                    0\n",
       "dtype: int64"
      ]
     },
     "execution_count": 244,
     "metadata": {},
     "output_type": "execute_result"
    }
   ],
   "source": [
    "df_accident_2.isnull().sum()"
   ]
  },
  {
   "cell_type": "markdown",
   "metadata": {},
   "source": [
    "## Actualización del dataset 'drugs'"
   ]
  },
  {
   "cell_type": "code",
   "execution_count": 10,
   "metadata": {},
   "outputs": [],
   "source": [
    "# Cargo el conjunto de datos del datset drugs\n",
    "url = 'https://drive.google.com/uc?export=download&id=1jZbIeYuG1WVbM9VQZ7CGd5Zwo89pbnZy'\n",
    "\n",
    "try: # Intenta ejecutar las líneas de código dentro de este bloque\n",
    "    df_drugs = pd.read_csv(url, encoding='latin1') # Lee el archivo CSV desde la URL especificada, utilizando el codec de caracteres 'latin1'\n",
    "except UnicodeDecodeError as e: # Maneja la excepción UnicodeDecodeError si ocurre\n",
    "    print(f\"Error al decodificar el archivo CSV: {e}\")  # Imprime un mensaje de error indicando el problema específico que ocurrió"
   ]
  },
  {
   "cell_type": "code",
   "execution_count": 11,
   "metadata": {},
   "outputs": [],
   "source": [
    "# Elimina las columnas que no se necesitan\n",
    "columns_to_drop = ['STATE', 'STATENAME', 'DRUGSPEC', 'DRUGSPECNAME']\n",
    "df_drugs = df_drugs.drop(columns=columns_to_drop)"
   ]
  },
  {
   "cell_type": "code",
   "execution_count": 12,
   "metadata": {},
   "outputs": [
    {
     "data": {
      "text/plain": [
       "100"
      ]
     },
     "execution_count": 12,
     "metadata": {},
     "output_type": "execute_result"
    }
   ],
   "source": [
    "# Mira la longitud máxima de la columna DRUGRESNAME tipo texto para calcular el VARCHAR que hay que poner al crear la tabla\n",
    "col_len = df_drugs['DRUGRESNAME'].apply(len)\n",
    "max_len = col_len.max()\n",
    "max_len"
   ]
  },
  {
   "cell_type": "code",
   "execution_count": 13,
   "metadata": {},
   "outputs": [],
   "source": [
    "# Reordena las columnas para que tengan el mismo orden que en la tabla creada en MySQL Workbench\n",
    "new_column_order = ['ST_CASE', 'DRUGRES', 'DRUGRESNAME', 'VEH_NO', 'PER_NO']"
   ]
  },
  {
   "cell_type": "code",
   "execution_count": 14,
   "metadata": {},
   "outputs": [],
   "source": [
    "# Actualiza el dataframe con el nuevo orden\n",
    "df_drugs = df_drugs[new_column_order]"
   ]
  },
  {
   "cell_type": "code",
   "execution_count": 23,
   "metadata": {},
   "outputs": [
    {
     "data": {
      "text/plain": [
       "120146"
      ]
     },
     "execution_count": 23,
     "metadata": {},
     "output_type": "execute_result"
    }
   ],
   "source": [
    "# Toma el dataframe df_drugs y lo mete dentro de la tabla ya creada en MySQL Workbench 'drugs'\n",
    "df_drugs.to_sql('drugs', engine, index=False, if_exists='append')"
   ]
  },
  {
   "cell_type": "markdown",
   "metadata": {},
   "source": [
    "## Actualización del dataset 'maneuver'"
   ]
  },
  {
   "cell_type": "code",
   "execution_count": 135,
   "metadata": {},
   "outputs": [],
   "source": [
    "# Cargo el conjunto de datos del datset maneuver\n",
    "url = 'https://drive.google.com/uc?export=download&id=19FA4MUdhZwV2fIpZPWX73RQZS1xdnxpv'\n",
    "\n",
    "try: # Intenta ejecutar las líneas de código dentro de este bloque\n",
    "    df_maneuver = pd.read_csv(url, encoding='latin1') # Lee el archivo CSV desde la URL especificada, utilizando el codec de caracteres 'latin1'\n",
    "except UnicodeDecodeError as e: # Maneja la excepción UnicodeDecodeError si ocurre\n",
    "    print(f\"Error al decodificar el archivo CSV: {e}\")  # Imprime un mensaje de error indicando el problema específico que ocurrió"
   ]
  },
  {
   "cell_type": "code",
   "execution_count": 136,
   "metadata": {},
   "outputs": [],
   "source": [
    "# Elimina las columnas que no se necesitan\n",
    "columns_to_drop = ['STATE', 'STATENAME']\n",
    "df_maneuver = df_maneuver.drop(columns=columns_to_drop)"
   ]
  },
  {
   "cell_type": "code",
   "execution_count": 137,
   "metadata": {},
   "outputs": [
    {
     "data": {
      "text/plain": [
       "49"
      ]
     },
     "execution_count": 137,
     "metadata": {},
     "output_type": "execute_result"
    }
   ],
   "source": [
    "# Mira la longitud máxima de la columna MANEUVERNAME tipo texto para calcular el VARCHAR que hay que poner al crear la tabla\n",
    "col_len = df_maneuver['MANEUVERNAME'].apply(len)\n",
    "max_len = col_len.max()\n",
    "max_len"
   ]
  },
  {
   "cell_type": "code",
   "execution_count": 138,
   "metadata": {},
   "outputs": [],
   "source": [
    "# Reordena las columnas para que tengan el mismo orden que en la tabla creada en MySQL Workbench\n",
    "new_column_order = ['ST_CASE', 'MANEUVER', 'MANEUVERNAME', 'VEH_NO']"
   ]
  },
  {
   "cell_type": "code",
   "execution_count": 139,
   "metadata": {},
   "outputs": [],
   "source": [
    "# Actualiza el dataframe con el nuevo orden\n",
    "df_maneuver = df_maneuver[new_column_order]"
   ]
  },
  {
   "cell_type": "code",
   "execution_count": 140,
   "metadata": {},
   "outputs": [
    {
     "data": {
      "text/plain": [
       "60513"
      ]
     },
     "execution_count": 140,
     "metadata": {},
     "output_type": "execute_result"
    }
   ],
   "source": [
    "# Toma el dataframe df_maneuver y lo mete dentro de la tabla ya creada en MySQL Workbench 'maneuver'\n",
    "df_maneuver.to_sql('maneuver', engine, index=False, if_exists='append')"
   ]
  },
  {
   "cell_type": "markdown",
   "metadata": {},
   "source": [
    "## Actualización del dataset 'distract'"
   ]
  },
  {
   "cell_type": "code",
   "execution_count": 141,
   "metadata": {},
   "outputs": [],
   "source": [
    "# Cargo el conjunto de datos del datset distract\n",
    "url = 'https://drive.google.com/uc?export=download&id=1CG2v4hqWkmvGtN1pnXJOXfiq0T94PPe9'\n",
    "\n",
    "try: # Intenta ejecutar las líneas de código dentro de este bloque\n",
    "    df_distract = pd.read_csv(url, encoding='latin1') # Lee el archivo CSV desde la URL especificada, utilizando el codec de caracteres 'latin1'\n",
    "except UnicodeDecodeError as e: # Maneja la excepción UnicodeDecodeError si ocurre\n",
    "    print(f\"Error al decodificar el archivo CSV: {e}\")  # Imprime un mensaje de error indicando el problema específico que ocurrió"
   ]
  },
  {
   "cell_type": "code",
   "execution_count": 142,
   "metadata": {},
   "outputs": [],
   "source": [
    "# Elimina las columnas que no se necesitan\n",
    "columns_to_drop = ['STATE', 'STATENAME']\n",
    "df_distract = df_distract.drop(columns=columns_to_drop)"
   ]
  },
  {
   "cell_type": "code",
   "execution_count": 143,
   "metadata": {},
   "outputs": [
    {
     "data": {
      "text/plain": [
       "62"
      ]
     },
     "execution_count": 143,
     "metadata": {},
     "output_type": "execute_result"
    }
   ],
   "source": [
    "# Mira la longitud máxima de la columna MANEUVERNAME tipo texto para calcular el VARCHAR que hay que poner al crear la tabla\n",
    "col_len = df_distract['DRDISTRACTNAME'].apply(len)\n",
    "max_len = col_len.max()\n",
    "max_len"
   ]
  },
  {
   "cell_type": "code",
   "execution_count": 144,
   "metadata": {},
   "outputs": [],
   "source": [
    "# Reordena las columnas para que tengan el mismo orden que en la tabla creada en MySQL Workbench\n",
    "new_column_order = ['ST_CASE', 'DRDISTRACT', 'DRDISTRACTNAME', 'VEH_NO']"
   ]
  },
  {
   "cell_type": "code",
   "execution_count": 145,
   "metadata": {},
   "outputs": [],
   "source": [
    "# Actualiza el dataframe con el nuevo orden\n",
    "df_distract = df_distract[new_column_order]"
   ]
  },
  {
   "cell_type": "code",
   "execution_count": 146,
   "metadata": {},
   "outputs": [
    {
     "data": {
      "text/plain": [
       "60525"
      ]
     },
     "execution_count": 146,
     "metadata": {},
     "output_type": "execute_result"
    }
   ],
   "source": [
    "# Toma el dataframe df_distract y lo mete dentro de la tabla ya creada en MySQL Workbench 'distract'\n",
    "df_distract.to_sql('distract', engine, index=False, if_exists='append')"
   ]
  },
  {
   "cell_type": "markdown",
   "metadata": {},
   "source": [
    "## Actualización del dataset 'weather'"
   ]
  },
  {
   "cell_type": "code",
   "execution_count": 147,
   "metadata": {},
   "outputs": [],
   "source": [
    "# Cargo el conjunto de datos del datset weather\n",
    "url = 'https://drive.google.com/uc?export=download&id=1BKpyfiwu4f_V7IdK6jo3c8nDH5ca5FQM'\n",
    "\n",
    "try: # Intenta ejecutar las líneas de código dentro de este bloque\n",
    "    df_weather = pd.read_csv(url, encoding='latin1') # Lee el archivo CSV desde la URL especificada, utilizando el codec de caracteres 'latin1'\n",
    "except UnicodeDecodeError as e: # Maneja la excepción UnicodeDecodeError si ocurre\n",
    "    print(f\"Error al decodificar el archivo CSV: {e}\")  # Imprime un mensaje de error indicando el problema específico que ocurrió"
   ]
  },
  {
   "cell_type": "code",
   "execution_count": 148,
   "metadata": {},
   "outputs": [],
   "source": [
    "# Elimina las columnas que no se necesitan\n",
    "columns_to_drop = ['STATE', 'STATENAME']\n",
    "df_weather = df_weather.drop(columns=columns_to_drop)"
   ]
  },
  {
   "cell_type": "code",
   "execution_count": 149,
   "metadata": {},
   "outputs": [
    {
     "data": {
      "text/plain": [
       "24"
      ]
     },
     "execution_count": 149,
     "metadata": {},
     "output_type": "execute_result"
    }
   ],
   "source": [
    "# Mira la longitud máxima de la columna WEATHERNAME tipo texto para calcular el VARCHAR que hay que poner al crear la tabla\n",
    "col_len = df_weather['WEATHERNAME'].apply(len)\n",
    "max_len = col_len.max()\n",
    "max_len"
   ]
  },
  {
   "cell_type": "code",
   "execution_count": 150,
   "metadata": {},
   "outputs": [
    {
     "data": {
      "text/plain": [
       "39644"
      ]
     },
     "execution_count": 150,
     "metadata": {},
     "output_type": "execute_result"
    }
   ],
   "source": [
    "# Toma el dataframe df_distract y lo mete dentro de la tabla ya creada en MySQL Workbench 'distract'\n",
    "df_weather.to_sql('weather', engine, index=False, if_exists='append')"
   ]
  },
  {
   "cell_type": "markdown",
   "metadata": {},
   "source": [
    "## Actualización del dataset 'person'"
   ]
  },
  {
   "cell_type": "code",
   "execution_count": 74,
   "metadata": {},
   "outputs": [
    {
     "name": "stderr",
     "output_type": "stream",
     "text": [
      "Downloading...\n",
      "From (original): https://drive.google.com/uc?export=download&id=1rRZEKB6OPGULbJVFhBoQF68TYTjKnreB\n",
      "From (redirected): https://drive.google.com/uc?export=download&id=1rRZEKB6OPGULbJVFhBoQF68TYTjKnreB&confirm=t&uuid=976d8f2b-dbf2-45c5-823d-4e0980304177\n",
      "To: c:\\Users\\perez\\OneDrive\\Documentos\\GitHub\\Proyectos\\final_project\\final_project\\data\\datain\\person.csv\n",
      "100%|██████████| 116M/116M [00:03<00:00, 37.1MB/s] \n"
     ]
    },
    {
     "name": "stdout",
     "output_type": "stream",
     "text": [
      "   STATE STATENAME  ST_CASE  VEH_NO  PER_NO  VE_FORMS  COUNTY  MONTH  \\\n",
      "0      1   Alabama    10001       1       1         2     107      1   \n",
      "1      1   Alabama    10001       2       1         2     107      1   \n",
      "2      1   Alabama    10001       2       2         2     107      1   \n",
      "3      1   Alabama    10002       1       1         2     101      1   \n",
      "4      1   Alabama    10002       2       1         2     101      1   \n",
      "\n",
      "  MONTHNAME  DAY  ...  IMPACT1     IMPACT1NAME FIRE_EXP        FIRE_EXPNAME  \\\n",
      "0   January    1  ...     81.0           Right      0.0  No or Not Reported   \n",
      "1   January    1  ...      7.0   7 Clock Point      0.0  No or Not Reported   \n",
      "2   January    1  ...      7.0   7 Clock Point      0.0  No or Not Reported   \n",
      "3   January    1  ...     12.0  12 Clock Point      0.0  No or Not Reported   \n",
      "4   January    1  ...     12.0  12 Clock Point      0.0  No or Not Reported   \n",
      "\n",
      "   MAK_MOD                                        MAK_MODNAME DEVTYPENAME  \\\n",
      "0   2403.0  Jeep / Kaiser-Jeep / Willys- Jeep YJ series/Wr...         NaN   \n",
      "1  55402.0                                     Hyundai Tucson         NaN   \n",
      "2  55402.0                                     Hyundai Tucson         NaN   \n",
      "3  55035.0                                    Hyundai Elantra         NaN   \n",
      "4  37402.0                                         Honda CR-V         NaN   \n",
      "\n",
      "   DEVMOTORNAME DEVTYPE  DEVMOTOR  \n",
      "0           NaN     NaN       NaN  \n",
      "1           NaN     NaN       NaN  \n",
      "2           NaN     NaN       NaN  \n",
      "3           NaN     NaN       NaN  \n",
      "4           NaN     NaN       NaN  \n",
      "\n",
      "[5 rows x 126 columns]\n"
     ]
    },
    {
     "name": "stderr",
     "output_type": "stream",
     "text": [
      "C:\\Users\\perez\\AppData\\Local\\Temp\\ipykernel_30332\\2135696628.py:13: DtypeWarning: Columns (14) have mixed types. Specify dtype option on import or set low_memory=False.\n",
      "  df_person = pd.read_csv(output, encoding='latin1')\n"
     ]
    }
   ],
   "source": [
    "# id del archivo en Google Drive\n",
    "file_id = '1rRZEKB6OPGULbJVFhBoQF68TYTjKnreB'\n",
    "\n",
    "# Construye la url para la descarga de datos\n",
    "url = f'https://drive.google.com/uc?export=download&id={file_id}'\n",
    "\n",
    "# Descarga el archivo con gdown\n",
    "output = '../data/datain/person.csv'  # Especifica el camino donde quieres que se guarde el archivo\n",
    "gdown.download(url, output, quiet=False)\n",
    "\n",
    "# Lee el csv descargado en un dataframe\n",
    "try:\n",
    "    df_person = pd.read_csv(output, encoding='latin1')\n",
    "    print(df_person.head())  # Muestra las primeras filas del dataframe\n",
    "except UnicodeDecodeError as e:\n",
    "    # Gestiona Unicode error si sucede\n",
    "    print(f\"Error decoding the CSV file: {e}\")"
   ]
  },
  {
   "cell_type": "code",
   "execution_count": 75,
   "metadata": {},
   "outputs": [],
   "source": [
    "# Elimina las columnas que no se necesitan\n",
    "columns_to_drop = ['STATE', 'STATENAME', 'VE_FORMS', 'COUNTY', 'MONTH', 'MONTHNAME', 'DAY', 'DAYNAME', 'HOUR', 'HOURNAME', 'MINUTE', 'MINUTENAME', 'HARM_EV', 'HARM_EVNAME', 'MAN_COLL',\\\n",
    "                   'MAN_COLLNAME', 'SCH_BUS', 'SCH_BUSNAME', 'MOD_YEAR', 'MOD_YEARNAME', 'VPICMAKE', 'VPICMAKENAME', 'VPICMODEL', 'VPICMODELNAME', 'VPICBODYCLASS', 'VPICBODYCLASSNAME',\\\n",
    "                    'MAKE', 'MAKENAME', 'BODY_TYP', 'BODY_TYPNAME', 'ICFINALBODY', 'ICFINALBODYNAME', 'GVWR_FROM', 'GVWR_FROMNAME', 'GVWR_TO', 'GVWR_TONAME', 'TOW_VEH', 'TOW_VEHNAME',\\\n",
    "                        'AGENAME', 'SEX', 'REST_USE', 'REST_USENAME', 'HELM_USE', 'HELM_USENAME', 'EJ_PATH', 'EJ_PATHNAME', 'EXTRICAT', 'EXTRICATNAME', 'ALC_STATUS', 'ALC_STATUSNAME',\\\n",
    "                            'ATST_TYP', 'ATST_TYPNAME', 'ALC_RES', 'ALC_RESNAME', 'DRUGS', 'DRUGSNAME', 'DSTATUS', 'DSTATUSNAME', 'HOSPITAL', 'HOSPITALNAME', 'DOA', 'DOANAME', 'DEATH_DANAME',\\\n",
    "                                'DEATH_MO', 'DEATH_MONAME', 'DEATH_YR', 'DEATH_YRNAME', 'DEATH_HR', 'DEATH_HRNAME', 'DEATH_MN', 'DEATH_MNNAME', 'DEATH_TM', 'DEATH_TMNAME', 'LAG_HRS',\\\n",
    "                                    'LAG_HRSNAME', 'LAG_MINS', 'LAG_MINSNAME', 'HISPANIC', 'HISPANICNAME', 'IMPACT1NAME', 'FIRE_EXP', 'FIRE_EXPNAME', 'MAK_MOD', 'MAK_MODNAME', 'DEVTYPENAME',\\\n",
    "                                          'DEVMOTORNAME', 'DEVTYPE', 'DEVMOTOR', 'LOCATION', 'LOCATIONNAME', 'WORK_INJ', 'WORK_INJNAME', 'RUR_URB', 'RUR_URBNAME', 'FUNC_SYS', 'FUNC_SYSNAME',\\\n",
    "                                            'SPEC_USE', 'SPEC_USENAME', 'EMER_USE', 'EMER_USENAME', 'ROLLOVER', 'ROLLOVERNAME', 'IMPACT1', 'AIR_BAG', 'AIR_BAGNAME', 'EJECTION', 'EJECTIONNAME',\\\n",
    "                                                'STR_VEH']\n",
    "\n",
    "df_person = df_person.drop(columns=columns_to_drop)"
   ]
  },
  {
   "cell_type": "code",
   "execution_count": 76,
   "metadata": {},
   "outputs": [
    {
     "data": {
      "text/plain": [
       "50"
      ]
     },
     "execution_count": 76,
     "metadata": {},
     "output_type": "execute_result"
    }
   ],
   "source": [
    "# Mira la longitud máxima de la columna SEXNAME tipo texto para calcular el VARCHAR que hay que poner al crear la tabla\n",
    "col_len = df_person['SEXNAME'].apply(len)\n",
    "max_len = col_len.max()\n",
    "max_len"
   ]
  },
  {
   "cell_type": "code",
   "execution_count": 77,
   "metadata": {},
   "outputs": [
    {
     "data": {
      "text/plain": [
       "54"
      ]
     },
     "execution_count": 77,
     "metadata": {},
     "output_type": "execute_result"
    }
   ],
   "source": [
    "# Mira la longitud máxima de la columna PER_TYPNAME tipo texto para calcular el VARCHAR que hay que poner al crear la tabla\n",
    "col_len = df_person['PER_TYPNAME'].apply(len)\n",
    "max_len = col_len.max()\n",
    "max_len"
   ]
  },
  {
   "cell_type": "code",
   "execution_count": 78,
   "metadata": {},
   "outputs": [
    {
     "data": {
      "text/plain": [
       "28"
      ]
     },
     "execution_count": 78,
     "metadata": {},
     "output_type": "execute_result"
    }
   ],
   "source": [
    "# Mira la longitud máxima de la columna INJ_SEVNAME tipo texto para calcular el VARCHAR que hay que poner al crear la tabla\n",
    "col_len = df_person['INJ_SEVNAME'].apply(len)\n",
    "max_len = col_len.max()\n",
    "max_len"
   ]
  },
  {
   "cell_type": "code",
   "execution_count": 79,
   "metadata": {},
   "outputs": [
    {
     "data": {
      "text/plain": [
       "75"
      ]
     },
     "execution_count": 79,
     "metadata": {},
     "output_type": "execute_result"
    }
   ],
   "source": [
    "# Mira la longitud máxima de la columna SEAT_POSNAME tipo texto para calcular el VARCHAR que hay que poner al crear la tabla\n",
    "col_len = df_person['SEAT_POSNAME'].apply(len)\n",
    "max_len = col_len.max()\n",
    "max_len"
   ]
  },
  {
   "cell_type": "code",
   "execution_count": 80,
   "metadata": {},
   "outputs": [
    {
     "data": {
      "text/plain": [
       "28"
      ]
     },
     "execution_count": 80,
     "metadata": {},
     "output_type": "execute_result"
    }
   ],
   "source": [
    "# Mira la longitud máxima de la columna REST_MISNAME tipo texto para calcular el VARCHAR que hay que poner al crear la tabla\n",
    "col_len = df_person['REST_MISNAME'].apply(len)\n",
    "max_len = col_len.max()\n",
    "max_len"
   ]
  },
  {
   "cell_type": "code",
   "execution_count": 81,
   "metadata": {},
   "outputs": [
    {
     "data": {
      "text/plain": [
       "28"
      ]
     },
     "execution_count": 81,
     "metadata": {},
     "output_type": "execute_result"
    }
   ],
   "source": [
    "# Mira la longitud máxima de la columna HELM_MISNAME tipo texto para calcular el VARCHAR que hay que poner al crear la tabla\n",
    "col_len = df_person['HELM_MISNAME'].apply(len)\n",
    "max_len = col_len.max()\n",
    "max_len"
   ]
  },
  {
   "cell_type": "code",
   "execution_count": 82,
   "metadata": {},
   "outputs": [
    {
     "data": {
      "text/plain": [
       "25"
      ]
     },
     "execution_count": 82,
     "metadata": {},
     "output_type": "execute_result"
    }
   ],
   "source": [
    "# Mira la longitud máxima de la columna DRINKINGNAME tipo texto para calcular el VARCHAR que hay que poner al crear la tabla\n",
    "col_len = df_person['DRINKINGNAME'].apply(len)\n",
    "max_len = col_len.max()\n",
    "max_len"
   ]
  },
  {
   "cell_type": "code",
   "execution_count": 83,
   "metadata": {},
   "outputs": [
    {
     "data": {
      "text/html": [
       "<div>\n",
       "<style scoped>\n",
       "    .dataframe tbody tr th:only-of-type {\n",
       "        vertical-align: middle;\n",
       "    }\n",
       "\n",
       "    .dataframe tbody tr th {\n",
       "        vertical-align: top;\n",
       "    }\n",
       "\n",
       "    .dataframe thead th {\n",
       "        text-align: right;\n",
       "    }\n",
       "</style>\n",
       "<table border=\"1\" class=\"dataframe\">\n",
       "  <thead>\n",
       "    <tr style=\"text-align: right;\">\n",
       "      <th></th>\n",
       "      <th>ST_CASE</th>\n",
       "      <th>VEH_NO</th>\n",
       "      <th>PER_NO</th>\n",
       "      <th>AGE</th>\n",
       "      <th>SEXNAME</th>\n",
       "      <th>PER_TYP</th>\n",
       "      <th>PER_TYPNAME</th>\n",
       "      <th>INJ_SEV</th>\n",
       "      <th>INJ_SEVNAME</th>\n",
       "      <th>SEAT_POS</th>\n",
       "      <th>SEAT_POSNAME</th>\n",
       "      <th>REST_MIS</th>\n",
       "      <th>REST_MISNAME</th>\n",
       "      <th>HELM_MIS</th>\n",
       "      <th>HELM_MISNAME</th>\n",
       "      <th>DRINKING</th>\n",
       "      <th>DRINKINGNAME</th>\n",
       "      <th>DEATH_DA</th>\n",
       "    </tr>\n",
       "  </thead>\n",
       "  <tbody>\n",
       "    <tr>\n",
       "      <th>0</th>\n",
       "      <td>10001</td>\n",
       "      <td>1</td>\n",
       "      <td>1</td>\n",
       "      <td>37</td>\n",
       "      <td>Male</td>\n",
       "      <td>1</td>\n",
       "      <td>Driver of a Motor Vehicle In-Transport</td>\n",
       "      <td>4</td>\n",
       "      <td>Fatal Injury (K)</td>\n",
       "      <td>11</td>\n",
       "      <td>Front Seat, Left Side</td>\n",
       "      <td>7</td>\n",
       "      <td>None Used/Not Applicable</td>\n",
       "      <td>7</td>\n",
       "      <td>None Used/Not Applicable</td>\n",
       "      <td>0</td>\n",
       "      <td>No (Alcohol Not Involved)</td>\n",
       "      <td>1</td>\n",
       "    </tr>\n",
       "    <tr>\n",
       "      <th>1</th>\n",
       "      <td>10001</td>\n",
       "      <td>2</td>\n",
       "      <td>1</td>\n",
       "      <td>58</td>\n",
       "      <td>Female</td>\n",
       "      <td>1</td>\n",
       "      <td>Driver of a Motor Vehicle In-Transport</td>\n",
       "      <td>0</td>\n",
       "      <td>No Apparent Injury (O)</td>\n",
       "      <td>11</td>\n",
       "      <td>Front Seat, Left Side</td>\n",
       "      <td>0</td>\n",
       "      <td>No Indication of Misuse</td>\n",
       "      <td>7</td>\n",
       "      <td>None Used/Not Applicable</td>\n",
       "      <td>0</td>\n",
       "      <td>No (Alcohol Not Involved)</td>\n",
       "      <td>88</td>\n",
       "    </tr>\n",
       "    <tr>\n",
       "      <th>2</th>\n",
       "      <td>10001</td>\n",
       "      <td>2</td>\n",
       "      <td>2</td>\n",
       "      <td>60</td>\n",
       "      <td>Female</td>\n",
       "      <td>2</td>\n",
       "      <td>Passenger of a Motor Vehicle In-Transport</td>\n",
       "      <td>0</td>\n",
       "      <td>No Apparent Injury (O)</td>\n",
       "      <td>13</td>\n",
       "      <td>Front Seat, Right Side</td>\n",
       "      <td>0</td>\n",
       "      <td>No Indication of Misuse</td>\n",
       "      <td>7</td>\n",
       "      <td>None Used/Not Applicable</td>\n",
       "      <td>8</td>\n",
       "      <td>Not Reported</td>\n",
       "      <td>88</td>\n",
       "    </tr>\n",
       "    <tr>\n",
       "      <th>3</th>\n",
       "      <td>10002</td>\n",
       "      <td>1</td>\n",
       "      <td>1</td>\n",
       "      <td>57</td>\n",
       "      <td>Female</td>\n",
       "      <td>1</td>\n",
       "      <td>Driver of a Motor Vehicle In-Transport</td>\n",
       "      <td>4</td>\n",
       "      <td>Fatal Injury (K)</td>\n",
       "      <td>11</td>\n",
       "      <td>Front Seat, Left Side</td>\n",
       "      <td>0</td>\n",
       "      <td>No Indication of Misuse</td>\n",
       "      <td>7</td>\n",
       "      <td>None Used/Not Applicable</td>\n",
       "      <td>9</td>\n",
       "      <td>Reported as Unknown</td>\n",
       "      <td>1</td>\n",
       "    </tr>\n",
       "    <tr>\n",
       "      <th>4</th>\n",
       "      <td>10002</td>\n",
       "      <td>2</td>\n",
       "      <td>1</td>\n",
       "      <td>55</td>\n",
       "      <td>Male</td>\n",
       "      <td>1</td>\n",
       "      <td>Driver of a Motor Vehicle In-Transport</td>\n",
       "      <td>4</td>\n",
       "      <td>Fatal Injury (K)</td>\n",
       "      <td>11</td>\n",
       "      <td>Front Seat, Left Side</td>\n",
       "      <td>0</td>\n",
       "      <td>No Indication of Misuse</td>\n",
       "      <td>7</td>\n",
       "      <td>None Used/Not Applicable</td>\n",
       "      <td>9</td>\n",
       "      <td>Reported as Unknown</td>\n",
       "      <td>1</td>\n",
       "    </tr>\n",
       "    <tr>\n",
       "      <th>...</th>\n",
       "      <td>...</td>\n",
       "      <td>...</td>\n",
       "      <td>...</td>\n",
       "      <td>...</td>\n",
       "      <td>...</td>\n",
       "      <td>...</td>\n",
       "      <td>...</td>\n",
       "      <td>...</td>\n",
       "      <td>...</td>\n",
       "      <td>...</td>\n",
       "      <td>...</td>\n",
       "      <td>...</td>\n",
       "      <td>...</td>\n",
       "      <td>...</td>\n",
       "      <td>...</td>\n",
       "      <td>...</td>\n",
       "      <td>...</td>\n",
       "      <td>...</td>\n",
       "    </tr>\n",
       "    <tr>\n",
       "      <th>95752</th>\n",
       "      <td>560117</td>\n",
       "      <td>1</td>\n",
       "      <td>1</td>\n",
       "      <td>43</td>\n",
       "      <td>Male</td>\n",
       "      <td>1</td>\n",
       "      <td>Driver of a Motor Vehicle In-Transport</td>\n",
       "      <td>4</td>\n",
       "      <td>Fatal Injury (K)</td>\n",
       "      <td>11</td>\n",
       "      <td>Front Seat, Left Side</td>\n",
       "      <td>7</td>\n",
       "      <td>None Used/Not Applicable</td>\n",
       "      <td>7</td>\n",
       "      <td>None Used/Not Applicable</td>\n",
       "      <td>1</td>\n",
       "      <td>Yes (Alcohol Involved)</td>\n",
       "      <td>22</td>\n",
       "    </tr>\n",
       "    <tr>\n",
       "      <th>95753</th>\n",
       "      <td>560118</td>\n",
       "      <td>1</td>\n",
       "      <td>1</td>\n",
       "      <td>30</td>\n",
       "      <td>Male</td>\n",
       "      <td>1</td>\n",
       "      <td>Driver of a Motor Vehicle In-Transport</td>\n",
       "      <td>0</td>\n",
       "      <td>No Apparent Injury (O)</td>\n",
       "      <td>11</td>\n",
       "      <td>Front Seat, Left Side</td>\n",
       "      <td>7</td>\n",
       "      <td>None Used/Not Applicable</td>\n",
       "      <td>7</td>\n",
       "      <td>None Used/Not Applicable</td>\n",
       "      <td>1</td>\n",
       "      <td>Yes (Alcohol Involved)</td>\n",
       "      <td>88</td>\n",
       "    </tr>\n",
       "    <tr>\n",
       "      <th>95754</th>\n",
       "      <td>560118</td>\n",
       "      <td>1</td>\n",
       "      <td>2</td>\n",
       "      <td>43</td>\n",
       "      <td>Female</td>\n",
       "      <td>2</td>\n",
       "      <td>Passenger of a Motor Vehicle In-Transport</td>\n",
       "      <td>4</td>\n",
       "      <td>Fatal Injury (K)</td>\n",
       "      <td>23</td>\n",
       "      <td>Second Seat, Right Side</td>\n",
       "      <td>7</td>\n",
       "      <td>None Used/Not Applicable</td>\n",
       "      <td>7</td>\n",
       "      <td>None Used/Not Applicable</td>\n",
       "      <td>8</td>\n",
       "      <td>Not Reported</td>\n",
       "      <td>17</td>\n",
       "    </tr>\n",
       "    <tr>\n",
       "      <th>95755</th>\n",
       "      <td>560118</td>\n",
       "      <td>1</td>\n",
       "      <td>3</td>\n",
       "      <td>30</td>\n",
       "      <td>Male</td>\n",
       "      <td>2</td>\n",
       "      <td>Passenger of a Motor Vehicle In-Transport</td>\n",
       "      <td>3</td>\n",
       "      <td>Suspected Serious Injury (A)</td>\n",
       "      <td>21</td>\n",
       "      <td>Second Seat, Left Side</td>\n",
       "      <td>7</td>\n",
       "      <td>None Used/Not Applicable</td>\n",
       "      <td>7</td>\n",
       "      <td>None Used/Not Applicable</td>\n",
       "      <td>8</td>\n",
       "      <td>Not Reported</td>\n",
       "      <td>88</td>\n",
       "    </tr>\n",
       "    <tr>\n",
       "      <th>95756</th>\n",
       "      <td>560118</td>\n",
       "      <td>1</td>\n",
       "      <td>4</td>\n",
       "      <td>22</td>\n",
       "      <td>Male</td>\n",
       "      <td>2</td>\n",
       "      <td>Passenger of a Motor Vehicle In-Transport</td>\n",
       "      <td>0</td>\n",
       "      <td>No Apparent Injury (O)</td>\n",
       "      <td>13</td>\n",
       "      <td>Front Seat, Right Side</td>\n",
       "      <td>7</td>\n",
       "      <td>None Used/Not Applicable</td>\n",
       "      <td>7</td>\n",
       "      <td>None Used/Not Applicable</td>\n",
       "      <td>8</td>\n",
       "      <td>Not Reported</td>\n",
       "      <td>88</td>\n",
       "    </tr>\n",
       "  </tbody>\n",
       "</table>\n",
       "<p>95757 rows × 18 columns</p>\n",
       "</div>"
      ],
      "text/plain": [
       "       ST_CASE  VEH_NO  PER_NO  AGE SEXNAME  PER_TYP  \\\n",
       "0        10001       1       1   37    Male        1   \n",
       "1        10001       2       1   58  Female        1   \n",
       "2        10001       2       2   60  Female        2   \n",
       "3        10002       1       1   57  Female        1   \n",
       "4        10002       2       1   55    Male        1   \n",
       "...        ...     ...     ...  ...     ...      ...   \n",
       "95752   560117       1       1   43    Male        1   \n",
       "95753   560118       1       1   30    Male        1   \n",
       "95754   560118       1       2   43  Female        2   \n",
       "95755   560118       1       3   30    Male        2   \n",
       "95756   560118       1       4   22    Male        2   \n",
       "\n",
       "                                     PER_TYPNAME  INJ_SEV  \\\n",
       "0         Driver of a Motor Vehicle In-Transport        4   \n",
       "1         Driver of a Motor Vehicle In-Transport        0   \n",
       "2      Passenger of a Motor Vehicle In-Transport        0   \n",
       "3         Driver of a Motor Vehicle In-Transport        4   \n",
       "4         Driver of a Motor Vehicle In-Transport        4   \n",
       "...                                          ...      ...   \n",
       "95752     Driver of a Motor Vehicle In-Transport        4   \n",
       "95753     Driver of a Motor Vehicle In-Transport        0   \n",
       "95754  Passenger of a Motor Vehicle In-Transport        4   \n",
       "95755  Passenger of a Motor Vehicle In-Transport        3   \n",
       "95756  Passenger of a Motor Vehicle In-Transport        0   \n",
       "\n",
       "                        INJ_SEVNAME  SEAT_POS             SEAT_POSNAME  \\\n",
       "0                  Fatal Injury (K)        11    Front Seat, Left Side   \n",
       "1            No Apparent Injury (O)        11    Front Seat, Left Side   \n",
       "2            No Apparent Injury (O)        13   Front Seat, Right Side   \n",
       "3                  Fatal Injury (K)        11    Front Seat, Left Side   \n",
       "4                  Fatal Injury (K)        11    Front Seat, Left Side   \n",
       "...                             ...       ...                      ...   \n",
       "95752              Fatal Injury (K)        11    Front Seat, Left Side   \n",
       "95753        No Apparent Injury (O)        11    Front Seat, Left Side   \n",
       "95754              Fatal Injury (K)        23  Second Seat, Right Side   \n",
       "95755  Suspected Serious Injury (A)        21   Second Seat, Left Side   \n",
       "95756        No Apparent Injury (O)        13   Front Seat, Right Side   \n",
       "\n",
       "       REST_MIS              REST_MISNAME  HELM_MIS              HELM_MISNAME  \\\n",
       "0             7  None Used/Not Applicable         7  None Used/Not Applicable   \n",
       "1             0   No Indication of Misuse         7  None Used/Not Applicable   \n",
       "2             0   No Indication of Misuse         7  None Used/Not Applicable   \n",
       "3             0   No Indication of Misuse         7  None Used/Not Applicable   \n",
       "4             0   No Indication of Misuse         7  None Used/Not Applicable   \n",
       "...         ...                       ...       ...                       ...   \n",
       "95752         7  None Used/Not Applicable         7  None Used/Not Applicable   \n",
       "95753         7  None Used/Not Applicable         7  None Used/Not Applicable   \n",
       "95754         7  None Used/Not Applicable         7  None Used/Not Applicable   \n",
       "95755         7  None Used/Not Applicable         7  None Used/Not Applicable   \n",
       "95756         7  None Used/Not Applicable         7  None Used/Not Applicable   \n",
       "\n",
       "       DRINKING               DRINKINGNAME  DEATH_DA  \n",
       "0             0  No (Alcohol Not Involved)         1  \n",
       "1             0  No (Alcohol Not Involved)        88  \n",
       "2             8               Not Reported        88  \n",
       "3             9        Reported as Unknown         1  \n",
       "4             9        Reported as Unknown         1  \n",
       "...         ...                        ...       ...  \n",
       "95752         1     Yes (Alcohol Involved)        22  \n",
       "95753         1     Yes (Alcohol Involved)        88  \n",
       "95754         8               Not Reported        17  \n",
       "95755         8               Not Reported        88  \n",
       "95756         8               Not Reported        88  \n",
       "\n",
       "[95757 rows x 18 columns]"
      ]
     },
     "execution_count": 83,
     "metadata": {},
     "output_type": "execute_result"
    }
   ],
   "source": [
    "df_person"
   ]
  },
  {
   "cell_type": "code",
   "execution_count": 160,
   "metadata": {},
   "outputs": [
    {
     "data": {
      "text/plain": [
       "95757"
      ]
     },
     "execution_count": 160,
     "metadata": {},
     "output_type": "execute_result"
    }
   ],
   "source": [
    "# Toma el dataframe df_person y lo mete dentro de la tabla ya creada en MySQL Workbench 'person'\n",
    "df_person.to_sql('person', engine, index=False, if_exists='append')"
   ]
  },
  {
   "cell_type": "markdown",
   "metadata": {},
   "source": [
    "## Actualización del dataset 'vehicle'"
   ]
  },
  {
   "cell_type": "code",
   "execution_count": 49,
   "metadata": {},
   "outputs": [
    {
     "name": "stderr",
     "output_type": "stream",
     "text": [
      "Downloading...\n",
      "From (original): https://drive.google.com/uc?export=download&id=12fC_v0KQ6z4cBoZYVVqVfQPYsZyzSfMS\n",
      "From (redirected): https://drive.google.com/uc?export=download&id=12fC_v0KQ6z4cBoZYVVqVfQPYsZyzSfMS&confirm=t&uuid=e7ca9404-5572-4090-80de-21fe2466e9d9\n",
      "To: c:\\Users\\perez\\OneDrive\\Documentos\\GitHub\\Proyectos\\final_project\\final_project\\data\\datain\\vehicle.csv\n",
      "100%|██████████| 113M/113M [00:02<00:00, 38.7MB/s] \n",
      "C:\\Users\\perez\\AppData\\Local\\Temp\\ipykernel_30332\\3748650065.py:13: DtypeWarning: Columns (14,56,58,176,178) have mixed types. Specify dtype option on import or set low_memory=False.\n",
      "  df_vehicle = pd.read_csv(output, encoding='latin1')\n"
     ]
    },
    {
     "name": "stdout",
     "output_type": "stream",
     "text": [
      "   STATE STATENAME  ST_CASE  VEH_NO  VE_FORMS  NUMOCCS NUMOCCSNAME  DAY  \\\n",
      "0      1   Alabama    10001       1         2        1          01    1   \n",
      "1      1   Alabama    10001       2         2        2          02    1   \n",
      "2      1   Alabama    10002       1         2        1          01    1   \n",
      "3      1   Alabama    10002       2         2        4          04    1   \n",
      "4      1   Alabama    10003       1         1        2          02    1   \n",
      "\n",
      "   DAYNAME  MONTH  ... GVWR_FROM  \\\n",
      "0        1      1  ...        11   \n",
      "1        1      1  ...        11   \n",
      "2        1      1  ...        11   \n",
      "3        1      1  ...        11   \n",
      "4        1      1  ...        11   \n",
      "\n",
      "                                    GVWR_FROMNAME GVWR_TO  \\\n",
      "0  Class 1: 6,000 lbs. or less (2,722 kg or less)      11   \n",
      "1  Class 1: 6,000 lbs. or less (2,722 kg or less)      11   \n",
      "2  Class 1: 6,000 lbs. or less (2,722 kg or less)      11   \n",
      "3  Class 1: 6,000 lbs. or less (2,722 kg or less)      11   \n",
      "4  Class 1: 6,000 lbs. or less (2,722 kg or less)      11   \n",
      "\n",
      "                                      GVWR_TONAME TRLR1GVWR  \\\n",
      "0  Class 1: 6,000 lbs. or less (2,722 kg or less)        77   \n",
      "1  Class 1: 6,000 lbs. or less (2,722 kg or less)        77   \n",
      "2  Class 1: 6,000 lbs. or less (2,722 kg or less)        77   \n",
      "3  Class 1: 6,000 lbs. or less (2,722 kg or less)        77   \n",
      "4  Class 1: 6,000 lbs. or less (2,722 kg or less)        77   \n",
      "\n",
      "       TRLR1GVWRNAME TRLR2GVWR      TRLR2GVWRNAME TRLR3GVWR      TRLR3GVWRNAME  \n",
      "0  No Trailing Units        77  No Trailing Units        77  No Trailing Units  \n",
      "1  No Trailing Units        77  No Trailing Units        77  No Trailing Units  \n",
      "2  No Trailing Units        77  No Trailing Units        77  No Trailing Units  \n",
      "3  No Trailing Units        77  No Trailing Units        77  No Trailing Units  \n",
      "4  No Trailing Units        77  No Trailing Units        77  No Trailing Units  \n",
      "\n",
      "[5 rows x 201 columns]\n"
     ]
    }
   ],
   "source": [
    "# id del archivo en Google Drive\n",
    "file_id = '12fC_v0KQ6z4cBoZYVVqVfQPYsZyzSfMS'\n",
    "\n",
    "# Construye la url para la descarga de datos\n",
    "url = f'https://drive.google.com/uc?export=download&id={file_id}'\n",
    "\n",
    "# Descarga el archivo con gdown\n",
    "output = '../data/datain/vehicle.csv'  # Especifica el camino donde quieres que se guarde el archivo\n",
    "gdown.download(url, output, quiet=False)\n",
    "\n",
    "# Lee el csv descargado en un dataframe\n",
    "try:\n",
    "    df_vehicle = pd.read_csv(output, encoding='latin1')\n",
    "    print(df_vehicle.head())  # Muestra las primeras filas del dataframe\n",
    "except UnicodeDecodeError as e:\n",
    "    # Gestiona Unicode error si sucede\n",
    "    print(f\"Error decoding the CSV file: {e}\")"
   ]
  },
  {
   "cell_type": "code",
   "execution_count": 50,
   "metadata": {},
   "outputs": [],
   "source": [
    "# Elimina las columnas que no se necesitan\n",
    "columns_to_drop = ['STATE', 'STATENAME', 'VE_FORMS', 'NUMOCCSNAME', 'DAY', 'DAYNAME', 'MONTH', 'MONTHNAME', 'HOUR', 'HOURNAME', 'MINUTE', 'MINUTENAME', 'HARM_EV', 'HARM_EVNAME', 'MAN_COLL',\\\n",
    "                   'MAN_COLLNAME', 'REG_STAT', 'REG_STATNAME', 'VIN', 'VINNAME', 'VIN_1', 'VIN_2', 'VIN_3', 'VIN_4', 'VIN_5', 'VIN_6', 'VIN_7', 'VIN_8', 'VIN_9', 'VIN_10', 'VIN_11', 'VIN_12',\\\n",
    "                    'J_KNIFE', 'J_KNIFENAME', 'MCARR_I1', 'MCARR_I1NAME', 'MCARR_I2', 'MCARR_I2NAME', 'MCARR_ID', 'MCARR_IDNAME', 'V_CONFIG', 'V_CONFIGNAME', 'CARGO_BT', 'CARGO_BTNAME',\\\n",
    "                        'HAZ_PLAC', 'HAZ_PLACNAME', 'HAZ_ID', 'HAZ_IDNAME', 'HAZ_CNO', 'HAZ_CNONAME', 'HAZ_REL', 'HAZ_RELNAME', 'TRAV_SPNAME', 'UNDEROVERRIDE', 'UNDEROVERRIDENAME', 'DEFORMED',\\\n",
    "                            'DEFORMEDNAME', 'L_STATE', 'L_STATENAME', 'DR_ZIP', 'DR_ZIPNAME', 'CDL_STAT', 'CDL_STATNAME', 'L_ENDORS', 'L_ENDORSNAME', 'L_STATUS', 'L_STATUSNAME', 'L_TYPE', 'L_TYPENAME',\\\n",
    "                                'DR_HGT', 'DR_HGTNAME', 'DR_WGT', 'DR_WGTNAME', 'PREV_OTH', 'PREV_OTHNAME', 'FIRST_MO', 'FIRST_MONAME', 'FIRST_YR', 'FIRST_YRNAME', 'LAST_MO', 'LAST_MONAME',\\\n",
    "                                    'LAST_YR', 'LAST_YRNAME', 'VTRAFWAY', 'VTRAFWAYNAME', 'VALIGN', 'VALIGNNAME', 'VPROFILE', 'VPROFILENAME', 'VPAVETYP', 'VPAVETYPNAME', 'VTRAFCON',\\\n",
    "                                          'VTRAFCONNAME', 'VTCONT_F', 'VTCONT_FNAME', 'TRLR1GVWR', 'TRLR1GVWRNAME', 'TRLR2GVWR', 'TRLR2GVWRNAME', 'TRLR3GVWR', 'TRLR3GVWRNAME', 'UNITTYPE', 'UNITTYPENAME',\\\n",
    "                                            'TRLR1VIN', 'TRLR1VINNAME', 'TRLR2VIN', 'TRLR2VINNAME', 'TRLR3VIN', 'TRLR3VINNAME', 'DR_DRINK', 'DR_DRINKNAME', 'MAKE', 'MAKENAME', 'MODEL', 'MAK_MOD',\\\n",
    "                                                'MAK_MODNAME', 'TOW_VEH', 'TOW_VEHNAME', 'VSPD_LIM', 'VSPD_LIMNAME', 'TRAV_SP', 'GVWR_TO', 'GVWR_TONAME', 'OWNER', 'OWNERNAME', 'VNUM_LAN', 'VNUM_LANNAME',\\\n",
    "                                                    'P_CRASH3', 'P_CRASH3NAME', 'PCRASH4', 'PCRASH4NAME', 'PCRASH5', 'PCRASH5NAME', 'P_CRASH1', 'P_CRASH1NAME', 'P_CRASH2', 'P_CRASH2NAME', 'ICFINALBODY',\\\n",
    "                                                        'ICFINALBODYNAME', 'MOD_YEARNAME', 'HAZ_INV', 'HAZ_INVNAME', 'DEATHS', 'FIRE_EXP', 'FIRE_EXPNAME', 'PREV_SUS2', 'PREV_SUS2NAME', 'PREV_SUS3',\\\n",
    "                                                            'PREV_SUS3NAME', 'PREV_ACCNAME', 'PREV_DWINAME', 'PREV_SPDNAME']\n",
    "\n",
    "df_vehicle = df_vehicle.drop(columns=columns_to_drop)"
   ]
  },
  {
   "cell_type": "code",
   "execution_count": 51,
   "metadata": {},
   "outputs": [],
   "source": [
    "# Reordena las columnas para que tengan el mismo orden que en la tabla creada en MySQL Workbench\n",
    "new_column_order = ['ST_CASE', 'VEH_NO', 'BODY_TYP', 'BODY_TYPNAME', 'VPICMAKE', 'VPICMAKENAME', 'VPICMODEL', 'VPICMODELNAME', 'VPICBODYCLASS', 'VPICBODYCLASSNAME',\\\n",
    "                    'MOD_YEAR', 'GVWR_FROM', 'GVWR_FROMNAME', 'BUS_USE', 'BUS_USENAME', 'SPEC_USE', 'SPEC_USENAME', 'EMER_USE', 'EMER_USENAME', 'NUMOCCS',\\\n",
    "                        'ROLLOVER', 'ROLLOVERNAME', 'ROLINLOC', 'ROLINLOCNAME', 'IMPACT1', 'IMPACT1NAME', 'TOWED', 'TOWEDNAME', 'M_HARM', 'M_HARMNAME',\\\n",
    "                            'VSURCOND', 'VSURCONDNAME', 'ACC_TYPE', 'ACC_TYPENAME', 'DR_PRES', 'DR_PRESNAME', 'L_COMPL', 'L_COMPLNAME', 'L_RESTRI', 'L_RESTRINAME',\\\n",
    "                                'PREV_ACC', 'PREV_SUS1', 'PREV_DWI', 'PREV_SPD', 'SPEEDREL', 'SPEEDRELNAME',\\\n",
    "                                'HIT_RUN', 'HIT_RUNNAME']"
   ]
  },
  {
   "cell_type": "code",
   "execution_count": 52,
   "metadata": {},
   "outputs": [],
   "source": [
    "# Actualiza el dataframe con el nuevo orden\n",
    "df_vehicle = df_vehicle[new_column_order]"
   ]
  },
  {
   "cell_type": "code",
   "execution_count": 53,
   "metadata": {},
   "outputs": [
    {
     "data": {
      "text/plain": [
       "99"
      ]
     },
     "execution_count": 53,
     "metadata": {},
     "output_type": "execute_result"
    }
   ],
   "source": [
    "# Mira la longitud máxima de la columna BODY_TYPNAME tipo texto para calcular el VARCHAR que hay que poner al crear la tabla\n",
    "col_len = df_vehicle['BODY_TYPNAME'].apply(len)\n",
    "max_len = col_len.max()\n",
    "max_len"
   ]
  },
  {
   "cell_type": "code",
   "execution_count": 54,
   "metadata": {},
   "outputs": [
    {
     "data": {
      "text/plain": [
       "51"
      ]
     },
     "execution_count": 54,
     "metadata": {},
     "output_type": "execute_result"
    }
   ],
   "source": [
    "# Mira la longitud máxima de la columna VPICMAKENAME tipo texto para calcular el VARCHAR que hay que poner al crear la tabla\n",
    "col_len = df_vehicle['VPICMAKENAME'].apply(len)\n",
    "max_len = col_len.max()\n",
    "max_len"
   ]
  },
  {
   "cell_type": "code",
   "execution_count": 55,
   "metadata": {},
   "outputs": [
    {
     "data": {
      "text/plain": [
       "103"
      ]
     },
     "execution_count": 55,
     "metadata": {},
     "output_type": "execute_result"
    }
   ],
   "source": [
    "# Mira la longitud máxima de la columna VPICMODELNAME tipo texto para calcular el VARCHAR que hay que poner al crear la tabla\n",
    "col_len = df_vehicle['VPICMODELNAME'].apply(len)\n",
    "max_len = col_len.max()\n",
    "max_len"
   ]
  },
  {
   "cell_type": "code",
   "execution_count": 56,
   "metadata": {},
   "outputs": [
    {
     "data": {
      "text/plain": [
       "75"
      ]
     },
     "execution_count": 56,
     "metadata": {},
     "output_type": "execute_result"
    }
   ],
   "source": [
    "# Mira la longitud máxima de la columna VPICBODYCLASSNAME tipo texto para calcular el VARCHAR que hay que poner al crear la tabla\n",
    "col_len = df_vehicle['VPICBODYCLASSNAME'].apply(len)\n",
    "max_len = col_len.max()\n",
    "max_len"
   ]
  },
  {
   "cell_type": "code",
   "execution_count": 57,
   "metadata": {},
   "outputs": [
    {
     "data": {
      "text/plain": [
       "52"
      ]
     },
     "execution_count": 57,
     "metadata": {},
     "output_type": "execute_result"
    }
   ],
   "source": [
    "# Mira la longitud máxima de la columna GVWR_FROMNAME tipo texto para calcular el VARCHAR que hay que poner al crear la tabla\n",
    "col_len = df_vehicle['GVWR_FROMNAME'].apply(len)\n",
    "max_len = col_len.max()\n",
    "max_len"
   ]
  },
  {
   "cell_type": "code",
   "execution_count": 58,
   "metadata": {},
   "outputs": [
    {
     "data": {
      "text/plain": [
       "33"
      ]
     },
     "execution_count": 58,
     "metadata": {},
     "output_type": "execute_result"
    }
   ],
   "source": [
    "# Mira la longitud máxima de la columna BUS_USENAME tipo texto para calcular el VARCHAR que hay que poner al crear la tabla\n",
    "col_len = df_vehicle['BUS_USENAME'].apply(len)\n",
    "max_len = col_len.max()\n",
    "max_len"
   ]
  },
  {
   "cell_type": "code",
   "execution_count": 59,
   "metadata": {},
   "outputs": [
    {
     "data": {
      "text/plain": [
       "46"
      ]
     },
     "execution_count": 59,
     "metadata": {},
     "output_type": "execute_result"
    }
   ],
   "source": [
    "# Mira la longitud máxima de la columna SPEC_USENAME tipo texto para calcular el VARCHAR que hay que poner al crear la tabla\n",
    "col_len = df_vehicle['SPEC_USENAME'].apply(len)\n",
    "max_len = col_len.max()\n",
    "max_len"
   ]
  },
  {
   "cell_type": "code",
   "execution_count": 60,
   "metadata": {},
   "outputs": [
    {
     "data": {
      "text/plain": [
       "63"
      ]
     },
     "execution_count": 60,
     "metadata": {},
     "output_type": "execute_result"
    }
   ],
   "source": [
    "# Mira la longitud máxima de la columna EMER_USENAME tipo texto para calcular el VARCHAR que hay que poner al crear la tabla\n",
    "col_len = df_vehicle['EMER_USENAME'].apply(len)\n",
    "max_len = col_len.max()\n",
    "max_len"
   ]
  },
  {
   "cell_type": "code",
   "execution_count": 61,
   "metadata": {},
   "outputs": [
    {
     "data": {
      "text/plain": [
       "14"
      ]
     },
     "execution_count": 61,
     "metadata": {},
     "output_type": "execute_result"
    }
   ],
   "source": [
    "# Mira la longitud máxima de la columna ROLLOVERNAME tipo texto para calcular el VARCHAR que hay que poner al crear la tabla\n",
    "col_len = df_vehicle['ROLLOVERNAME'].apply(len)\n",
    "max_len = col_len.max()\n",
    "max_len"
   ]
  },
  {
   "cell_type": "code",
   "execution_count": 62,
   "metadata": {},
   "outputs": [
    {
     "data": {
      "text/plain": [
       "21"
      ]
     },
     "execution_count": 62,
     "metadata": {},
     "output_type": "execute_result"
    }
   ],
   "source": [
    "# Mira la longitud máxima de la columna ROLINLOCNAME tipo texto para calcular el VARCHAR que hay que poner al crear la tabla\n",
    "col_len = df_vehicle['ROLINLOCNAME'].apply(len)\n",
    "max_len = col_len.max()\n",
    "max_len"
   ]
  },
  {
   "cell_type": "code",
   "execution_count": 63,
   "metadata": {},
   "outputs": [
    {
     "data": {
      "text/plain": [
       "61"
      ]
     },
     "execution_count": 63,
     "metadata": {},
     "output_type": "execute_result"
    }
   ],
   "source": [
    "# Mira la longitud máxima de la columna IMPACT1NAME tipo texto para calcular el VARCHAR que hay que poner al crear la tabla\n",
    "col_len = df_vehicle['IMPACT1NAME'].apply(len)\n",
    "max_len = col_len.max()\n",
    "max_len"
   ]
  },
  {
   "cell_type": "code",
   "execution_count": 64,
   "metadata": {},
   "outputs": [
    {
     "data": {
      "text/plain": [
       "19"
      ]
     },
     "execution_count": 64,
     "metadata": {},
     "output_type": "execute_result"
    }
   ],
   "source": [
    "# Mira la longitud máxima de la columna TOWEDNAME tipo texto para calcular el VARCHAR que hay que poner al crear la tabla\n",
    "col_len = df_vehicle['TOWEDNAME'].apply(len)\n",
    "max_len = col_len.max()\n",
    "max_len"
   ]
  },
  {
   "cell_type": "code",
   "execution_count": 65,
   "metadata": {},
   "outputs": [
    {
     "data": {
      "text/plain": [
       "133"
      ]
     },
     "execution_count": 65,
     "metadata": {},
     "output_type": "execute_result"
    }
   ],
   "source": [
    "# Mira la longitud máxima de la columna M_HARMNAME tipo texto para calcular el VARCHAR que hay que poner al crear la tabla\n",
    "col_len = df_vehicle['M_HARMNAME'].apply(len)\n",
    "max_len = col_len.max()\n",
    "max_len"
   ]
  },
  {
   "cell_type": "code",
   "execution_count": 66,
   "metadata": {},
   "outputs": [
    {
     "data": {
      "text/plain": [
       "33"
      ]
     },
     "execution_count": 66,
     "metadata": {},
     "output_type": "execute_result"
    }
   ],
   "source": [
    "# Mira la longitud máxima de la columna VSURCONDNAME tipo texto para calcular el VARCHAR que hay que poner al crear la tabla\n",
    "col_len = df_vehicle['VSURCONDNAME'].apply(len)\n",
    "max_len = col_len.max()\n",
    "max_len"
   ]
  },
  {
   "cell_type": "code",
   "execution_count": 67,
   "metadata": {},
   "outputs": [
    {
     "data": {
      "text/plain": [
       "92"
      ]
     },
     "execution_count": 67,
     "metadata": {},
     "output_type": "execute_result"
    }
   ],
   "source": [
    "# Mira la longitud máxima de la columna ACC_TYPENAME tipo texto para calcular el VARCHAR que hay que poner al crear la tabla\n",
    "col_len = df_vehicle['ACC_TYPENAME'].apply(len)\n",
    "max_len = col_len.max()\n",
    "max_len"
   ]
  },
  {
   "cell_type": "code",
   "execution_count": 68,
   "metadata": {},
   "outputs": [
    {
     "data": {
      "text/plain": [
       "32"
      ]
     },
     "execution_count": 68,
     "metadata": {},
     "output_type": "execute_result"
    }
   ],
   "source": [
    "# Mira la longitud máxima de la columna DR_PRESNAME tipo texto para calcular el VARCHAR que hay que poner al crear la tabla\n",
    "col_len = df_vehicle['DR_PRESNAME'].apply(len)\n",
    "max_len = col_len.max()\n",
    "max_len"
   ]
  },
  {
   "cell_type": "code",
   "execution_count": 69,
   "metadata": {},
   "outputs": [
    {
     "data": {
      "text/plain": [
       "63"
      ]
     },
     "execution_count": 69,
     "metadata": {},
     "output_type": "execute_result"
    }
   ],
   "source": [
    "# Mira la longitud máxima de la columna L_COMPLNAME tipo texto para calcular el VARCHAR que hay que poner al crear la tabla\n",
    "col_len = df_vehicle['L_COMPLNAME'].apply(len)\n",
    "max_len = col_len.max()\n",
    "max_len"
   ]
  },
  {
   "cell_type": "code",
   "execution_count": 70,
   "metadata": {},
   "outputs": [
    {
     "data": {
      "text/plain": [
       "43"
      ]
     },
     "execution_count": 70,
     "metadata": {},
     "output_type": "execute_result"
    }
   ],
   "source": [
    "# Mira la longitud máxima de la columna L_RESTRINAME tipo texto para calcular el VARCHAR que hay que poner al crear la tabla\n",
    "col_len = df_vehicle['L_RESTRINAME'].apply(len)\n",
    "max_len = col_len.max()\n",
    "max_len"
   ]
  },
  {
   "cell_type": "code",
   "execution_count": 71,
   "metadata": {},
   "outputs": [
    {
     "data": {
      "text/plain": [
       "43"
      ]
     },
     "execution_count": 71,
     "metadata": {},
     "output_type": "execute_result"
    }
   ],
   "source": [
    "# Mira la longitud máxima de la columna SPEEDRELNAME tipo texto para calcular el VARCHAR que hay que poner al crear la tabla\n",
    "col_len = df_vehicle['SPEEDRELNAME'].apply(len)\n",
    "max_len = col_len.max()\n",
    "max_len"
   ]
  },
  {
   "cell_type": "code",
   "execution_count": 72,
   "metadata": {},
   "outputs": [
    {
     "data": {
      "text/plain": [
       "3"
      ]
     },
     "execution_count": 72,
     "metadata": {},
     "output_type": "execute_result"
    }
   ],
   "source": [
    "# Mira la longitud máxima de la columna HIT_RUNNAME tipo texto para calcular el VARCHAR que hay que poner al crear la tabla\n",
    "col_len = df_vehicle['HIT_RUNNAME'].apply(len)\n",
    "max_len = col_len.max()\n",
    "max_len"
   ]
  },
  {
   "cell_type": "code",
   "execution_count": 73,
   "metadata": {},
   "outputs": [
    {
     "data": {
      "text/plain": [
       "60501"
      ]
     },
     "execution_count": 73,
     "metadata": {},
     "output_type": "execute_result"
    }
   ],
   "source": [
    "# Toma el dataframe df_vehicle y lo mete dentro de la tabla ya creada en MySQL Workbench 'vehicle'\n",
    "df_vehicle.to_sql('vehicle', engine, index=False, if_exists='append')"
   ]
  }
 ],
 "metadata": {
  "kernelspec": {
   "display_name": "final_project",
   "language": "python",
   "name": "python3"
  },
  "language_info": {
   "codemirror_mode": {
    "name": "ipython",
    "version": 3
   },
   "file_extension": ".py",
   "mimetype": "text/x-python",
   "name": "python",
   "nbconvert_exporter": "python",
   "pygments_lexer": "ipython3",
   "version": "3.12.3"
  }
 },
 "nbformat": 4,
 "nbformat_minor": 2
}
